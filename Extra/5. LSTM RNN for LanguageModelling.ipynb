{
 "cells": [
 {
   "cell_type": "markdown",
   "metadata": {},
   "source": [
    "###  **Learner's Name**: Faiber Alonso Leal"
   ]
  },
  {
   "cell_type": "markdown",
   "metadata": {},
   "source": [
    "<img src=\"https://cf-courses-data.s3.us.cloud-object-storage.appdomain.cloud/IBMDeveloperSkillsNetwork-DL0120EN-SkillsNetwork/images/IDSN-logo.png\" width=\"300\" alt=\"cognitiveclass.ai logo\">\n",
    "\n",
    "<h1 align=\"center\"><font size=\"5\">RECURRENT NETWORKS and LSTM IN DEEP LEARNING</font></h1>\n"
   ]
  },
  {
   "cell_type": "markdown",
   "metadata": {},
   "source": [
    "Estimated time needed: **30** minutes\n"
   ]
  },
  {
   "cell_type": "markdown",
   "metadata": {},
   "source": [
    "<h2>Applying Recurrent Neural Networks/LSTM for Language Modeling</h2>\n",
    "Hello and welcome to this part. In this notebook, we will go over the topic of Language Modelling, and create a Recurrent Neural Network model based on the Long Short-Term Memory unit to train and benchmark on the Penn Treebank dataset. By the end of this notebook, you should be able to understand how TensorFlow builds and executes a RNN model for Language Modelling.\n"
   ]
  },
  {
   "cell_type": "markdown",
   "metadata": {},
   "source": [
    "<h2>The Objective</h2>\n",
    "By now, you should have an understanding of how Recurrent Networks work -- a specialized model to process sequential data by keeping track of the \"state\" or context. In this notebook, we go over a TensorFlow code snippet for creating a model focused on <b>Language Modelling</b> -- a very relevant task that is the cornerstone of many different linguistic problems such as <b>Speech Recognition, Machine Translation and Image Captioning</b>. For this, we will be using the Penn Treebank dataset, which is an often-used dataset for benchmarking Language Modelling models.\n"
   ]
  },
  {
   "cell_type": "markdown",
   "metadata": {},
   "source": [
    "\n",
    "<h2>Table of Contents</h2>\n",
    "<ol>\n",
    "    <li><a href=\"#language_modelling\">What exactly is Language Modelling?</a></li>\n",
    "    <li><a href=\"#treebank_dataset\">The Penn Treebank dataset</a></li>\n",
    "    <li><a href=\"#word_embedding\">Word Embedding</a></li>\n",
    "    <li><a href=\"#building_lstm_model\">Building the LSTM model for Language Modeling</a></li>\n",
    "    <li><a href=\"#ltsm\">LTSM</a></li>\n",
    "</ol>\n",
    "<p></p>\n",
    "</div>\n",
    "<br>\n"
   ]
  },
  {
   "cell_type": "markdown",
   "metadata": {},
   "source": [
    "--------\n"
   ]
  },
  {
   "cell_type": "markdown",
   "metadata": {},
   "source": [
    "<a id=\"language_modelling\"></a>\n",
    "<h2>What exactly is Language Modelling?</h2>\n",
    "Language Modelling, to put it simply, <b>is the task of assigning probabilities to sequences of words</b>. This means that, given a context of one or a sequence of words in the language the model was trained on, the model should provide the next most probable words or sequence of words that follows from the given sequence of words the sentence. Language Modelling is one of the most important tasks in Natural Language Processing.\n",
    "\n",
    "<img src=\"https://ibm.box.com/shared/static/1d1i5gub6wljby2vani2vzxp0xsph702.png\" width=\"1080\">\n",
    "<center><i>Example of a sentence being predicted</i></center>\n",
    "<br><br>\n",
    "In this example, one can see the predictions for the next word of a sentence, given the context \"This is an\". As you can see, this boils down to a sequential data analysis task -- you are given a word or a sequence of words (the input data), and, given the context (the state), you need to find out what is the next word (the prediction). This kind of analysis is very important for language-related tasks such as <b>Speech Recognition, Machine Translation, Image Captioning, Text Correction</b> and many other very relevant problems. \n",
    "\n",
    "<img src=\"https://ibm.box.com/shared/static/az39idf9ipfdpc5ugifpgxnydelhyf3i.png\" width=\"1080\">\n",
    "<center><i>The above example is a schema of an RNN in execution</i></center>\n",
    "<br><br>\n",
    "As the above image shows, Recurrent Network models fit this problem like a glove. Alongside LSTM and its capacity to maintain the model's state for over one thousand time steps, we have all the tools we need to undertake this problem. The goal for this notebook is to create a model that can reach <b>low levels of perplexity</b> on our desired dataset.\n",
    "\n",
    "For Language Modelling problems, <b>perplexity</b> is the way to gauge efficiency. Perplexity is simply a measure of how well a probabilistic model is able to predict its sample. A higher-level way to explain this would be saying that <b>low perplexity means a higher degree of trust in the predictions the model makes</b>. Therefore, the lower perplexity is, the better.\n"
   ]
  },
  {
   "cell_type": "markdown",
   "metadata": {},
   "source": [
    "<a id=\"treebank_dataset\"></a>\n",
    "<h2>The Penn Treebank dataset</h2>\n",
    "Historically, datasets big enough for Natural Language Processing are hard to come by. This is in part due to the necessity of the sentences to be broken down and tagged with a certain degree of correctness -- or else the models trained on it won't be able to be correct at all. This means that we need a <b>large amount of data, annotated by or at least corrected by humans</b>. This is, of course, not an easy task at all.\n",
    "\n",
    "The Penn Treebank, or PTB for short, is a dataset maintained by the University of Pennsylvania. It is <i>huge</i> -- there are over <b>four million and eight hundred thousand</b> annotated words in it, all corrected by humans. It is composed of many different sources, from abstracts of Department of Energy papers to texts from the Library of America. Since it is verifiably correct and of such a huge size, the Penn Treebank is commonly used as a benchmark dataset for Language Modelling.\n",
    "\n",
    "The dataset is divided in different kinds of annotations, such as Piece-of-Speech, Syntactic and Semantic skeletons. For this example, we will simply use a sample of clean, non-annotated words (with the exception of one tag --<code>&lt;unk&gt;</code>\n",
    ", which is used for rare words such as uncommon proper nouns) for our model. This means that we just want to predict what the next words would be, not what they mean in context or their classes on a given sentence.\n",
    "\n",
    "<center>Example of text from the dataset we are going to use, <b>ptb.train</b></center>\n",
    "<br><br>\n",
    "\n",
    "<div class=\"alert alert-block alert-info\" style=\"margin-top: 20px\">\n",
    "    <center>the percentage of lung cancer deaths among the workers at the west <code>&lt;unk&gt;</code> mass. paper factory appears to be the highest for any asbestos workers studied in western industrialized countries he said \n",
    " the plant which is owned by <code>&lt;unk&gt;</code> & <code>&lt;unk&gt;</code> co. was under contract with <code>&lt;unk&gt;</code> to make the cigarette filters \n",
    " the finding probably will support those who argue that the U.S. should regulate the class of asbestos including <code>&lt;unk&gt;</code> more <code>&lt;unk&gt;</code> than the common kind of asbestos <code>&lt;unk&gt;</code> found in most schools and other buildings dr. <code>&lt;unk&gt;</code> said</center>\n",
    "</div>\n"
   ]
  },
  {
   "cell_type": "markdown",
   "metadata": {},
   "source": [
    "<a id=\"word_embedding\"></a>\n",
    "<h2>Word Embeddings</h2><br/>\n",
    "\n",
    "For better processing, in this example, we will make use of <a href=\"https://www.tensorflow.org/tutorials/word2vec/\"><b>word embeddings</b></a>, which is <b>a way of representing sentence structures or words as n-dimensional vectors (where n is a reasonably high number, such as 200 or 500) of real numbers</b>. Basically, we will assign each word a randomly-initialized vector, and input those into the network to be processed. After a number of iterations, these vectors are expected to assume values that help the network to correctly predict what it needs to -- in our case, the probable next word in the sentence. This is shown to be a very effective task in Natural Language Processing, and is a commonplace practice.\n",
    "<br><br>\n",
    "<font size=\"4\"><strong>\n",
    "$$Vec(\"Example\") = [0.02, 0.00, 0.00, 0.92, 0.30, \\ldots]$$\n",
    "</strong></font>\n",
    "<br>\n",
    "Word Embedding tends to group up similarly used words <i>reasonably</i> close together in the vectorial space. For example, if we use T-SNE (a dimensional reduction visualization algorithm) to flatten the dimensions of our vectors into a 2-dimensional space and plot these words in a 2-dimensional space, we might see something like this:\n",
    "\n",
    "<img src=\"https://ibm.box.com/shared/static/bqhc5dg879gcoabzhxra1w8rkg3od1cu.png\" width=\"800\">\n",
    "<center><i>T-SNE Mockup with clusters marked for easier visualization</i></center>\n",
    "<br><br>\n",
    "As you can see, words that are frequently used together, in place of each other, or in the same places as them tend to be grouped together -- being closer together the higher they are correlated. For example, \"None\" is pretty semantically close to \"Zero\", while a phrase that uses \"Italy\", you could probably also fit \"Germany\" in it, with little damage to the sentence structure. The vectorial \"closeness\" for similar words like this is a great indicator of a well-built model.\n",
    "\n",
    "<hr>\n",
    " \n"
   ]
  },
  {
   "cell_type": "markdown",
   "metadata": {},
   "source": [
    "We need to import the necessary modules for our code. We need <b><code>numpy</code></b> and <b><code>tensorflow</code></b>, obviously. Additionally, we can import directly the <b><code>tensorflow.models.rnn</code></b> model, which includes the function for building RNNs, and <b><code>tensorflow.models.rnn.ptb.reader</code></b> which is the helper module for getting the input data from the dataset we just downloaded.\n",
    "\n",
    "If you want to learn more take a look at https://github.com/tensorflow/models/blob/master/tutorials/rnn/ptb/reader.py\n"
   ]
  },
  {
   "cell_type": "code",
   "execution_count": null,
   "metadata": {
    "tags": []
   },
   "outputs": [],
   "source": [
    "!pip install tensorflow==2.9.0\n",
    "!pip install numpy==1.21.4\n"
   ]
  },
  {
   "cell_type": "code",
   "execution_count": 1,
   "metadata": {
    "tags": []
   },
   "outputs": [
    {
     "name": "stderr",
     "output_type": "stream",
     "text": [
      "2024-07-20 19:18:43.859528: I tensorflow/core/util/util.cc:169] oneDNN custom operations are on. You may see slightly different numerical results due to floating-point round-off errors from different computation orders. To turn them off, set the environment variable `TF_ENABLE_ONEDNN_OPTS=0`.\n",
      "2024-07-20 19:18:43.865903: W tensorflow/stream_executor/platform/default/dso_loader.cc:64] Could not load dynamic library 'libcudart.so.11.0'; dlerror: libcudart.so.11.0: cannot open shared object file: No such file or directory\n",
      "2024-07-20 19:18:43.865947: I tensorflow/stream_executor/cuda/cudart_stub.cc:29] Ignore above cudart dlerror if you do not have a GPU set up on your machine.\n"
     ]
    }
   ],
   "source": [
    "import time\n",
    "import numpy as np\n",
    "import tensorflow as tf\n",
    "if not tf.__version__ == '2.9.0':\n",
    "    print(tf.__version__)\n",
    "    raise ValueError('please upgrade to TensorFlow 2.9.0, or restart your Kernel (Kernel->Restart & Clear Output)')"
   ]
  },
  {
   "cell_type": "markdown",
   "metadata": {},
   "source": [
    "IMPORTANT! => Please restart the kernel by clicking on \"Kernel\"->\"Restart and Clear Outout\" and wait until all output disapears. Then your changes are beeing picked up\n"
   ]
  },
  {
   "cell_type": "code",
   "execution_count": 2,
   "metadata": {
    "tags": []
   },
   "outputs": [],
   "source": [
    "#!mkdir data\n",
    "#!mkdir data/ptb\n",
    "#!wget -q -O data/ptb/reader.py https://cf-courses-data.s3.us.cloud-object-storage.appdomain.cloud/IBMDeveloperSkillsNetwork-DL0120EN-SkillsNetwork/labs/Week3/data/ptb/reader.py\n",
    "#!cp data/ptb/reader.py .\n",
    "\n"
   ]
  },
  {
   "cell_type": "code",
   "execution_count": 3,
   "metadata": {
    "tags": []
   },
   "outputs": [],
   "source": [
    "# Copyright 2015 The TensorFlow Authors. All Rights Reserved.\n",
    "#\n",
    "# Licensed under the Apache License, Version 2.0 (the \"License\");\n",
    "# you may not use this file except in compliance with the License.\n",
    "# You may obtain a copy of the License at\n",
    "#\n",
    "#     http://www.apache.org/licenses/LICENSE-2.0\n",
    "#\n",
    "# Unless required by applicable law or agreed to in writing, software\n",
    "# distributed under the License is distributed on an \"AS IS\" BASIS,\n",
    "# WITHOUT WARRANTIES OR CONDITIONS OF ANY KIND, either express or implied.\n",
    "# See the License for the specific language governing permissions and\n",
    "# limitations under the License.\n",
    "# ==============================================================================\n",
    "\n",
    "\n",
    "\"\"\"Utilities for parsing PTB text files.\"\"\"\n",
    "from __future__ import absolute_import\n",
    "from __future__ import division\n",
    "from __future__ import print_function\n",
    "\n",
    "import collections\n",
    "import os\n",
    "\n",
    "import numpy as np\n",
    "import tensorflow as tf\n",
    "\n",
    "\n",
    "def _read_words(filename):\n",
    "  with tf.io.gfile.GFile(filename, \"r\") as f:\n",
    "    return f.read().replace(\"\\n\", \"<eos>\").split()\n",
    "\n",
    "\n",
    "def _build_vocab(filename):\n",
    "  data = _read_words(filename)\n",
    "\n",
    "  counter = collections.Counter(data)\n",
    "  count_pairs = sorted(counter.items(), key=lambda x: (-x[1], x[0]))\n",
    "\n",
    "  words, _ = list(zip(*count_pairs))\n",
    "  word_to_id = dict(zip(words, range(len(words))))\n",
    "\n",
    "  return word_to_id\n",
    "\n",
    "\n",
    "def _file_to_word_ids(filename, word_to_id):\n",
    "  data = _read_words(filename)\n",
    "  return [word_to_id[word] for word in data if word in word_to_id]\n",
    "\n",
    "\n",
    "def ptb_raw_data(data_path=None):\n",
    "  \"\"\"Load PTB raw data from data directory \"data_path\".\n",
    "\n",
    "  Reads PTB text files, converts strings to integer ids,\n",
    "  and performs mini-batching of the inputs.\n",
    "\n",
    "  The PTB dataset comes from Tomas Mikolov's webpage:\n",
    "\n",
    "  http://www.fit.vutbr.cz/~imikolov/rnnlm/simple-examples.tgz\n",
    "\n",
    "  Args:\n",
    "    data_path: string path to the directory where simple-examples.tgz has\n",
    "      been extracted.\n",
    "\n",
    "  Returns:\n",
    "    tuple (train_data, valid_data, test_data, vocabulary)\n",
    "    where each of the data objects can be passed to PTBIterator.\n",
    "  \"\"\"\n",
    "\n",
    "  train_path = os.path.join(data_path, \"ptb.train.txt\")\n",
    "  valid_path = os.path.join(data_path, \"ptb.valid.txt\")\n",
    "  test_path = os.path.join(data_path, \"ptb.test.txt\")\n",
    "\n",
    "  word_to_id = _build_vocab(train_path)\n",
    "  train_data = _file_to_word_ids(train_path, word_to_id)\n",
    "  valid_data = _file_to_word_ids(valid_path, word_to_id)\n",
    "  test_data = _file_to_word_ids(test_path, word_to_id)\n",
    "  vocabulary = len(word_to_id)\n",
    "  return train_data, valid_data, test_data, vocabulary, word_to_id\n",
    "\n",
    "\n",
    "def ptb_iterator(raw_data, batch_size, num_steps):\n",
    "  \"\"\"Iterate on the raw PTB data.\n",
    "\n",
    "  This generates batch_size pointers into the raw PTB data, and allows\n",
    "  minibatch iteration along these pointers.\n",
    "\n",
    "  Args:\n",
    "    raw_data: one of the raw data outputs from ptb_raw_data.\n",
    "    batch_size: int, the batch size.\n",
    "    num_steps: int, the number of unrolls.\n",
    "\n",
    "  Yields:\n",
    "    Pairs of the batched data, each a matrix of shape [batch_size, num_steps].\n",
    "    The second element of the tuple is the same data time-shifted to the\n",
    "    right by one.\n",
    "\n",
    "  Raises:\n",
    "    ValueError: if batch_size or num_steps are too high.\n",
    "  \"\"\"\n",
    "  raw_data = np.array(raw_data, dtype=np.int32)\n",
    "\n",
    "  data_len = len(raw_data)\n",
    "  batch_len = data_len // batch_size\n",
    "  data = np.zeros([batch_size, batch_len], dtype=np.int32)\n",
    "  for i in range(batch_size):\n",
    "    data[i] = raw_data[batch_len * i:batch_len * (i + 1)]\n",
    "\n",
    "  epoch_size = (batch_len - 1) // num_steps\n",
    "\n",
    "  if epoch_size == 0:\n",
    "    raise ValueError(\"epoch_size == 0, decrease batch_size or num_steps\")\n",
    "\n",
    "  for i in range(epoch_size):\n",
    "    x = data[:, i*num_steps:(i+1)*num_steps]\n",
    "    y = data[:, i*num_steps+1:(i+1)*num_steps+1]\n",
    "    yield (x, y)"
   ]
  },
  {
   "cell_type": "markdown",
   "metadata": {},
   "source": [
    "<a id=\"building_lstm_model\"></a>\n",
    "<h2>Building the LSTM model for Language Modeling</h2>\n",
    "Now that we know exactly what we are doing, we can start building our model using TensorFlow. The very first thing we need to do is download and extract the  dataset, which can be done by executing the code cell below.\n"
   ]
  },
  {
   "cell_type": "code",
   "execution_count": 4,
   "metadata": {
    "tags": []
   },
   "outputs": [
    {
     "name": "stdout",
     "output_type": "stream",
     "text": [
      "--2024-07-20 19:18:54--  https://cf-courses-data.s3.us.cloud-object-storage.appdomain.cloud/SPqCgT4JZp9royRjGgbqSA/data.zip\n",
      "Resolving cf-courses-data.s3.us.cloud-object-storage.appdomain.cloud (cf-courses-data.s3.us.cloud-object-storage.appdomain.cloud)... 169.63.118.104, 169.63.118.104\n",
      "Connecting to cf-courses-data.s3.us.cloud-object-storage.appdomain.cloud (cf-courses-data.s3.us.cloud-object-storage.appdomain.cloud)|169.63.118.104|:443... connected.\n",
      "HTTP request sent, awaiting response... 200 OK\n",
      "Length: 2020687 (1.9M) [application/zip]\n",
      "Saving to: ‘data.zip.4’\n",
      "\n",
      "data.zip.4          100%[===================>]   1.93M  --.-KB/s    in 0.08s   \n",
      "\n",
      "2024-07-20 19:18:55 (23.3 MB/s) - ‘data.zip.4’ saved [2020687/2020687]\n",
      "\n",
      "Archive:  data.zip\n",
      "  inflating: data/ptb.test.txt       \n",
      "  inflating: data/ptb.train.txt      \n",
      "  inflating: data/ptb.valid.txt      \n"
     ]
    }
   ],
   "source": [
    "!wget https://cf-courses-data.s3.us.cloud-object-storage.appdomain.cloud/SPqCgT4JZp9royRjGgbqSA/data.zip\n",
    "!unzip -o data.zip"
   ]
  },
  {
   "cell_type": "markdown",
   "metadata": {},
   "source": [
    "Additionally, for the sake of making it easy to play around with the model's hyperparameters, we can declare them beforehand. Feel free to change these -- you will see a difference in performance each time you change those!  \n"
   ]
  },
  {
   "cell_type": "code",
   "execution_count": 5,
   "metadata": {
    "tags": []
   },
   "outputs": [],
   "source": [
    "#Initial weight scale\n",
    "init_scale = 0.1\n",
    "#Initial learning rate\n",
    "learning_rate = 1.0\n",
    "#Maximum permissible norm for the gradient (For gradient clipping -- another measure against Exploding Gradients)\n",
    "max_grad_norm = 5\n",
    "#The number of layers in our model\n",
    "num_layers = 2\n",
    "#The total number of recurrence steps, also known as the number of layers when our RNN is \"unfolded\"\n",
    "num_steps = 20\n",
    "#The number of processing units (neurons) in the hidden layers\n",
    "hidden_size_l1 = 256\n",
    "hidden_size_l2 = 128\n",
    "#The maximum number of epochs trained with the initial learning rate\n",
    "max_epoch_decay_lr = 4\n",
    "#The total number of epochs in training\n",
    "max_epoch = 15\n",
    "#The probability for keeping data in the Dropout Layer (This is an optimization, but is outside our scope for this notebook!)\n",
    "#At 1, we ignore the Dropout Layer wrapping.\n",
    "keep_prob = 1\n",
    "#The decay for the learning rate\n",
    "decay = 0.5\n",
    "#The size for each batch of data\n",
    "batch_size = 30\n",
    "#The size of our vocabulary\n",
    "vocab_size = 10000\n",
    "embeding_vector_size= 200\n",
    "#Training flag to separate training from testing\n",
    "is_training = 1\n",
    "#Data directory for our dataset\n",
    "data_dir = \"data\""
   ]
  },
  {
   "cell_type": "markdown",
   "metadata": {},
   "source": [
    "Some clarifications for LSTM architecture based on the arguments:\n",
    "\n",
    "Network structure:\n",
    "<ul>\n",
    "    <li>In this network, the number of LSTM cells are 2. To give the model more expressive power, we can add multiple layers of LSTMs to process the data. The output of the first layer will become the input of the second and so on.\n",
    "    </li>\n",
    "    <li>The recurrence steps is 20, that is, when our RNN is \"Unfolded\", the recurrence step is 20.</li>   \n",
    "    <li>the structure is like:\n",
    "        <ul>\n",
    "            <li>200 input units -> [200x200] Weight -> 200 Hidden units (first layer) -> [200x200] Weight matrix  -> 200 Hidden units (second layer) ->  [200] weight Matrix -> 200 unit output</li>\n",
    "        </ul>\n",
    "    </li>\n",
    "</ul>\n",
    "<br>\n",
    "\n",
    "Input layer: \n",
    "<ul>\n",
    "    <li>The network has 200 input units.</li>\n",
    "    <li>Suppose each word is represented by an embedding vector of dimensionality e=200. The input layer of each cell will have 200 linear units. These e=200 linear units are connected to each of the h=200 LSTM units in the hidden layer (assuming there is only one hidden layer, though our case has 2 layers).\n",
    "    </li>\n",
    "    <li>The input shape is [batch_size, num_steps], that is [30x20]. It will turn into [30x20x200] after embedding, and then 20x[30x200]\n",
    "    </li>\n",
    "</ul>\n",
    "<br>\n",
    "\n",
    "Hidden layer:\n",
    "<ul>\n",
    "    <li>Each LSTM has 200 hidden units which is equivalent to the dimensionality of the embedding words and output.</li>\n",
    "</ul>\n",
    "<br>\n"
   ]
  },
  {
   "cell_type": "markdown",
   "metadata": {},
   "source": [
    "There is a lot to be done and a ton of information to process at the same time, so go over this code slowly. It may seem complex at first, but if you try to apply what you just learned about language modelling to the code you see, you should be able to understand it.\n",
    "\n",
    "This code is adapted from the <a href=\"https://github.com/tensorflow/models\">PTBModel</a> example bundled with the TensorFlow source code.\n",
    "\n",
    "\n",
    "<h3>Training data</h3>\n",
    "The story starts from data:\n",
    "<ul>\n",
    "    <li>Train data is a list of words, of size 929589, represented by numbers, e.g. [9971, 9972, 9974, 9975,...]</li>\n",
    "    <li>We read data as mini-batch of size b=30. Assume the size of each sentence is 20 words (num_steps = 20). Then it will take $$floor(\\frac{N}{b \\times h})+1=1548$$ iterations for the learner to go through all sentences once. Where N is the size of the list of words, b is batch size, and h is size of each sentence. So, the number of iterators is 1548\n",
    "    </li>\n",
    "    <li>Each batch data is read from train dataset of size 600, and shape of [30x20]</li>\n",
    "</ul>\n"
   ]
  },
  {
   "cell_type": "code",
   "execution_count": 6,
   "metadata": {
    "tags": []
   },
   "outputs": [],
   "source": [
    "# Reads the data and separates it into training data, validation data and testing data\n",
    "raw_data = ptb_raw_data(data_dir)\n",
    "train_data, valid_data, test_data, vocab, word_to_id = raw_data"
   ]
  },
  {
   "cell_type": "code",
   "execution_count": 7,
   "metadata": {
    "tags": []
   },
   "outputs": [
    {
     "data": {
      "text/plain": [
       "929589"
      ]
     },
     "execution_count": 7,
     "metadata": {},
     "output_type": "execute_result"
    }
   ],
   "source": [
    "len(train_data)"
   ]
  },
  {
   "cell_type": "code",
   "execution_count": 8,
   "metadata": {
    "tags": []
   },
   "outputs": [
    {
     "name": "stdout",
     "output_type": "stream",
     "text": [
      "['aer', 'banknote', 'berlitz', 'calloway', 'centrust', 'cluett', 'fromstein', 'gitano', 'guterman', 'hydro-quebec', 'ipo', 'kia', 'memotec', 'mlx', 'nahb', 'punts', 'rake', 'regatta', 'rubens', 'sim', 'snack-food', 'ssangyong', 'swapo', 'wachter', '<eos>', 'pierre', '<unk>', 'N', 'years', 'old', 'will', 'join', 'the', 'board', 'as', 'a', 'nonexecutive', 'director', 'nov.', 'N', '<eos>', 'mr.', '<unk>', 'is', 'chairman', 'of', '<unk>', 'n.v.', 'the', 'dutch', 'publishing', 'group', '<eos>', 'rudolph', '<unk>', 'N', 'years', 'old', 'and', 'former', 'chairman', 'of', 'consolidated', 'gold', 'fields', 'plc', 'was', 'named', 'a', 'nonexecutive', 'director', 'of', 'this', 'british', 'industrial', 'conglomerate', '<eos>', 'a', 'form', 'of', 'asbestos', 'once', 'used', 'to', 'make', 'kent', 'cigarette', 'filters', 'has', 'caused', 'a', 'high', 'percentage', 'of', 'cancer', 'deaths', 'among', 'a', 'group', 'of']\n"
     ]
    }
   ],
   "source": [
    "def id_to_word(id_list):\n",
    "    line = []\n",
    "    for w in id_list:\n",
    "        for word, wid in word_to_id.items():\n",
    "            if wid == w:\n",
    "                line.append(word)\n",
    "    return line            \n",
    "                \n",
    "\n",
    "print(id_to_word(train_data[0:100]))"
   ]
  },
  {
   "cell_type": "markdown",
   "metadata": {},
   "source": [
    "Lets just read one mini-batch now and feed our network:\n"
   ]
  },
  {
   "cell_type": "code",
   "execution_count": 9,
   "metadata": {
    "tags": []
   },
   "outputs": [],
   "source": [
    "itera = ptb_iterator(train_data, batch_size, num_steps)\n",
    "first_touple = itera.__next__()\n",
    "_input_data = first_touple[0]\n",
    "_targets = first_touple[1]"
   ]
  },
  {
   "cell_type": "code",
   "execution_count": 10,
   "metadata": {
    "tags": []
   },
   "outputs": [
    {
     "data": {
      "text/plain": [
       "(30, 20)"
      ]
     },
     "execution_count": 10,
     "metadata": {},
     "output_type": "execute_result"
    }
   ],
   "source": [
    "_input_data.shape"
   ]
  },
  {
   "cell_type": "code",
   "execution_count": 11,
   "metadata": {
    "tags": []
   },
   "outputs": [
    {
     "data": {
      "text/plain": [
       "(30, 20)"
      ]
     },
     "execution_count": 11,
     "metadata": {},
     "output_type": "execute_result"
    }
   ],
   "source": [
    "_targets.shape"
   ]
  },
  {
   "cell_type": "markdown",
   "metadata": {},
   "source": [
    "Lets look at 3 sentences of our input x:\n"
   ]
  },
  {
   "cell_type": "code",
   "execution_count": 12,
   "metadata": {
    "tags": []
   },
   "outputs": [
    {
     "data": {
      "text/plain": [
       "array([[9970, 9971, 9972, 9974, 9975, 9976, 9980, 9981, 9982, 9983, 9984,\n",
       "        9986, 9987, 9988, 9989, 9991, 9992, 9993, 9994, 9995],\n",
       "       [2654,    6,  334, 2886,    4,    1,  233,  711,  834,   11,  130,\n",
       "         123,    7,  514,    2,   63,   10,  514,    8,  605],\n",
       "       [   0, 1071,    4,    0,  185,   24,  368,   20,   31, 3109,  954,\n",
       "          12,    3,   21,    2, 2915,    2,   12,    3,   21]],\n",
       "      dtype=int32)"
      ]
     },
     "execution_count": 12,
     "metadata": {},
     "output_type": "execute_result"
    }
   ],
   "source": [
    "_input_data[0:3]"
   ]
  },
  {
   "cell_type": "code",
   "execution_count": 13,
   "metadata": {
    "tags": []
   },
   "outputs": [
    {
     "name": "stdout",
     "output_type": "stream",
     "text": [
      "['aer', 'banknote', 'berlitz', 'calloway', 'centrust', 'cluett', 'fromstein', 'gitano', 'guterman', 'hydro-quebec', 'ipo', 'kia', 'memotec', 'mlx', 'nahb', 'punts', 'rake', 'regatta', 'rubens', 'sim']\n"
     ]
    }
   ],
   "source": [
    "print(id_to_word(_input_data[0,:]))"
   ]
  },
  {
   "cell_type": "markdown",
   "metadata": {},
   "source": [
    "<h3>Embeddings</h3>\n",
    "We have to convert the words in our dataset to vectors of numbers. The traditional approach is to use one-hot encoding method that is usually used for converting categorical values to numerical values. However, One-hot encoded vectors are high-dimensional, sparse and in a big dataset, computationally inefficient. So, we use word2vec approach. It is, in fact, a layer in our LSTM network, where the word IDs will be represented as a dense representation before feeding to the LSTM. \n",
    "\n",
    "The embedded vectors also get updated during the training process of the deep neural network.\n",
    "We create the embeddings for our input data. <b>embedding_vocab</b> is matrix of [10000x200] for all 10000 unique words.\n"
   ]
  },
  {
   "cell_type": "markdown",
   "metadata": {},
   "source": [
    "<b>embedding_lookup()</b> finds the embedded values for our batch of 30x20 words. It  goes to each row of <code>input_data</code>, and for each word in the row/sentence, finds the correspond vector in <code>embedding_dic<code>. <br>\n",
    "It creates a [30x20x200] tensor, so, the first element of <b>inputs</b> (the first sentence), is a matrix of 20x200, which each row of it, is vector representing a word in the sentence.\n"
   ]
  },
  {
   "cell_type": "code",
   "execution_count": 14,
   "metadata": {
    "tags": []
   },
   "outputs": [],
   "source": [
    "embedding_layer = tf.keras.layers.Embedding(vocab_size, embeding_vector_size,batch_input_shape=(batch_size, num_steps),trainable=True,name=\"embedding_vocab\")  "
   ]
  },
  {
   "cell_type": "code",
   "execution_count": 15,
   "metadata": {
    "tags": []
   },
   "outputs": [
    {
     "name": "stderr",
     "output_type": "stream",
     "text": [
      "2024-07-20 19:18:59.632653: W tensorflow/stream_executor/platform/default/dso_loader.cc:64] Could not load dynamic library 'libcuda.so.1'; dlerror: libcuda.so.1: cannot open shared object file: No such file or directory\n",
      "2024-07-20 19:18:59.632713: W tensorflow/stream_executor/cuda/cuda_driver.cc:269] failed call to cuInit: UNKNOWN ERROR (303)\n",
      "2024-07-20 19:18:59.632742: I tensorflow/stream_executor/cuda/cuda_diagnostics.cc:156] kernel driver does not appear to be running on this host (jupyterlab-faiber): /proc/driver/nvidia/version does not exist\n",
      "2024-07-20 19:18:59.633325: I tensorflow/core/platform/cpu_feature_guard.cc:193] This TensorFlow binary is optimized with oneAPI Deep Neural Network Library (oneDNN) to use the following CPU instructions in performance-critical operations:  AVX2 AVX512F AVX512_VNNI FMA\n",
      "To enable them in other operations, rebuild TensorFlow with the appropriate compiler flags.\n"
     ]
    },
    {
     "data": {
      "text/plain": [
       "<tf.Tensor: shape=(30, 20, 200), dtype=float32, numpy=\n",
       "array([[[-3.65164392e-02,  4.01781537e-02, -4.66384664e-02, ...,\n",
       "         -6.79389387e-03, -2.91887168e-02,  4.40586470e-02],\n",
       "        [-1.69119984e-03, -3.14626582e-02,  4.27138247e-02, ...,\n",
       "          3.32216360e-02, -3.33110318e-02,  1.75141133e-02],\n",
       "        [ 1.82798542e-02,  1.82557143e-02, -4.12970781e-02, ...,\n",
       "          2.53675096e-02,  1.35675706e-02, -4.82427478e-02],\n",
       "        ...,\n",
       "        [ 1.72491185e-02,  6.29885122e-03, -1.74319856e-02, ...,\n",
       "         -4.63387035e-02, -4.44127694e-02, -4.78338450e-04],\n",
       "        [-3.45186703e-02, -2.43840944e-02,  5.66791743e-04, ...,\n",
       "         -2.89839040e-02, -4.68460582e-02,  1.99529640e-02],\n",
       "        [-3.17319259e-02, -9.62971523e-03, -2.36197598e-02, ...,\n",
       "         -6.57256693e-03,  2.74069235e-03, -2.98768636e-02]],\n",
       "\n",
       "       [[ 2.06773914e-02, -5.07492945e-03,  2.64153518e-02, ...,\n",
       "          6.61380216e-03, -3.51843983e-03, -1.97328217e-02],\n",
       "        [ 3.52662094e-02,  3.15486901e-02,  3.71990353e-03, ...,\n",
       "         -2.53748428e-02, -2.36698985e-02,  5.43224812e-03],\n",
       "        [-3.39813977e-02,  1.38624795e-02, -8.66506249e-03, ...,\n",
       "         -4.61540818e-02,  3.59588861e-03, -2.06802022e-02],\n",
       "        ...,\n",
       "        [ 3.66231240e-02,  1.81544088e-02, -4.59674373e-02, ...,\n",
       "          9.36468691e-03, -1.65211931e-02,  1.41221620e-02],\n",
       "        [-2.38979813e-02, -3.96034941e-02,  1.16668716e-02, ...,\n",
       "          4.54777367e-02,  3.03598084e-02, -1.93591844e-02],\n",
       "        [-1.43850073e-02,  2.97944583e-02, -3.15842628e-02, ...,\n",
       "         -2.68487819e-02,  2.31420062e-02,  2.41557993e-02]],\n",
       "\n",
       "       [[ 3.75470556e-02, -1.58910826e-03, -4.05574925e-02, ...,\n",
       "         -2.88206339e-03, -2.93028113e-02,  1.84054635e-02],\n",
       "        [ 4.33953889e-02,  4.19320799e-02,  1.30896606e-02, ...,\n",
       "          1.19310133e-02,  3.31483595e-02,  4.66684438e-02],\n",
       "        [-4.37021144e-02, -3.40801701e-02,  4.23857681e-02, ...,\n",
       "         -3.86691801e-02,  5.15749305e-03, -1.65152550e-03],\n",
       "        ...,\n",
       "        [-2.87549738e-02, -3.55773456e-02,  1.89473480e-03, ...,\n",
       "         -3.73786576e-02,  3.98036726e-02, -2.97930837e-02],\n",
       "        [ 2.63530016e-03, -3.35351378e-03,  2.96985023e-02, ...,\n",
       "         -1.95500012e-02, -4.35448550e-02, -9.76219028e-03],\n",
       "        [-2.62704734e-02, -2.01982148e-02,  4.09232266e-02, ...,\n",
       "         -1.08501315e-02,  4.02134396e-02,  4.44346704e-02]],\n",
       "\n",
       "       ...,\n",
       "\n",
       "       [[ 1.76847242e-02, -3.95106189e-02, -2.51436234e-03, ...,\n",
       "         -2.55257487e-02,  3.70947830e-02,  3.34358215e-03],\n",
       "        [-2.31460333e-02, -4.80573438e-02, -5.74254990e-03, ...,\n",
       "          1.30772591e-03,  4.47054952e-03,  2.65573338e-03],\n",
       "        [ 4.43718471e-02,  3.12168933e-02,  4.86745946e-02, ...,\n",
       "         -4.08557877e-02, -2.11615805e-02,  4.00849096e-02],\n",
       "        ...,\n",
       "        [ 3.67904417e-02,  1.61307789e-02, -4.90565561e-02, ...,\n",
       "          1.50610134e-03, -2.98939943e-02,  3.14426422e-03],\n",
       "        [ 4.61982004e-02, -3.07378061e-02,  1.03649609e-02, ...,\n",
       "          4.85531427e-02, -6.91413879e-05, -1.95005890e-02],\n",
       "        [ 1.36634596e-02,  4.07635681e-02,  4.38841619e-02, ...,\n",
       "          1.77320130e-02,  2.91136764e-02, -2.62318254e-02]],\n",
       "\n",
       "       [[-2.26771366e-02,  2.48873867e-02, -3.82298827e-02, ...,\n",
       "         -2.64735576e-02,  9.74842161e-03,  4.54412438e-02],\n",
       "        [-2.51506213e-02,  3.37432064e-02,  6.01074845e-03, ...,\n",
       "         -4.45399657e-02,  3.36706378e-02, -4.83724959e-02],\n",
       "        [-4.37021144e-02, -3.40801701e-02,  4.23857681e-02, ...,\n",
       "         -3.86691801e-02,  5.15749305e-03, -1.65152550e-03],\n",
       "        ...,\n",
       "        [-1.44755244e-02, -4.52197716e-03, -4.87112775e-02, ...,\n",
       "         -3.97635587e-02,  3.92650440e-03, -3.79858129e-02],\n",
       "        [ 3.52662094e-02,  3.15486901e-02,  3.71990353e-03, ...,\n",
       "         -2.53748428e-02, -2.36698985e-02,  5.43224812e-03],\n",
       "        [ 1.71518214e-02, -2.77214125e-03, -1.84260122e-02, ...,\n",
       "          1.48580112e-02,  5.48839569e-03,  1.01348646e-02]],\n",
       "\n",
       "       [[-4.16115038e-02, -2.84520276e-02, -3.42352390e-02, ...,\n",
       "         -1.87608134e-02,  1.71088912e-02, -3.16524729e-02],\n",
       "        [-4.72359061e-02, -4.06968817e-02,  1.72768123e-02, ...,\n",
       "          1.34855509e-03,  4.81484868e-02, -4.37359922e-02],\n",
       "        [ 1.73451416e-02,  4.89735268e-02, -2.06520800e-02, ...,\n",
       "          4.18544449e-02, -2.37257481e-02, -2.59823799e-02],\n",
       "        ...,\n",
       "        [-2.96218880e-02, -4.92235087e-02,  5.00848144e-03, ...,\n",
       "          3.54509465e-02,  4.09535281e-02, -2.23082062e-02],\n",
       "        [-4.01467197e-02, -4.95362282e-02,  1.11963972e-02, ...,\n",
       "         -2.37105023e-02, -1.92775019e-02, -4.53442708e-02],\n",
       "        [-4.46872823e-02, -5.76058775e-03,  1.87361948e-02, ...,\n",
       "         -2.12549213e-02,  2.92690434e-02,  4.52559851e-02]]],\n",
       "      dtype=float32)>"
      ]
     },
     "execution_count": 15,
     "metadata": {},
     "output_type": "execute_result"
    }
   ],
   "source": [
    "# Define where to get the data for our embeddings from\n",
    "inputs = embedding_layer(_input_data)\n",
    "inputs"
   ]
  },
  {
   "cell_type": "markdown",
   "metadata": {},
   "source": [
    "<h3>Constructing Recurrent Neural Networks</h3>\n"
   ]
  },
  {
   "cell_type": "markdown",
   "metadata": {},
   "source": [
    "In this step, we create the stacked LSTM using <b>tf.keras.layers.StackedRNNCells</b>, which is a 2 layer LSTM network:\n"
   ]
  },
  {
   "cell_type": "code",
   "execution_count": 16,
   "metadata": {
    "tags": []
   },
   "outputs": [],
   "source": [
    "lstm_cell_l1 = tf.keras.layers.LSTMCell(hidden_size_l1)\n",
    "lstm_cell_l2 = tf.keras.layers.LSTMCell(hidden_size_l2)"
   ]
  },
  {
   "cell_type": "code",
   "execution_count": 17,
   "metadata": {
    "tags": []
   },
   "outputs": [],
   "source": [
    "stacked_lstm = tf.keras.layers.StackedRNNCells([lstm_cell_l1, lstm_cell_l2])"
   ]
  },
  {
   "cell_type": "markdown",
   "metadata": {},
   "source": [
    "<b>tf.keras.layers.RNN</b> creates a recurrent neural network using <b>stacked_lstm</b>. \n",
    "\n",
    "The input should be a Tensor of shape: [batch_size, max_time, embedding_vector_size], in our case it would be (30, 20, 200)\n"
   ]
  },
  {
   "cell_type": "code",
   "execution_count": 18,
   "metadata": {
    "tags": []
   },
   "outputs": [],
   "source": [
    "layer  =  tf.keras.layers.RNN(stacked_lstm,[batch_size, num_steps],return_state=False,stateful=True,trainable=True)"
   ]
  },
  {
   "cell_type": "markdown",
   "metadata": {},
   "source": [
    "Also, we initialize the states of the nework:\n",
    "\n",
    "<h4>_initial_state</h4>\n",
    "\n",
    "For each LSTM, there are 2 state matrices, c\\_state and m\\_state.  c_state and m_state represent \"Memory State\" and \"Cell State\". Each hidden layer, has a vector of size 30, which keeps the states. so, for 200 hidden units in each LSTM, we have a matrix of size [30x200]\n"
   ]
  },
  {
   "cell_type": "code",
   "execution_count": 19,
   "metadata": {
    "tags": []
   },
   "outputs": [],
   "source": [
    "init_state = tf.Variable(tf.zeros([batch_size,embeding_vector_size]),trainable=False)"
   ]
  },
  {
   "cell_type": "code",
   "execution_count": 20,
   "metadata": {
    "tags": []
   },
   "outputs": [],
   "source": [
    "layer.inital_state = init_state"
   ]
  },
  {
   "cell_type": "code",
   "execution_count": 21,
   "metadata": {
    "tags": []
   },
   "outputs": [
    {
     "data": {
      "text/plain": [
       "<tf.Variable 'Variable:0' shape=(30, 200) dtype=float32, numpy=\n",
       "array([[0., 0., 0., ..., 0., 0., 0.],\n",
       "       [0., 0., 0., ..., 0., 0., 0.],\n",
       "       [0., 0., 0., ..., 0., 0., 0.],\n",
       "       ...,\n",
       "       [0., 0., 0., ..., 0., 0., 0.],\n",
       "       [0., 0., 0., ..., 0., 0., 0.],\n",
       "       [0., 0., 0., ..., 0., 0., 0.]], dtype=float32)>"
      ]
     },
     "execution_count": 21,
     "metadata": {},
     "output_type": "execute_result"
    }
   ],
   "source": [
    "layer.inital_state"
   ]
  },
  {
   "cell_type": "markdown",
   "metadata": {},
   "source": [
    "so, lets look at the outputs. The output of the stackedLSTM comes from 128 hidden_layer, and in each time step(=20), one of them get activated. we use the linear activation to map the 128 hidden layer to a [30X20 matrix]\n"
   ]
  },
  {
   "cell_type": "code",
   "execution_count": 22,
   "metadata": {
    "tags": []
   },
   "outputs": [],
   "source": [
    "outputs = layer(inputs)"
   ]
  },
  {
   "cell_type": "code",
   "execution_count": 23,
   "metadata": {
    "tags": []
   },
   "outputs": [
    {
     "data": {
      "text/plain": [
       "<tf.Tensor: shape=(30, 20, 128), dtype=float32, numpy=\n",
       "array([[[ 6.28996291e-04,  2.67712894e-04, -1.60714576e-03, ...,\n",
       "          2.51126534e-04,  3.00077751e-04,  4.23484107e-06],\n",
       "        [ 8.98817321e-04,  6.45374646e-04, -2.71538971e-03, ...,\n",
       "          3.63977306e-04,  8.71691664e-05, -5.72841418e-05],\n",
       "        [ 7.52985827e-04,  1.00648368e-03, -4.19579446e-03, ...,\n",
       "          1.13860355e-03, -2.89367395e-04,  3.25270157e-05],\n",
       "        ...,\n",
       "        [ 1.79414987e-04, -3.39314481e-03,  2.73193605e-03, ...,\n",
       "         -1.65338570e-03, -1.49474060e-03,  6.44636282e-04],\n",
       "        [-2.11589551e-03, -4.28350084e-03,  3.94712435e-03, ...,\n",
       "         -1.45547790e-03,  2.63387134e-04,  9.49386274e-04],\n",
       "        [-3.17150354e-03, -4.30420274e-03,  3.87242343e-03, ...,\n",
       "         -4.35462658e-04,  3.22648417e-03,  1.58327329e-03]],\n",
       "\n",
       "       [[-1.25439384e-03,  7.26688304e-04, -4.50884654e-05, ...,\n",
       "          1.63839641e-03, -1.10860259e-04,  2.91503646e-04],\n",
       "        [-9.66687163e-04,  1.18670682e-03, -1.05738570e-03, ...,\n",
       "          2.25612870e-03,  2.99777952e-04,  1.87047035e-03],\n",
       "        [-1.67489797e-03,  1.00995740e-03, -2.06540385e-03, ...,\n",
       "          1.70771836e-03,  1.22795964e-03,  1.25293015e-03],\n",
       "        ...,\n",
       "        [ 2.84113409e-03, -6.17768802e-03,  1.10026938e-03, ...,\n",
       "          6.34083524e-03,  3.64301610e-03,  8.28996953e-03],\n",
       "        [ 3.01316963e-03, -8.37855227e-03,  6.60443853e-04, ...,\n",
       "          5.23740146e-03,  4.43624379e-03,  6.64883200e-03],\n",
       "        [ 3.54190101e-03, -1.00689335e-02,  1.76093914e-03, ...,\n",
       "          3.75536573e-03,  5.90096787e-03,  4.42854129e-03]],\n",
       "\n",
       "       [[ 2.18491114e-04, -1.48570479e-03, -3.47576643e-05, ...,\n",
       "         -3.43976688e-04,  4.99527087e-04,  7.78607500e-04],\n",
       "        [-3.12960095e-04, -2.46967259e-03,  6.35381381e-04, ...,\n",
       "         -8.35569226e-05, -1.37290277e-03,  1.28434668e-03],\n",
       "        [-1.34024618e-03, -1.82975491e-03,  6.88650878e-04, ...,\n",
       "         -4.31531907e-06, -1.26008294e-03,  2.32686568e-03],\n",
       "        ...,\n",
       "        [ 9.02101025e-03,  1.91582600e-03, -5.92951837e-04, ...,\n",
       "         -9.81990481e-04,  8.24299699e-04,  7.37486873e-03],\n",
       "        [ 8.83014873e-03,  1.87422708e-03, -8.93526376e-05, ...,\n",
       "         -1.31951005e-03,  5.64119022e-04,  8.18230491e-03],\n",
       "        [ 8.08134302e-03,  1.26126641e-03, -2.16865723e-04, ...,\n",
       "         -7.51162297e-04,  2.39806157e-03,  6.66044839e-03]],\n",
       "\n",
       "       ...,\n",
       "\n",
       "       [[ 1.27811555e-03, -1.00415538e-03,  1.10052130e-03, ...,\n",
       "         -2.07500020e-03,  3.06903385e-04, -1.31218298e-03],\n",
       "        [ 2.38747033e-03, -1.81201007e-03,  1.01686118e-03, ...,\n",
       "         -3.24043143e-03, -8.42386624e-04, -2.25600437e-03],\n",
       "        [ 2.88263196e-03, -2.77346029e-04,  1.41869602e-03, ...,\n",
       "         -3.43013764e-03, -2.03800068e-04, -2.49905256e-03],\n",
       "        ...,\n",
       "        [ 7.16379320e-04, -1.15746348e-04,  3.75114451e-03, ...,\n",
       "         -1.42900716e-03,  3.48236365e-03,  2.32427102e-03],\n",
       "        [ 1.72755029e-03, -1.39253633e-03,  2.34487234e-03, ...,\n",
       "         -7.75915803e-04,  4.38291254e-03,  4.95827384e-03],\n",
       "        [ 2.78417021e-04, -2.43813731e-03,  1.43178238e-03, ...,\n",
       "         -2.81538727e-04,  5.41980518e-03,  5.70891192e-03]],\n",
       "\n",
       "       [[ 1.14366901e-03,  7.83466618e-04,  1.03277189e-03, ...,\n",
       "         -2.35896371e-03, -9.93405585e-04, -3.31207761e-04],\n",
       "        [ 1.71236973e-03,  1.02300732e-03,  2.21394259e-03, ...,\n",
       "         -6.02331804e-03, -1.12333498e-03, -9.25236207e-04],\n",
       "        [ 1.54063688e-03,  1.77637464e-03,  2.89032096e-03, ...,\n",
       "         -7.74544943e-03,  4.47590894e-04, -4.04834602e-04],\n",
       "        ...,\n",
       "        [ 3.67442053e-03, -2.91740452e-03,  9.05538036e-04, ...,\n",
       "          3.07093235e-03, -1.19517453e-03, -1.71477289e-03],\n",
       "        [ 4.40700818e-03, -1.88495580e-03, -1.67980761e-04, ...,\n",
       "          2.54116743e-03, -1.33124832e-03,  1.01734418e-04],\n",
       "        [ 5.08701149e-03, -2.55687046e-03,  5.42453345e-05, ...,\n",
       "          3.25518008e-03, -1.34632189e-03,  6.15926052e-04]],\n",
       "\n",
       "       [[-9.57254611e-04, -5.57313731e-04, -1.33971625e-04, ...,\n",
       "          3.93657712e-04,  2.66116491e-04, -3.09213909e-04],\n",
       "        [-2.21107388e-03, -1.97993329e-04, -1.45893695e-03, ...,\n",
       "          4.52868153e-05, -3.96756659e-04, -5.13642211e-04],\n",
       "        [-3.55399866e-03,  1.86303398e-03, -2.55905092e-03, ...,\n",
       "         -7.45708123e-04, -3.92466376e-04, -3.43606924e-04],\n",
       "        ...,\n",
       "        [ 8.75746086e-03, -3.34541174e-03, -5.98276034e-03, ...,\n",
       "          4.78815474e-03, -1.84434268e-03, -4.39903513e-03],\n",
       "        [ 7.58252060e-03, -2.78261071e-03, -7.00230664e-03, ...,\n",
       "          5.59898466e-03, -3.81548237e-03, -5.09316567e-03],\n",
       "        [ 5.48369484e-03, -2.09244690e-03, -8.41200538e-03, ...,\n",
       "          5.81840426e-03, -5.20400936e-03, -6.12005824e-03]]],\n",
       "      dtype=float32)>"
      ]
     },
     "execution_count": 23,
     "metadata": {},
     "output_type": "execute_result"
    }
   ],
   "source": [
    "outputs"
   ]
  },
  {
   "cell_type": "markdown",
   "metadata": {},
   "source": [
    "<h2>Dense layer</h2>\n",
    "We now create densely-connected neural network layer that would reshape the outputs tensor from  [30 x 20 x 128] to [30 x 20 x 10000].\n"
   ]
  },
  {
   "cell_type": "code",
   "execution_count": 24,
   "metadata": {
    "tags": []
   },
   "outputs": [],
   "source": [
    "dense = tf.keras.layers.Dense(vocab_size)"
   ]
  },
  {
   "cell_type": "code",
   "execution_count": 25,
   "metadata": {
    "tags": []
   },
   "outputs": [],
   "source": [
    "logits_outputs  = dense(outputs)"
   ]
  },
  {
   "cell_type": "code",
   "execution_count": 26,
   "metadata": {
    "tags": []
   },
   "outputs": [
    {
     "name": "stdout",
     "output_type": "stream",
     "text": [
      "shape of the output from dense layer:  (30, 20, 10000)\n"
     ]
    }
   ],
   "source": [
    "print(\"shape of the output from dense layer: \", logits_outputs.shape) #(batch_size, sequence_length, vocab_size)"
   ]
  },
  {
   "cell_type": "markdown",
   "metadata": {},
   "source": [
    "<h2>Activation layer</h2>\n",
    "\n",
    "\n",
    "A softmax activation layers is also then applied to derive the probability of the output being in any of the multiclass(10000 in this case) possibilities. \n"
   ]
  },
  {
   "cell_type": "code",
   "execution_count": 27,
   "metadata": {
    "tags": []
   },
   "outputs": [],
   "source": [
    "activation = tf.keras.layers.Activation('softmax')"
   ]
  },
  {
   "cell_type": "code",
   "execution_count": 28,
   "metadata": {
    "tags": []
   },
   "outputs": [],
   "source": [
    "output_words_prob = activation(logits_outputs)"
   ]
  },
  {
   "cell_type": "code",
   "execution_count": 29,
   "metadata": {
    "tags": []
   },
   "outputs": [
    {
     "name": "stdout",
     "output_type": "stream",
     "text": [
      "shape of the output from the activation layer:  (30, 20, 10000)\n"
     ]
    }
   ],
   "source": [
    "print(\"shape of the output from the activation layer: \", output_words_prob.shape) #(batch_size, sequence_length, vocab_size)"
   ]
  },
  {
   "cell_type": "markdown",
   "metadata": {},
   "source": [
    "Lets look at the probability of observing words for t=0 to t=20:\n"
   ]
  },
  {
   "cell_type": "code",
   "execution_count": 30,
   "metadata": {
    "tags": []
   },
   "outputs": [
    {
     "name": "stdout",
     "output_type": "stream",
     "text": [
      "The probability of observing words in t=0 to t=20 tf.Tensor(\n",
      "[[9.99884287e-05 1.00007033e-04 1.00017911e-04 ... 1.00004880e-04\n",
      "  9.99987169e-05 9.99984477e-05]\n",
      " [9.99967815e-05 1.00004538e-04 1.00022415e-04 ... 9.99923941e-05\n",
      "  1.00003002e-04 1.00017780e-04]\n",
      " [1.00002500e-04 1.00005891e-04 1.00012097e-04 ... 9.99912299e-05\n",
      "  1.00027530e-04 1.00016085e-04]\n",
      " ...\n",
      " [1.00028883e-04 1.00082572e-04 9.99204713e-05 ... 9.98778050e-05\n",
      "  1.00021927e-04 1.00054189e-04]\n",
      " [1.00012352e-04 1.00083795e-04 9.99335753e-05 ... 9.98865944e-05\n",
      "  1.00051031e-04 1.00064499e-04]\n",
      " [9.99873155e-05 1.00085694e-04 9.99480981e-05 ... 9.99043477e-05\n",
      "  1.00060999e-04 1.00074765e-04]], shape=(20, 10000), dtype=float32)\n"
     ]
    }
   ],
   "source": [
    "print(\"The probability of observing words in t=0 to t=20\", output_words_prob[0,0:num_steps])"
   ]
  },
  {
   "cell_type": "markdown",
   "metadata": {},
   "source": [
    "<h3>Prediction</h3>\n",
    "What is the word correspond to the probability output? Lets use the maximum probability:\n"
   ]
  },
  {
   "cell_type": "code",
   "execution_count": 31,
   "metadata": {
    "tags": []
   },
   "outputs": [
    {
     "data": {
      "text/plain": [
       "array([8838, 8838, 9554, 3189, 3189, 6699,  143,  143,  143,  143,  549,\n",
       "       1386, 5886, 5886, 5886, 9932, 3478, 1859, 2802, 1040])"
      ]
     },
     "execution_count": 31,
     "metadata": {},
     "output_type": "execute_result"
    }
   ],
   "source": [
    "np.argmax(output_words_prob[0,0:num_steps], axis=1)"
   ]
  },
  {
   "cell_type": "markdown",
   "metadata": {},
   "source": [
    "So, what is the ground truth for the first word of first sentence? You can get it from target tensor, if you want to find the embedding vector: \n"
   ]
  },
  {
   "cell_type": "code",
   "execution_count": 32,
   "metadata": {
    "tags": []
   },
   "outputs": [
    {
     "data": {
      "text/plain": [
       "array([9971, 9972, 9974, 9975, 9976, 9980, 9981, 9982, 9983, 9984, 9986,\n",
       "       9987, 9988, 9989, 9991, 9992, 9993, 9994, 9995, 9996], dtype=int32)"
      ]
     },
     "execution_count": 32,
     "metadata": {},
     "output_type": "execute_result"
    }
   ],
   "source": [
    "_targets[0]"
   ]
  },
  {
   "cell_type": "markdown",
   "metadata": {},
   "source": [
    "<h4>Objective function</h4>\n",
    "\n",
    "\n",
    "How similar the predicted words are to the target words?\n",
    "\n",
    "\n",
    "Now we have to define our objective function, to calculate the similarity of predicted values to ground truth, and then, penalize the model with the error. Our objective is to minimize loss function, that is, to minimize the average negative log probability of the target words:\n",
    "\n",
    "$$\\text{loss} = -\\frac{1}{N}\\sum_{i=1}^{N} \\ln p_{\\text{target}_i}$$\n",
    "\n",
    "This function is already implemented and available in TensorFlow through *tf.keras.losses.sparse_categorical_crossentropy*. It calculates the categorical cross-entropy loss for <b>logits</b> and the <b>target</b> sequence.  \n",
    "\n",
    "The arguments of this function are:  \n",
    "<ul>\n",
    "    <li>logits: List of 2D Tensors of shape [batch_size x num_decoder_symbols].</li>  \n",
    "    <li>targets: List of 1D batch-sized int32 Tensors of the same length as logits.</li>   \n",
    "</ul>\n"
   ]
  },
  {
   "cell_type": "code",
   "execution_count": 33,
   "metadata": {
    "tags": []
   },
   "outputs": [],
   "source": [
    "def crossentropy(y_true, y_pred):\n",
    "    return tf.keras.losses.sparse_categorical_crossentropy(y_true, y_pred)"
   ]
  },
  {
   "cell_type": "code",
   "execution_count": 34,
   "metadata": {
    "tags": []
   },
   "outputs": [],
   "source": [
    "loss  = crossentropy(_targets, output_words_prob)"
   ]
  },
  {
   "cell_type": "markdown",
   "metadata": {},
   "source": [
    "Lets look at the first 10 values of loss:\n"
   ]
  },
  {
   "cell_type": "code",
   "execution_count": 35,
   "metadata": {
    "tags": []
   },
   "outputs": [
    {
     "data": {
      "text/plain": [
       "<tf.Tensor: shape=(10,), dtype=float32, numpy=\n",
       "array([9.210365 , 9.210308 , 9.210594 , 9.210089 , 9.2104225, 9.210375 ,\n",
       "       9.209745 , 9.209728 , 9.2106695, 9.209314 ], dtype=float32)>"
      ]
     },
     "execution_count": 35,
     "metadata": {},
     "output_type": "execute_result"
    }
   ],
   "source": [
    "loss[0,:10]"
   ]
  },
  {
   "cell_type": "markdown",
   "metadata": {},
   "source": [
    "Now, we define cost as average of the losses:\n"
   ]
  },
  {
   "cell_type": "code",
   "execution_count": 36,
   "metadata": {
    "tags": []
   },
   "outputs": [
    {
     "data": {
      "text/plain": [
       "<tf.Tensor: shape=(), dtype=float32, numpy=184.20674>"
      ]
     },
     "execution_count": 36,
     "metadata": {},
     "output_type": "execute_result"
    }
   ],
   "source": [
    "cost = tf.reduce_sum(loss / batch_size)\n",
    "cost"
   ]
  },
  {
   "cell_type": "markdown",
   "metadata": {},
   "source": [
    "<h3>Training</h3>\n",
    "\n",
    "To do training for our network, we have to take the following steps:\n",
    "<ol>\n",
    "    <li>Define the optimizer.</li>\n",
    "    <li>Assemble layers to build model.</li>\n",
    "    <li>Calculate the gradients based on the loss function.</li>\n",
    "    <li>Apply the optimizer to the variables/gradients tuple.</li>\n",
    "</ol>\n"
   ]
  },
  {
   "cell_type": "markdown",
   "metadata": {},
   "source": [
    "<h4>1. Define Optimizer</h4>\n",
    "\n"
   ]
  },
  {
   "cell_type": "code",
   "execution_count": 37,
   "metadata": {
    "tags": []
   },
   "outputs": [
    {
     "name": "stderr",
     "output_type": "stream",
     "text": [
      "/home/jupyterlab/conda/envs/python/lib/python3.7/site-packages/keras/optimizers/optimizer_v2/gradient_descent.py:108: UserWarning: The `lr` argument is deprecated, use `learning_rate` instead.\n",
      "  super(SGD, self).__init__(name, **kwargs)\n"
     ]
    }
   ],
   "source": [
    "# Create a variable for the learning rate\n",
    "lr = tf.Variable(0.0, trainable=False)\n",
    "optimizer = tf.keras.optimizers.SGD(lr=lr, clipnorm=max_grad_norm)"
   ]
  },
  {
   "cell_type": "markdown",
   "metadata": {},
   "source": [
    "<h4>2. Assemble layers to build model.</h4>\n"
   ]
  },
  {
   "cell_type": "code",
   "execution_count": 38,
   "metadata": {
    "tags": []
   },
   "outputs": [
    {
     "name": "stdout",
     "output_type": "stream",
     "text": [
      "Model: \"sequential\"\n",
      "_________________________________________________________________\n",
      " Layer (type)                Output Shape              Param #   \n",
      "=================================================================\n",
      " embedding_vocab (Embedding)  (30, 20, 200)            2000000   \n",
      "                                                                 \n",
      " rnn (RNN)                   (30, 20, 128)             671088    \n",
      "                                                                 \n",
      " dense (Dense)               (30, 20, 10000)           1290000   \n",
      "                                                                 \n",
      " activation (Activation)     (30, 20, 10000)           0         \n",
      "                                                                 \n",
      "=================================================================\n",
      "Total params: 3,961,088\n",
      "Trainable params: 3,955,088\n",
      "Non-trainable params: 6,000\n",
      "_________________________________________________________________\n"
     ]
    }
   ],
   "source": [
    "model = tf.keras.Sequential()\n",
    "model.add(embedding_layer)\n",
    "model.add(layer)\n",
    "model.add(dense)\n",
    "model.add(activation)\n",
    "model.compile(loss=crossentropy, optimizer=optimizer)\n",
    "model.summary()"
   ]
  },
  {
   "cell_type": "markdown",
   "metadata": {},
   "source": [
    "\n",
    "<h4>2. Trainable Variables</h4>\n"
   ]
  },
  {
   "cell_type": "markdown",
   "metadata": {},
   "source": [
    "Defining a variable, if you passed <i>trainable=True</i>, the variable constructor automatically adds new variables to the graph collection <b>GraphKeys.TRAINABLE_VARIABLES</b>. Now, using <i>tf.trainable_variables()</i> you can get all variables created with <b>trainable=True</b>.\n"
   ]
  },
  {
   "cell_type": "code",
   "execution_count": 39,
   "metadata": {
    "tags": []
   },
   "outputs": [],
   "source": [
    "# Get all TensorFlow variables marked as \"trainable\" (i.e. all of them except _lr, which we just created)\n",
    "tvars = model.trainable_variables"
   ]
  },
  {
   "cell_type": "markdown",
   "metadata": {},
   "source": [
    "Note: we can find the name and scope of all variables:\n"
   ]
  },
  {
   "cell_type": "code",
   "execution_count": 40,
   "metadata": {
    "tags": []
   },
   "outputs": [
    {
     "data": {
      "text/plain": [
       "['embedding_vocab/embeddings:0',\n",
       " 'rnn/stacked_rnn_cells/lstm_cell/kernel:0',\n",
       " 'rnn/stacked_rnn_cells/lstm_cell/recurrent_kernel:0',\n",
       " 'rnn/stacked_rnn_cells/lstm_cell/bias:0',\n",
       " 'rnn/stacked_rnn_cells/lstm_cell_1/kernel:0',\n",
       " 'rnn/stacked_rnn_cells/lstm_cell_1/recurrent_kernel:0',\n",
       " 'rnn/stacked_rnn_cells/lstm_cell_1/bias:0',\n",
       " 'dense/kernel:0',\n",
       " 'dense/bias:0']"
      ]
     },
     "execution_count": 40,
     "metadata": {},
     "output_type": "execute_result"
    }
   ],
   "source": [
    "[v.name for v in tvars] "
   ]
  },
  {
   "cell_type": "markdown",
   "metadata": {},
   "source": [
    "<h4>3. Calculate the gradients based on the loss function</h4>\n"
   ]
  },
  {
   "cell_type": "markdown",
   "metadata": {},
   "source": [
    "**Gradient**: The gradient of a function is the slope of its derivative (line), or in other words, the rate of change of a function. It's a vector (a direction to move) that points in the direction of greatest increase of the function, and calculated by the <b>derivative</b> operation.\n"
   ]
  },
  {
   "cell_type": "markdown",
   "metadata": {},
   "source": [
    "First lets recall the gradient function using an toy example:\n",
    "$$ z = \\left(2x^2 + 3xy\\right)$$\n"
   ]
  },
  {
   "cell_type": "code",
   "execution_count": 41,
   "metadata": {
    "tags": []
   },
   "outputs": [],
   "source": [
    "x = tf.constant(1.0)\n",
    "y =  tf.constant(2.0)\n",
    "with tf.GradientTape(persistent=True) as g:\n",
    "    g.watch(x)\n",
    "    g.watch(y)\n",
    "    func_test = 2 * x * x + 3 * x * y"
   ]
  },
  {
   "cell_type": "markdown",
   "metadata": {},
   "source": [
    "The <b>tf.gradients()</b> function allows you to compute the symbolic gradient of one tensor with respect to one or more other tensors—including variables. <b>tf.gradients(func, xs)</b> constructs symbolic partial derivatives of sum of <b>func</b> w.r.t. <i>x</i> in <b>xs</b>. \n",
    "\n",
    "Now, lets look at the derivitive w.r.t. <b>var_x</b>:\n",
    "$$ \\frac{\\partial \\:}{\\partial \\:x}\\left(2x^2 + 3xy\\right) = 4x + 3y $$\n"
   ]
  },
  {
   "cell_type": "code",
   "execution_count": 42,
   "metadata": {
    "tags": []
   },
   "outputs": [
    {
     "name": "stdout",
     "output_type": "stream",
     "text": [
      "tf.Tensor(10.0, shape=(), dtype=float32)\n"
     ]
    }
   ],
   "source": [
    "var_grad = g.gradient(func_test, x) # Will compute to 10.0\n",
    "print(var_grad)"
   ]
  },
  {
   "cell_type": "markdown",
   "metadata": {},
   "source": [
    "the derivative w.r.t. <b>var_y</b>:\n",
    "$$ \\frac{\\partial \\:}{\\partial \\:y}\\left(2x^2 + 3xy\\right) = 3x $$\n"
   ]
  },
  {
   "cell_type": "code",
   "execution_count": 43,
   "metadata": {
    "tags": []
   },
   "outputs": [
    {
     "name": "stdout",
     "output_type": "stream",
     "text": [
      "tf.Tensor(3.0, shape=(), dtype=float32)\n"
     ]
    }
   ],
   "source": [
    "var_grad = g.gradient(func_test, y) # Will compute to 3.0\n",
    "print(var_grad)"
   ]
  },
  {
   "cell_type": "markdown",
   "metadata": {},
   "source": [
    "Now, we can look at gradients w.r.t all variables:\n"
   ]
  },
  {
   "cell_type": "code",
   "execution_count": 44,
   "metadata": {
    "tags": []
   },
   "outputs": [],
   "source": [
    "with tf.GradientTape() as tape:\n",
    "    # Forward pass.\n",
    "    output_words_prob = model(_input_data)\n",
    "    # Loss value for this batch.\n",
    "    loss  = crossentropy(_targets, output_words_prob)\n",
    "    cost = tf.reduce_sum(loss,axis=0) / batch_size"
   ]
  },
  {
   "cell_type": "code",
   "execution_count": 45,
   "metadata": {
    "tags": []
   },
   "outputs": [],
   "source": [
    "# Get gradients of loss wrt the trainable variables.\n",
    "grad_t_list = tape.gradient(cost, tvars)"
   ]
  },
  {
   "cell_type": "code",
   "execution_count": 46,
   "metadata": {
    "tags": []
   },
   "outputs": [
    {
     "name": "stdout",
     "output_type": "stream",
     "text": [
      "[<tensorflow.python.framework.indexed_slices.IndexedSlices object at 0x7fc4e70eeb90>, <tf.Tensor: shape=(200, 1024), dtype=float32, numpy=\n",
      "array([[-1.5527021e-07,  3.4416558e-07, -2.6122879e-07, ...,\n",
      "         6.1560934e-07, -5.5412670e-09, -1.1694178e-07],\n",
      "       [ 2.1459729e-07,  1.1693079e-07,  3.5586169e-07, ...,\n",
      "         1.8067352e-08,  4.3389122e-07,  3.5547214e-07],\n",
      "       [-2.4379455e-07,  1.8119687e-07,  3.4988190e-07, ...,\n",
      "        -3.4928044e-07, -3.2215247e-08, -4.5585560e-07],\n",
      "       ...,\n",
      "       [ 8.2482643e-10,  9.0174638e-07,  4.8108882e-07, ...,\n",
      "        -8.6853703e-08, -1.6360403e-07, -3.1726768e-07],\n",
      "       [-5.2259338e-08, -1.3067546e-07,  4.8740560e-07, ...,\n",
      "        -9.9967295e-08,  8.1737329e-07,  1.1397859e-07],\n",
      "       [ 2.5475640e-07,  4.3372410e-08,  7.5199245e-07, ...,\n",
      "         8.3497824e-08,  1.3803509e-07,  1.3784934e-07]], dtype=float32)>, <tf.Tensor: shape=(256, 1024), dtype=float32, numpy=\n",
      "array([[-1.2364268e-07,  6.3208176e-08,  2.9091137e-08, ...,\n",
      "        -5.5324744e-08, -7.6978068e-09, -7.8709533e-08],\n",
      "       [ 6.1612290e-08,  3.4579440e-08, -7.9560209e-08, ...,\n",
      "        -7.5161381e-08,  1.7942179e-07, -8.1015216e-08],\n",
      "       [-2.0022306e-07,  1.4920829e-08,  1.5795244e-07, ...,\n",
      "        -5.8329903e-08,  3.8672034e-08,  5.0692627e-08],\n",
      "       ...,\n",
      "       [ 3.7019213e-08, -1.2424223e-08, -5.4405938e-09, ...,\n",
      "         2.6475757e-07,  3.0562859e-08,  2.3769587e-08],\n",
      "       [-5.9510441e-08, -4.3425182e-08,  4.2735824e-08, ...,\n",
      "         2.3711454e-08,  5.0870682e-07,  9.9336717e-09],\n",
      "       [ 1.5906863e-07, -1.8647516e-07,  5.1308291e-11, ...,\n",
      "         4.1118174e-08,  9.1404502e-09, -4.6163535e-07]], dtype=float32)>, <tf.Tensor: shape=(1024,), dtype=float32, numpy=\n",
      "array([ 5.55141128e-07, -1.04702085e-05,  1.38809810e-05, ...,\n",
      "        7.09459664e-06,  4.35374386e-05, -2.49469194e-05], dtype=float32)>, <tf.Tensor: shape=(256, 512), dtype=float32, numpy=\n",
      "array([[-2.14230838e-07,  4.49664839e-08,  5.56161694e-08, ...,\n",
      "         3.19969956e-07, -1.48950619e-07,  3.66989639e-09],\n",
      "       [ 5.42021894e-09,  1.14881935e-07, -8.78390409e-08, ...,\n",
      "         2.02183557e-07, -4.42322659e-08,  1.60027568e-07],\n",
      "       [ 1.17478102e-07, -7.05996612e-08, -1.07662913e-07, ...,\n",
      "        -2.50606718e-08,  1.32911083e-07,  2.33665361e-07],\n",
      "       ...,\n",
      "       [-3.97268032e-08, -1.67485283e-07,  3.87033658e-08, ...,\n",
      "         2.60284878e-08,  1.94910641e-07,  2.85573662e-08],\n",
      "       [-7.06389898e-08,  8.07238010e-09,  8.77407587e-08, ...,\n",
      "         1.03219229e-07, -3.70349369e-07,  4.39180468e-07],\n",
      "       [-4.60469387e-08,  1.56397221e-07, -8.29390530e-08, ...,\n",
      "         3.88535483e-07, -1.04810695e-07,  1.10770372e-07]], dtype=float32)>, <tf.Tensor: shape=(128, 512), dtype=float32, numpy=\n",
      "array([[-2.1529274e-07, -5.8093379e-09,  4.7038966e-08, ...,\n",
      "         7.2780821e-08, -1.8892479e-07,  2.5349456e-07],\n",
      "       [-1.2778509e-07, -1.8103002e-07,  1.5259336e-07, ...,\n",
      "        -1.7761487e-08,  1.2483466e-07, -1.9876050e-07],\n",
      "       [ 1.8954500e-08,  2.5509253e-08, -2.1195673e-08, ...,\n",
      "         1.0978177e-08, -2.1494728e-07,  1.0400555e-07],\n",
      "       ...,\n",
      "       [ 1.3910403e-07,  2.4765953e-08, -8.1397495e-08, ...,\n",
      "         5.3004351e-07,  7.9319356e-08,  7.4971837e-08],\n",
      "       [ 2.8413204e-08, -6.7581794e-08, -1.1541840e-07, ...,\n",
      "         2.0329267e-07, -3.9450450e-07,  8.4902098e-08],\n",
      "       [-1.1719057e-07, -4.7750142e-08, -2.2638357e-08, ...,\n",
      "         2.1105663e-07, -1.1392862e-07,  7.0523853e-08]], dtype=float32)>, <tf.Tensor: shape=(512,), dtype=float32, numpy=\n",
      "array([ 8.38376764e-08, -1.19499618e-05, -1.07040605e-05,  3.09543793e-05,\n",
      "        4.65884877e-05, -4.43819545e-07, -6.56200154e-06,  3.03824054e-05,\n",
      "       -1.69559062e-05,  3.26528379e-06, -4.92059917e-05,  7.67455713e-05,\n",
      "        1.55155722e-05, -5.18779852e-05, -8.57094437e-06, -1.05610643e-05,\n",
      "        5.40670444e-05,  2.22209328e-05,  1.21401399e-05,  1.37118677e-05,\n",
      "        3.73351722e-05, -1.48280133e-05,  5.96877726e-06,  3.12450493e-06,\n",
      "       -5.53997597e-06, -1.87680871e-06,  9.36268552e-05,  1.56543720e-05,\n",
      "       -2.67644973e-05,  4.20834585e-05, -2.31143040e-05, -4.88623300e-06,\n",
      "       -1.12820780e-05,  1.87194928e-06, -5.10627979e-05,  6.59247235e-08,\n",
      "       -2.44495714e-05, -9.12346695e-06, -1.91821509e-05, -4.40832591e-05,\n",
      "        5.72491881e-05,  6.11465612e-06, -3.09469979e-05,  4.26859924e-06,\n",
      "        2.07760295e-05, -3.41432715e-05, -3.64612861e-05, -1.82404856e-05,\n",
      "        1.90208993e-05,  9.39508027e-09,  8.12465878e-05,  2.71129593e-05,\n",
      "       -1.03371320e-04, -1.90139544e-05,  2.98712184e-05, -5.26036274e-06,\n",
      "        8.37668340e-05, -1.22910769e-05,  2.04490607e-05,  5.00911046e-05,\n",
      "       -2.23883144e-05,  2.39165274e-05,  8.00041744e-06, -3.04301902e-05,\n",
      "        4.71019230e-05,  1.52001940e-05, -5.45422590e-05,  5.47520904e-06,\n",
      "       -2.52181035e-05, -2.77529853e-05,  3.05381327e-05,  6.82178779e-07,\n",
      "       -3.65251071e-06,  1.28694194e-06, -3.46974957e-06, -1.51134918e-06,\n",
      "       -2.23977986e-05, -2.08992515e-06,  5.40392648e-06, -1.99943388e-05,\n",
      "       -7.50631516e-05,  3.50688424e-07,  4.73279943e-05,  3.14634963e-05,\n",
      "        1.09057601e-05,  1.73977401e-06, -3.05160356e-05,  2.57038246e-05,\n",
      "        2.12073355e-05, -8.93304823e-05,  2.13670864e-06, -6.44521424e-05,\n",
      "        5.38580862e-05, -7.44810313e-06, -1.56940441e-05,  2.43331997e-05,\n",
      "       -1.35514356e-05,  1.90463215e-05, -2.45202209e-05,  1.86503203e-05,\n",
      "        4.09082713e-05, -4.93059306e-05,  4.98176705e-05,  2.50715184e-05,\n",
      "       -7.00083838e-05, -1.03208922e-05, -2.15301734e-05, -9.99608674e-05,\n",
      "       -2.00862069e-05, -1.21892899e-05,  2.60821071e-05,  2.11651786e-06,\n",
      "        6.69375186e-06,  2.07123594e-05,  1.91863164e-05,  1.22833953e-05,\n",
      "        2.38344073e-05, -1.07148815e-04, -1.12609405e-06, -1.37673796e-05,\n",
      "        5.28535456e-05,  1.19666984e-05,  8.28846260e-06, -2.04836469e-05,\n",
      "        3.48015674e-05,  8.48527416e-05, -3.34320757e-05,  1.45361828e-05,\n",
      "       -2.74437352e-05, -4.98304007e-06, -8.54358404e-06,  2.15244600e-05,\n",
      "        6.21771978e-05,  9.06155583e-06, -2.30192527e-05,  4.13265225e-05,\n",
      "       -3.03347915e-05,  1.43810867e-05, -8.31103025e-05,  1.19029661e-04,\n",
      "        1.89138882e-05, -5.93572477e-05, -7.13880763e-06, -4.61250966e-05,\n",
      "        1.56564711e-05, -1.51248478e-05, -5.09916026e-06,  1.29739783e-05,\n",
      "        5.97891485e-05, -1.28516986e-05,  2.29539473e-05, -2.89535728e-06,\n",
      "       -1.76283102e-05, -3.07176651e-06,  1.40300443e-04,  8.61434728e-06,\n",
      "       -2.26608381e-06,  5.81116547e-05, -3.54191870e-05, -4.82654650e-06,\n",
      "       -2.30117730e-05, -7.60055991e-06, -4.85803175e-05,  1.43555826e-05,\n",
      "       -2.06866389e-05, -2.90101730e-06, -3.13089367e-05, -3.76102689e-05,\n",
      "        8.01138303e-05, -6.63736455e-06, -5.40940091e-05, -2.19535032e-05,\n",
      "        4.93168554e-05, -4.56838134e-05, -3.66744134e-05, -8.88963768e-06,\n",
      "        1.46317188e-05, -4.02103178e-05,  1.13096918e-04,  3.76417520e-05,\n",
      "       -1.04326464e-04, -2.06700570e-05,  2.27563905e-05, -2.30042024e-05,\n",
      "        1.03759885e-04, -1.41655619e-06,  3.93443333e-05,  7.03038822e-05,\n",
      "       -1.77668517e-05,  5.62772402e-06,  1.61856860e-05, -6.78858669e-06,\n",
      "        7.91596831e-05,  2.95514837e-05, -8.67492927e-05,  1.10411875e-05,\n",
      "       -3.39526850e-05, -2.37445838e-05,  3.07574774e-05, -1.01090536e-05,\n",
      "       -1.81844644e-05,  2.13708554e-05, -3.98572229e-05,  1.07575161e-05,\n",
      "       -3.23124368e-05, -5.62810092e-05, -1.94731319e-06, -1.55967355e-05,\n",
      "       -1.08742199e-04, -2.57516276e-05,  6.02590444e-05,  4.26860825e-05,\n",
      "        3.17329286e-05, -1.79008530e-05, -6.89335138e-05,  2.60480629e-05,\n",
      "        6.01453394e-05, -1.14222072e-04, -8.11040536e-06, -7.67574311e-05,\n",
      "        8.24218441e-05, -5.29519411e-06, -3.02017143e-05,  4.94090054e-05,\n",
      "       -2.78729112e-05,  3.96374380e-05, -3.10507967e-05,  1.16679985e-06,\n",
      "        8.04591255e-05, -3.18252278e-05,  5.84766422e-05,  6.33011950e-07,\n",
      "       -8.63175956e-05, -1.89571510e-05, -4.21572367e-05, -1.41583150e-04,\n",
      "       -3.02052704e-05,  1.56632232e-05,  2.44940202e-05,  2.76984683e-05,\n",
      "       -2.05060824e-05,  2.94907586e-05,  3.97862495e-05,  1.59343108e-05,\n",
      "        2.74769209e-05, -1.14052149e-04, -1.36462249e-05, -4.89689410e-05,\n",
      "        5.36498519e-05,  2.27946366e-05,  6.02003456e-06, -2.40239424e-05,\n",
      "        4.67199170e-05,  9.48431552e-05, -8.01324204e-05,  1.53615219e-05,\n",
      "       -1.54255889e-02, -1.64654758e-02,  8.44920753e-04, -1.10086380e-02,\n",
      "        3.48948278e-02, -2.23222375e-02, -4.86888783e-03, -4.15783841e-03,\n",
      "        5.42942854e-03, -5.84039986e-02,  1.08871646e-02,  4.10275757e-02,\n",
      "       -3.80778871e-03,  3.78169380e-02, -3.62521457e-03, -8.25503096e-03,\n",
      "       -1.38995033e-02, -4.17943113e-02,  2.70133540e-02,  2.30518188e-02,\n",
      "        2.18554842e-03,  6.20744051e-03,  4.01255814e-03,  5.01071215e-02,\n",
      "       -8.65577348e-03,  1.86749436e-02, -4.29646969e-02, -7.02128140e-03,\n",
      "        1.15461089e-02,  2.78326832e-02, -1.58418231e-02, -1.99631769e-02,\n",
      "        1.95506122e-02, -6.36861194e-04,  8.87711253e-03, -1.97915621e-02,\n",
      "       -5.47754541e-02,  1.51797738e-02, -3.77201103e-02, -5.65738790e-03,\n",
      "       -1.80440806e-02,  8.73709656e-03, -4.43074331e-02, -2.77582556e-03,\n",
      "        4.80551943e-02,  2.67348792e-02, -6.31458638e-03,  1.70171428e-02,\n",
      "        4.57021743e-02,  2.79066851e-03,  3.73062640e-02, -3.41654085e-02,\n",
      "       -3.05682309e-02,  5.38702123e-02,  1.79471560e-02,  1.86625980e-02,\n",
      "       -4.06014062e-02,  1.52900023e-03, -1.96920075e-02,  7.45266527e-02,\n",
      "        1.98036302e-02,  9.85570159e-03, -1.60449147e-02,  2.75455266e-02,\n",
      "       -2.93715596e-02,  1.99850090e-02,  3.16850543e-02, -2.42445152e-03,\n",
      "       -1.36571901e-03,  4.13734764e-02,  1.44164283e-02, -1.68276951e-02,\n",
      "       -1.88672096e-02, -9.02018975e-03,  2.21641026e-02, -1.73915774e-02,\n",
      "       -1.03400126e-02, -1.62365995e-02,  1.10190660e-02,  5.53443516e-03,\n",
      "       -4.13771942e-02,  1.76557917e-02,  6.29234910e-02, -1.27582960e-02,\n",
      "       -5.16719604e-03, -3.43052149e-02,  1.32791819e-02, -2.85035651e-02,\n",
      "        4.52622771e-02,  1.46765867e-02,  6.65527396e-03, -3.36153731e-02,\n",
      "       -2.43191756e-02,  5.57948137e-04, -5.08567225e-03,  5.86880222e-02,\n",
      "        4.33480740e-03,  4.55094948e-02, -2.05399767e-02,  6.17592931e-02,\n",
      "       -2.66822781e-02, -2.40000486e-02,  1.65237710e-02, -6.86914334e-03,\n",
      "       -2.96416581e-02,  2.61556413e-02, -1.87106691e-02,  1.36390189e-02,\n",
      "       -1.71072148e-02,  1.81421209e-02, -4.16572019e-02,  2.98602525e-02,\n",
      "        4.49247509e-02,  1.08547974e-02,  4.55316249e-03,  2.62859669e-02,\n",
      "       -2.82264873e-02,  8.22585374e-02,  1.14629157e-02, -2.83969492e-02,\n",
      "        2.01412011e-02, -1.82460807e-02,  8.00065510e-03, -2.52218544e-02,\n",
      "        1.72231663e-02,  4.62997220e-02, -3.33429947e-02, -5.26092155e-03,\n",
      "        7.53143104e-06, -3.85869043e-06, -1.02284985e-05,  1.93224951e-05,\n",
      "        6.03501685e-05,  4.21500499e-06, -1.34479833e-05,  3.41380073e-05,\n",
      "       -1.72957753e-05,  4.19123717e-06, -6.05435780e-05,  8.95416451e-05,\n",
      "        1.92312291e-05, -4.99618036e-05, -1.72417585e-05, -9.83858445e-06,\n",
      "        5.84680711e-05,  2.05152082e-05,  1.41028868e-05,  1.55397611e-05,\n",
      "        3.88636727e-05, -1.36415947e-05, -1.70307476e-06, -2.13403064e-06,\n",
      "       -3.43132706e-06, -7.83255746e-06,  1.12087786e-04,  7.74388172e-06,\n",
      "       -3.10341529e-05,  5.02950352e-05, -2.99705571e-05,  1.50715096e-06,\n",
      "       -1.79120707e-05,  1.13564965e-07, -5.39972352e-05,  8.34988987e-06,\n",
      "       -2.91007691e-05, -6.86852945e-06, -2.09523514e-05, -4.02951737e-05,\n",
      "        6.46189437e-05,  1.37826919e-05, -4.23466554e-05, -3.73523835e-06,\n",
      "        3.59527476e-05, -3.08212839e-05, -3.56570708e-05, -8.40008215e-06,\n",
      "        1.43417328e-05, -2.92002733e-06,  9.82290803e-05,  3.13572455e-05,\n",
      "       -1.06211497e-04, -1.45908480e-05,  2.91889646e-05, -1.74074303e-05,\n",
      "        1.04577412e-04, -3.07133523e-05,  2.53217058e-05,  5.98634797e-05,\n",
      "       -2.21893879e-05,  2.84334146e-05,  1.97385307e-05, -3.20400977e-05,\n",
      "        4.98639747e-05,  1.63776349e-06, -6.77786302e-05,  8.43706948e-06,\n",
      "       -3.12459342e-05, -3.50472910e-05,  3.02896260e-05, -2.93539824e-06,\n",
      "       -6.44710963e-06,  6.24769200e-07, -1.19876040e-05,  1.46646380e-06,\n",
      "       -2.34744348e-05, -8.53901111e-06,  1.45606668e-06, -2.13848652e-05,\n",
      "       -8.01432179e-05, -3.81731752e-07,  6.11156574e-05,  4.12894369e-05,\n",
      "        9.85607494e-06,  4.92854952e-06, -4.26410443e-05,  2.67558662e-05,\n",
      "        2.25154981e-05, -9.35860589e-05, -7.86056717e-07, -7.06848805e-05,\n",
      "        4.95474524e-05, -4.34632057e-06, -1.60977816e-05,  2.23647094e-05,\n",
      "       -1.36050021e-05,  1.70174462e-05, -2.98202231e-05,  2.03406980e-05,\n",
      "        4.29325373e-05, -4.55908448e-05,  5.05539501e-05,  2.01791117e-05,\n",
      "       -7.64727229e-05, -1.37162751e-05, -2.70117816e-05, -1.16172865e-04,\n",
      "       -3.10233372e-05, -1.37474244e-05,  3.35257391e-05,  4.35569405e-07,\n",
      "        7.72024759e-06,  2.39906985e-05,  2.88439005e-05,  1.42206836e-05,\n",
      "        2.22927501e-05, -1.16461350e-04, -5.46022375e-06, -2.11365896e-05,\n",
      "        5.42120179e-05,  1.11632053e-05,  1.01089954e-05, -2.52045375e-05,\n",
      "        4.13135422e-05,  9.06786081e-05, -3.68289475e-05,  2.36812593e-05],\n",
      "      dtype=float32)>, <tf.Tensor: shape=(128, 10000), dtype=float32, numpy=\n",
      "array([[-8.2927610e-04, -2.0645652e-03, -8.3717296e-04, ...,\n",
      "         2.2781742e-06,  2.2766380e-06,  2.2758845e-06],\n",
      "       [ 4.1718254e-04,  1.4569596e-03, -7.2851870e-04, ...,\n",
      "        -1.9560782e-06, -1.9576037e-06, -1.9570625e-06],\n",
      "       [ 1.7925235e-04, -1.1498193e-04, -5.7591213e-04, ...,\n",
      "         3.0966322e-07,  3.0974030e-07,  3.0977748e-07],\n",
      "       ...,\n",
      "       [-2.1729071e-03, -1.9017352e-03, -2.5756257e-03, ...,\n",
      "         4.0980958e-06,  4.0984714e-06,  4.0993264e-06],\n",
      "       [-2.3978613e-03, -3.2595177e-03, -1.8434911e-03, ...,\n",
      "         4.5819697e-06,  4.5798884e-06,  4.5811212e-06],\n",
      "       [-1.7440978e-03, -2.2325860e-03, -2.4877475e-03, ...,\n",
      "         3.3023684e-06,  3.2997441e-06,  3.3013760e-06]], dtype=float32)>, <tf.Tensor: shape=(10000,), dtype=float32, numpy=\n",
      "array([-0.7979982 , -1.0313319 , -1.0313314 , ...,  0.00200066,\n",
      "        0.00200043,  0.00200058], dtype=float32)>]\n"
     ]
    }
   ],
   "source": [
    "print(grad_t_list)"
   ]
  },
  {
   "cell_type": "markdown",
   "metadata": {},
   "source": [
    "\n",
    "\n",
    "\n",
    "now, we have a list of tensors, t-list. We can use it to find clipped tensors. <b>clip_by_global_norm</b> clips values of multiple tensors by the ratio of the sum of their norms.\n",
    "\n",
    "<b>clip_by_global_norm</b> get <i>t-list</i> as input and returns 2 things:\n",
    "<ul>\n",
    "    <li>a list of clipped tensors, so called <i>list_clipped</i></li> \n",
    "    <li>the global norm (global_norm) of all tensors in t_list</li> \n",
    "</ul>\n"
   ]
  },
  {
   "cell_type": "code",
   "execution_count": 47,
   "metadata": {
    "tags": []
   },
   "outputs": [
    {
     "data": {
      "text/plain": [
       "[<tensorflow.python.framework.indexed_slices.IndexedSlices at 0x7fc545373110>,\n",
       " <tf.Tensor: shape=(200, 1024), dtype=float32, numpy=\n",
       " array([[-1.5527021e-07,  3.4416558e-07, -2.6122879e-07, ...,\n",
       "          6.1560934e-07, -5.5412670e-09, -1.1694178e-07],\n",
       "        [ 2.1459729e-07,  1.1693079e-07,  3.5586169e-07, ...,\n",
       "          1.8067352e-08,  4.3389122e-07,  3.5547214e-07],\n",
       "        [-2.4379455e-07,  1.8119687e-07,  3.4988190e-07, ...,\n",
       "         -3.4928044e-07, -3.2215247e-08, -4.5585560e-07],\n",
       "        ...,\n",
       "        [ 8.2482643e-10,  9.0174638e-07,  4.8108882e-07, ...,\n",
       "         -8.6853703e-08, -1.6360403e-07, -3.1726768e-07],\n",
       "        [-5.2259338e-08, -1.3067546e-07,  4.8740560e-07, ...,\n",
       "         -9.9967295e-08,  8.1737329e-07,  1.1397859e-07],\n",
       "        [ 2.5475640e-07,  4.3372410e-08,  7.5199245e-07, ...,\n",
       "          8.3497824e-08,  1.3803509e-07,  1.3784934e-07]], dtype=float32)>,\n",
       " <tf.Tensor: shape=(256, 1024), dtype=float32, numpy=\n",
       " array([[-1.2364268e-07,  6.3208176e-08,  2.9091137e-08, ...,\n",
       "         -5.5324744e-08, -7.6978068e-09, -7.8709533e-08],\n",
       "        [ 6.1612290e-08,  3.4579440e-08, -7.9560209e-08, ...,\n",
       "         -7.5161381e-08,  1.7942179e-07, -8.1015216e-08],\n",
       "        [-2.0022306e-07,  1.4920829e-08,  1.5795244e-07, ...,\n",
       "         -5.8329903e-08,  3.8672034e-08,  5.0692627e-08],\n",
       "        ...,\n",
       "        [ 3.7019213e-08, -1.2424223e-08, -5.4405938e-09, ...,\n",
       "          2.6475757e-07,  3.0562859e-08,  2.3769587e-08],\n",
       "        [-5.9510441e-08, -4.3425182e-08,  4.2735824e-08, ...,\n",
       "          2.3711454e-08,  5.0870682e-07,  9.9336717e-09],\n",
       "        [ 1.5906863e-07, -1.8647516e-07,  5.1308291e-11, ...,\n",
       "          4.1118174e-08,  9.1404502e-09, -4.6163535e-07]], dtype=float32)>,\n",
       " <tf.Tensor: shape=(1024,), dtype=float32, numpy=\n",
       " array([ 5.55141128e-07, -1.04702085e-05,  1.38809810e-05, ...,\n",
       "         7.09459664e-06,  4.35374386e-05, -2.49469194e-05], dtype=float32)>,\n",
       " <tf.Tensor: shape=(256, 512), dtype=float32, numpy=\n",
       " array([[-2.14230838e-07,  4.49664839e-08,  5.56161694e-08, ...,\n",
       "          3.19969956e-07, -1.48950619e-07,  3.66989639e-09],\n",
       "        [ 5.42021894e-09,  1.14881935e-07, -8.78390409e-08, ...,\n",
       "          2.02183557e-07, -4.42322659e-08,  1.60027568e-07],\n",
       "        [ 1.17478102e-07, -7.05996612e-08, -1.07662913e-07, ...,\n",
       "         -2.50606718e-08,  1.32911083e-07,  2.33665361e-07],\n",
       "        ...,\n",
       "        [-3.97268032e-08, -1.67485283e-07,  3.87033658e-08, ...,\n",
       "          2.60284878e-08,  1.94910641e-07,  2.85573662e-08],\n",
       "        [-7.06389898e-08,  8.07238010e-09,  8.77407587e-08, ...,\n",
       "          1.03219229e-07, -3.70349369e-07,  4.39180468e-07],\n",
       "        [-4.60469387e-08,  1.56397221e-07, -8.29390530e-08, ...,\n",
       "          3.88535483e-07, -1.04810695e-07,  1.10770372e-07]], dtype=float32)>,\n",
       " <tf.Tensor: shape=(128, 512), dtype=float32, numpy=\n",
       " array([[-2.1529274e-07, -5.8093379e-09,  4.7038966e-08, ...,\n",
       "          7.2780821e-08, -1.8892479e-07,  2.5349456e-07],\n",
       "        [-1.2778509e-07, -1.8103002e-07,  1.5259336e-07, ...,\n",
       "         -1.7761487e-08,  1.2483466e-07, -1.9876050e-07],\n",
       "        [ 1.8954500e-08,  2.5509253e-08, -2.1195673e-08, ...,\n",
       "          1.0978177e-08, -2.1494728e-07,  1.0400555e-07],\n",
       "        ...,\n",
       "        [ 1.3910403e-07,  2.4765953e-08, -8.1397495e-08, ...,\n",
       "          5.3004351e-07,  7.9319356e-08,  7.4971837e-08],\n",
       "        [ 2.8413204e-08, -6.7581794e-08, -1.1541840e-07, ...,\n",
       "          2.0329267e-07, -3.9450450e-07,  8.4902098e-08],\n",
       "        [-1.1719057e-07, -4.7750142e-08, -2.2638357e-08, ...,\n",
       "          2.1105663e-07, -1.1392862e-07,  7.0523853e-08]], dtype=float32)>,\n",
       " <tf.Tensor: shape=(512,), dtype=float32, numpy=\n",
       " array([ 8.38376764e-08, -1.19499618e-05, -1.07040605e-05,  3.09543793e-05,\n",
       "         4.65884877e-05, -4.43819545e-07, -6.56200154e-06,  3.03824054e-05,\n",
       "        -1.69559062e-05,  3.26528379e-06, -4.92059917e-05,  7.67455713e-05,\n",
       "         1.55155722e-05, -5.18779852e-05, -8.57094437e-06, -1.05610643e-05,\n",
       "         5.40670444e-05,  2.22209328e-05,  1.21401399e-05,  1.37118677e-05,\n",
       "         3.73351722e-05, -1.48280133e-05,  5.96877726e-06,  3.12450493e-06,\n",
       "        -5.53997597e-06, -1.87680871e-06,  9.36268552e-05,  1.56543720e-05,\n",
       "        -2.67644973e-05,  4.20834585e-05, -2.31143040e-05, -4.88623300e-06,\n",
       "        -1.12820780e-05,  1.87194928e-06, -5.10627979e-05,  6.59247235e-08,\n",
       "        -2.44495714e-05, -9.12346695e-06, -1.91821509e-05, -4.40832591e-05,\n",
       "         5.72491881e-05,  6.11465612e-06, -3.09469979e-05,  4.26859924e-06,\n",
       "         2.07760295e-05, -3.41432715e-05, -3.64612861e-05, -1.82404856e-05,\n",
       "         1.90208993e-05,  9.39508027e-09,  8.12465878e-05,  2.71129593e-05,\n",
       "        -1.03371320e-04, -1.90139544e-05,  2.98712184e-05, -5.26036274e-06,\n",
       "         8.37668340e-05, -1.22910769e-05,  2.04490607e-05,  5.00911046e-05,\n",
       "        -2.23883144e-05,  2.39165274e-05,  8.00041744e-06, -3.04301902e-05,\n",
       "         4.71019230e-05,  1.52001940e-05, -5.45422590e-05,  5.47520904e-06,\n",
       "        -2.52181035e-05, -2.77529853e-05,  3.05381327e-05,  6.82178779e-07,\n",
       "        -3.65251071e-06,  1.28694194e-06, -3.46974957e-06, -1.51134918e-06,\n",
       "        -2.23977986e-05, -2.08992515e-06,  5.40392648e-06, -1.99943388e-05,\n",
       "        -7.50631516e-05,  3.50688424e-07,  4.73279943e-05,  3.14634963e-05,\n",
       "         1.09057601e-05,  1.73977401e-06, -3.05160356e-05,  2.57038246e-05,\n",
       "         2.12073355e-05, -8.93304823e-05,  2.13670864e-06, -6.44521424e-05,\n",
       "         5.38580862e-05, -7.44810313e-06, -1.56940441e-05,  2.43331997e-05,\n",
       "        -1.35514356e-05,  1.90463215e-05, -2.45202209e-05,  1.86503203e-05,\n",
       "         4.09082713e-05, -4.93059306e-05,  4.98176705e-05,  2.50715184e-05,\n",
       "        -7.00083838e-05, -1.03208922e-05, -2.15301734e-05, -9.99608674e-05,\n",
       "        -2.00862069e-05, -1.21892899e-05,  2.60821071e-05,  2.11651786e-06,\n",
       "         6.69375186e-06,  2.07123594e-05,  1.91863164e-05,  1.22833953e-05,\n",
       "         2.38344073e-05, -1.07148815e-04, -1.12609405e-06, -1.37673796e-05,\n",
       "         5.28535456e-05,  1.19666984e-05,  8.28846260e-06, -2.04836469e-05,\n",
       "         3.48015674e-05,  8.48527416e-05, -3.34320757e-05,  1.45361828e-05,\n",
       "        -2.74437352e-05, -4.98304007e-06, -8.54358404e-06,  2.15244600e-05,\n",
       "         6.21771978e-05,  9.06155583e-06, -2.30192527e-05,  4.13265225e-05,\n",
       "        -3.03347915e-05,  1.43810867e-05, -8.31103025e-05,  1.19029661e-04,\n",
       "         1.89138882e-05, -5.93572477e-05, -7.13880763e-06, -4.61250966e-05,\n",
       "         1.56564711e-05, -1.51248478e-05, -5.09916026e-06,  1.29739783e-05,\n",
       "         5.97891485e-05, -1.28516986e-05,  2.29539473e-05, -2.89535728e-06,\n",
       "        -1.76283102e-05, -3.07176651e-06,  1.40300443e-04,  8.61434728e-06,\n",
       "        -2.26608381e-06,  5.81116547e-05, -3.54191870e-05, -4.82654650e-06,\n",
       "        -2.30117730e-05, -7.60055991e-06, -4.85803175e-05,  1.43555826e-05,\n",
       "        -2.06866389e-05, -2.90101730e-06, -3.13089367e-05, -3.76102689e-05,\n",
       "         8.01138303e-05, -6.63736455e-06, -5.40940091e-05, -2.19535032e-05,\n",
       "         4.93168554e-05, -4.56838134e-05, -3.66744134e-05, -8.88963768e-06,\n",
       "         1.46317188e-05, -4.02103178e-05,  1.13096918e-04,  3.76417520e-05,\n",
       "        -1.04326464e-04, -2.06700570e-05,  2.27563905e-05, -2.30042024e-05,\n",
       "         1.03759885e-04, -1.41655619e-06,  3.93443333e-05,  7.03038822e-05,\n",
       "        -1.77668517e-05,  5.62772402e-06,  1.61856860e-05, -6.78858669e-06,\n",
       "         7.91596831e-05,  2.95514837e-05, -8.67492927e-05,  1.10411875e-05,\n",
       "        -3.39526850e-05, -2.37445838e-05,  3.07574774e-05, -1.01090536e-05,\n",
       "        -1.81844644e-05,  2.13708554e-05, -3.98572229e-05,  1.07575161e-05,\n",
       "        -3.23124368e-05, -5.62810092e-05, -1.94731319e-06, -1.55967355e-05,\n",
       "        -1.08742199e-04, -2.57516276e-05,  6.02590444e-05,  4.26860825e-05,\n",
       "         3.17329286e-05, -1.79008530e-05, -6.89335138e-05,  2.60480629e-05,\n",
       "         6.01453394e-05, -1.14222072e-04, -8.11040536e-06, -7.67574311e-05,\n",
       "         8.24218441e-05, -5.29519411e-06, -3.02017143e-05,  4.94090054e-05,\n",
       "        -2.78729112e-05,  3.96374380e-05, -3.10507967e-05,  1.16679985e-06,\n",
       "         8.04591255e-05, -3.18252278e-05,  5.84766422e-05,  6.33011950e-07,\n",
       "        -8.63175956e-05, -1.89571510e-05, -4.21572367e-05, -1.41583150e-04,\n",
       "        -3.02052704e-05,  1.56632232e-05,  2.44940202e-05,  2.76984683e-05,\n",
       "        -2.05060824e-05,  2.94907586e-05,  3.97862495e-05,  1.59343108e-05,\n",
       "         2.74769209e-05, -1.14052149e-04, -1.36462249e-05, -4.89689410e-05,\n",
       "         5.36498519e-05,  2.27946366e-05,  6.02003456e-06, -2.40239424e-05,\n",
       "         4.67199170e-05,  9.48431552e-05, -8.01324204e-05,  1.53615219e-05,\n",
       "        -1.54255889e-02, -1.64654758e-02,  8.44920753e-04, -1.10086380e-02,\n",
       "         3.48948278e-02, -2.23222375e-02, -4.86888783e-03, -4.15783841e-03,\n",
       "         5.42942854e-03, -5.84039986e-02,  1.08871646e-02,  4.10275757e-02,\n",
       "        -3.80778871e-03,  3.78169380e-02, -3.62521457e-03, -8.25503096e-03,\n",
       "        -1.38995033e-02, -4.17943113e-02,  2.70133540e-02,  2.30518188e-02,\n",
       "         2.18554842e-03,  6.20744051e-03,  4.01255814e-03,  5.01071215e-02,\n",
       "        -8.65577348e-03,  1.86749436e-02, -4.29646969e-02, -7.02128140e-03,\n",
       "         1.15461089e-02,  2.78326832e-02, -1.58418231e-02, -1.99631769e-02,\n",
       "         1.95506122e-02, -6.36861194e-04,  8.87711253e-03, -1.97915621e-02,\n",
       "        -5.47754541e-02,  1.51797738e-02, -3.77201103e-02, -5.65738790e-03,\n",
       "        -1.80440806e-02,  8.73709656e-03, -4.43074331e-02, -2.77582556e-03,\n",
       "         4.80551943e-02,  2.67348792e-02, -6.31458638e-03,  1.70171428e-02,\n",
       "         4.57021743e-02,  2.79066851e-03,  3.73062640e-02, -3.41654085e-02,\n",
       "        -3.05682309e-02,  5.38702123e-02,  1.79471560e-02,  1.86625980e-02,\n",
       "        -4.06014062e-02,  1.52900023e-03, -1.96920075e-02,  7.45266527e-02,\n",
       "         1.98036302e-02,  9.85570159e-03, -1.60449147e-02,  2.75455266e-02,\n",
       "        -2.93715596e-02,  1.99850090e-02,  3.16850543e-02, -2.42445152e-03,\n",
       "        -1.36571901e-03,  4.13734764e-02,  1.44164283e-02, -1.68276951e-02,\n",
       "        -1.88672096e-02, -9.02018975e-03,  2.21641026e-02, -1.73915774e-02,\n",
       "        -1.03400126e-02, -1.62365995e-02,  1.10190660e-02,  5.53443516e-03,\n",
       "        -4.13771942e-02,  1.76557917e-02,  6.29234910e-02, -1.27582960e-02,\n",
       "        -5.16719604e-03, -3.43052149e-02,  1.32791819e-02, -2.85035651e-02,\n",
       "         4.52622771e-02,  1.46765867e-02,  6.65527396e-03, -3.36153731e-02,\n",
       "        -2.43191756e-02,  5.57948137e-04, -5.08567225e-03,  5.86880222e-02,\n",
       "         4.33480740e-03,  4.55094948e-02, -2.05399767e-02,  6.17592931e-02,\n",
       "        -2.66822781e-02, -2.40000486e-02,  1.65237710e-02, -6.86914334e-03,\n",
       "        -2.96416581e-02,  2.61556413e-02, -1.87106691e-02,  1.36390189e-02,\n",
       "        -1.71072148e-02,  1.81421209e-02, -4.16572019e-02,  2.98602525e-02,\n",
       "         4.49247509e-02,  1.08547974e-02,  4.55316249e-03,  2.62859669e-02,\n",
       "        -2.82264873e-02,  8.22585374e-02,  1.14629157e-02, -2.83969492e-02,\n",
       "         2.01412011e-02, -1.82460807e-02,  8.00065510e-03, -2.52218544e-02,\n",
       "         1.72231663e-02,  4.62997220e-02, -3.33429947e-02, -5.26092155e-03,\n",
       "         7.53143104e-06, -3.85869043e-06, -1.02284985e-05,  1.93224951e-05,\n",
       "         6.03501685e-05,  4.21500499e-06, -1.34479833e-05,  3.41380073e-05,\n",
       "        -1.72957753e-05,  4.19123717e-06, -6.05435780e-05,  8.95416451e-05,\n",
       "         1.92312291e-05, -4.99618036e-05, -1.72417585e-05, -9.83858445e-06,\n",
       "         5.84680711e-05,  2.05152082e-05,  1.41028868e-05,  1.55397611e-05,\n",
       "         3.88636727e-05, -1.36415947e-05, -1.70307476e-06, -2.13403064e-06,\n",
       "        -3.43132706e-06, -7.83255746e-06,  1.12087786e-04,  7.74388172e-06,\n",
       "        -3.10341529e-05,  5.02950352e-05, -2.99705571e-05,  1.50715096e-06,\n",
       "        -1.79120707e-05,  1.13564965e-07, -5.39972352e-05,  8.34988987e-06,\n",
       "        -2.91007691e-05, -6.86852945e-06, -2.09523514e-05, -4.02951737e-05,\n",
       "         6.46189437e-05,  1.37826919e-05, -4.23466554e-05, -3.73523835e-06,\n",
       "         3.59527476e-05, -3.08212839e-05, -3.56570708e-05, -8.40008215e-06,\n",
       "         1.43417328e-05, -2.92002733e-06,  9.82290803e-05,  3.13572455e-05,\n",
       "        -1.06211497e-04, -1.45908480e-05,  2.91889646e-05, -1.74074303e-05,\n",
       "         1.04577412e-04, -3.07133523e-05,  2.53217058e-05,  5.98634797e-05,\n",
       "        -2.21893879e-05,  2.84334146e-05,  1.97385307e-05, -3.20400977e-05,\n",
       "         4.98639747e-05,  1.63776349e-06, -6.77786302e-05,  8.43706948e-06,\n",
       "        -3.12459342e-05, -3.50472910e-05,  3.02896260e-05, -2.93539824e-06,\n",
       "        -6.44710963e-06,  6.24769200e-07, -1.19876040e-05,  1.46646380e-06,\n",
       "        -2.34744348e-05, -8.53901111e-06,  1.45606668e-06, -2.13848652e-05,\n",
       "        -8.01432179e-05, -3.81731752e-07,  6.11156574e-05,  4.12894369e-05,\n",
       "         9.85607494e-06,  4.92854952e-06, -4.26410443e-05,  2.67558662e-05,\n",
       "         2.25154981e-05, -9.35860589e-05, -7.86056717e-07, -7.06848805e-05,\n",
       "         4.95474524e-05, -4.34632057e-06, -1.60977816e-05,  2.23647094e-05,\n",
       "        -1.36050021e-05,  1.70174462e-05, -2.98202231e-05,  2.03406980e-05,\n",
       "         4.29325373e-05, -4.55908448e-05,  5.05539501e-05,  2.01791117e-05,\n",
       "        -7.64727229e-05, -1.37162751e-05, -2.70117816e-05, -1.16172865e-04,\n",
       "        -3.10233372e-05, -1.37474244e-05,  3.35257391e-05,  4.35569405e-07,\n",
       "         7.72024759e-06,  2.39906985e-05,  2.88439005e-05,  1.42206836e-05,\n",
       "         2.22927501e-05, -1.16461350e-04, -5.46022375e-06, -2.11365896e-05,\n",
       "         5.42120179e-05,  1.11632053e-05,  1.01089954e-05, -2.52045375e-05,\n",
       "         4.13135422e-05,  9.06786081e-05, -3.68289475e-05,  2.36812593e-05],\n",
       "       dtype=float32)>,\n",
       " <tf.Tensor: shape=(128, 10000), dtype=float32, numpy=\n",
       " array([[-8.2927610e-04, -2.0645652e-03, -8.3717296e-04, ...,\n",
       "          2.2781742e-06,  2.2766380e-06,  2.2758845e-06],\n",
       "        [ 4.1718254e-04,  1.4569596e-03, -7.2851870e-04, ...,\n",
       "         -1.9560782e-06, -1.9576037e-06, -1.9570625e-06],\n",
       "        [ 1.7925235e-04, -1.1498193e-04, -5.7591213e-04, ...,\n",
       "          3.0966322e-07,  3.0974030e-07,  3.0977748e-07],\n",
       "        ...,\n",
       "        [-2.1729071e-03, -1.9017352e-03, -2.5756257e-03, ...,\n",
       "          4.0980958e-06,  4.0984714e-06,  4.0993264e-06],\n",
       "        [-2.3978613e-03, -3.2595177e-03, -1.8434911e-03, ...,\n",
       "          4.5819697e-06,  4.5798884e-06,  4.5811212e-06],\n",
       "        [-1.7440978e-03, -2.2325860e-03, -2.4877475e-03, ...,\n",
       "          3.3023684e-06,  3.2997441e-06,  3.3013760e-06]], dtype=float32)>,\n",
       " <tf.Tensor: shape=(10000,), dtype=float32, numpy=\n",
       " array([-0.7979982 , -1.0313319 , -1.0313314 , ...,  0.00200066,\n",
       "         0.00200043,  0.00200058], dtype=float32)>]"
      ]
     },
     "execution_count": 47,
     "metadata": {},
     "output_type": "execute_result"
    }
   ],
   "source": [
    "# Define the gradient clipping threshold\n",
    "grads, _ = tf.clip_by_global_norm(grad_t_list, max_grad_norm)\n",
    "grads"
   ]
  },
  {
   "cell_type": "markdown",
   "metadata": {},
   "source": [
    "<h4> 4.Apply the optimizer to the variables/gradients tuple. </h4>\n"
   ]
  },
  {
   "cell_type": "code",
   "execution_count": 48,
   "metadata": {
    "tags": []
   },
   "outputs": [],
   "source": [
    "# Create the training TensorFlow Operation through our optimizer\n",
    "train_op = optimizer.apply_gradients(zip(grads, tvars))"
   ]
  },
  {
   "cell_type": "markdown",
   "metadata": {},
   "source": [
    "<a id=\"ltsm\"></a>\n",
    "<h2>LSTM</h2>\n"
   ]
  },
  {
   "cell_type": "markdown",
   "metadata": {},
   "source": [
    "We learned how the model is build step by step. Noe, let's then create a Class that represents our model. This class needs a few things:\n",
    "<ul>\n",
    "    <li>We have to create the model in accordance with our defined hyperparameters</li>\n",
    "    <li>We have to create the LSTM cell structure and connect them with our RNN structure</li>\n",
    "    <li>We have to create the word embeddings and point them to the input data</li>\n",
    "    <li>We have to create the input structure for our RNN</li>\n",
    "    <li>We need to create a logistic structure to return the probability of our words</li>\n",
    "    <li>We need to create the loss and cost functions for our optimizer to work, and then create the optimizer</li>\n",
    "    <li>And finally, we need to create a training operation that can be run to actually train our model</li>\n",
    "</ul>\n"
   ]
  },
  {
   "cell_type": "code",
   "execution_count": 49,
   "metadata": {
    "tags": []
   },
   "outputs": [],
   "source": [
    "class PTBModel(object):\n",
    "\n",
    "\n",
    "    def __init__(self):\n",
    "        ######################################\n",
    "        # Setting parameters for ease of use #\n",
    "        ######################################\n",
    "        self.batch_size = batch_size\n",
    "        self.num_steps = num_steps\n",
    "        self.hidden_size_l1 = hidden_size_l1\n",
    "        self.hidden_size_l2 = hidden_size_l2\n",
    "        self.vocab_size = vocab_size\n",
    "        self.embeding_vector_size = embeding_vector_size\n",
    "        # Create a variable for the learning rate\n",
    "        self._lr = 1.0\n",
    "        \n",
    "        ###############################################################################\n",
    "        # Initializing the model using keras Sequential API  #\n",
    "        ###############################################################################\n",
    "        \n",
    "        self._model = tf.keras.models.Sequential()\n",
    "        \n",
    "        ####################################################################\n",
    "        # Creating the word embeddings layer and adding it to the sequence #\n",
    "        ####################################################################\n",
    "        with tf.device(\"/cpu:0\"):\n",
    "            # Create the embeddings for our input data. Size is hidden size.\n",
    "            self._embedding_layer = tf.keras.layers.Embedding(self.vocab_size, self.embeding_vector_size,batch_input_shape=(self.batch_size, self.num_steps),trainable=True,name=\"embedding_vocab\")  #[10000x200]\n",
    "            self._model.add(self._embedding_layer)\n",
    "            \n",
    "\n",
    "        ##########################################################################\n",
    "        # Creating the LSTM cell structure and connect it with the RNN structure #\n",
    "        ##########################################################################\n",
    "        # Create the LSTM Cells. \n",
    "        # This creates only the structure for the LSTM and has to be associated with a RNN unit still.\n",
    "        # The argument  of LSTMCell is size of hidden layer, that is, the number of hidden units of the LSTM (inside A). \n",
    "        # LSTM cell processes one word at a time and computes probabilities of the possible continuations of the sentence.\n",
    "        lstm_cell_l1 = tf.keras.layers.LSTMCell(hidden_size_l1)\n",
    "        lstm_cell_l2 = tf.keras.layers.LSTMCell(hidden_size_l2)\n",
    "        \n",
    "\n",
    "        \n",
    "        # By taking in the LSTM cells as parameters, the StackedRNNCells function junctions the LSTM units to the RNN units.\n",
    "        # RNN cell composed sequentially of stacked simple cells.\n",
    "        stacked_lstm = tf.keras.layers.StackedRNNCells([lstm_cell_l1, lstm_cell_l2])\n",
    "\n",
    "\n",
    "        \n",
    "\n",
    "        ############################################\n",
    "        # Creating the input structure for our RNN #\n",
    "        ############################################\n",
    "        # Input structure is 20x[30x200]\n",
    "        # Considering each word is represended by a 200 dimentional vector, and we have 30 batchs, we create 30 word-vectors of size [30xx2000]\n",
    "        # The input structure is fed from the embeddings, which are filled in by the input data\n",
    "        # Feeding a batch of b sentences to a RNN:\n",
    "        # In step 1,  first word of each of the b sentences (in a batch) is input in parallel.  \n",
    "        # In step 2,  second word of each of the b sentences is input in parallel. \n",
    "        # The parallelism is only for efficiency.  \n",
    "        # Each sentence in a batch is handled in parallel, but the network sees one word of a sentence at a time and does the computations accordingly. \n",
    "        # All the computations involving the words of all sentences in a batch at a given time step are done in parallel. \n",
    "\n",
    "        ########################################################################################################\n",
    "        # Instantiating our RNN model and setting stateful to True to feed forward the state to the next layer #\n",
    "        ########################################################################################################\n",
    "        \n",
    "        self._RNNlayer  =  tf.keras.layers.RNN(stacked_lstm,[batch_size, num_steps],return_state=False,stateful=True,trainable=True)\n",
    "        \n",
    "        # Define the initial state, i.e., the model state for the very first data point\n",
    "        # It initialize the state of the LSTM memory. The memory state of the network is initialized with a vector of zeros and gets updated after reading each word.\n",
    "        self._initial_state = tf.Variable(tf.zeros([batch_size,embeding_vector_size]),trainable=False)\n",
    "        self._RNNlayer.inital_state = self._initial_state\n",
    "    \n",
    "        ############################################\n",
    "        # Adding RNN layer to keras sequential API #\n",
    "        ############################################        \n",
    "        self._model.add(self._RNNlayer)\n",
    "        \n",
    "        #self._model.add(tf.keras.layers.LSTM(hidden_size_l1,return_sequences=True,stateful=True))\n",
    "        #self._model.add(tf.keras.layers.LSTM(hidden_size_l2,return_sequences=True))\n",
    "        \n",
    "        \n",
    "        ####################################################################################################\n",
    "        # Instantiating a Dense layer that connects the output to the vocab_size  and adding layer to model#\n",
    "        ####################################################################################################\n",
    "        self._dense = tf.keras.layers.Dense(self.vocab_size)\n",
    "        self._model.add(self._dense)\n",
    " \n",
    "        \n",
    "        ####################################################################################################\n",
    "        # Adding softmax activation layer and deriving probability to each class and adding layer to model #\n",
    "        ####################################################################################################\n",
    "        self._activation = tf.keras.layers.Activation('softmax')\n",
    "        self._model.add(self._activation)\n",
    "\n",
    "        ##########################################################\n",
    "        # Instantiating the stochastic gradient decent optimizer #\n",
    "        ########################################################## \n",
    "        self._optimizer = tf.keras.optimizers.SGD(lr=self._lr, clipnorm=max_grad_norm)\n",
    "        \n",
    "        \n",
    "        ##############################################################################\n",
    "        # Compiling and summarizing the model stacked using the keras sequential API #\n",
    "        ##############################################################################\n",
    "        self._model.compile(loss=self.crossentropy, optimizer=self._optimizer)\n",
    "        self._model.summary()\n",
    "\n",
    "\n",
    "    def crossentropy(self,y_true, y_pred):\n",
    "        return tf.keras.losses.sparse_categorical_crossentropy(y_true, y_pred)\n",
    "\n",
    "    def train_batch(self,_input_data,_targets):\n",
    "        #################################################\n",
    "        # Creating the Training Operation for our Model #\n",
    "        #################################################\n",
    "        # Create a variable for the learning rate\n",
    "        self._lr = tf.Variable(0.0, trainable=False)\n",
    "        # Get all TensorFlow variables marked as \"trainable\" (i.e. all of them except _lr, which we just created)\n",
    "        tvars = self._model.trainable_variables\n",
    "        # Define the gradient clipping threshold\n",
    "        with tf.GradientTape() as tape:\n",
    "            # Forward pass.\n",
    "            output_words_prob = self._model(_input_data)\n",
    "            # Loss value for this batch.\n",
    "            loss  = self.crossentropy(_targets, output_words_prob)\n",
    "            # average across batch and reduce sum\n",
    "            cost = tf.reduce_sum(loss/ self.batch_size)\n",
    "        # Get gradients of loss wrt the trainable variables.\n",
    "        grad_t_list = tape.gradient(cost, tvars)\n",
    "        # Define the gradient clipping threshold\n",
    "        grads, _ = tf.clip_by_global_norm(grad_t_list, max_grad_norm)\n",
    "        # Create the training TensorFlow Operation through our optimizer\n",
    "        train_op = self._optimizer.apply_gradients(zip(grads, tvars))\n",
    "        return cost\n",
    "        \n",
    "    def test_batch(self,_input_data,_targets):\n",
    "        #################################################\n",
    "        # Creating the Testing Operation for our Model #\n",
    "        #################################################\n",
    "        output_words_prob = self._model(_input_data)\n",
    "        loss  = self.crossentropy(_targets, output_words_prob)\n",
    "        # average across batch and reduce sum\n",
    "        cost = tf.reduce_sum(loss/ self.batch_size)\n",
    "\n",
    "        return cost\n",
    "    @classmethod\n",
    "    def instance(cls) : \n",
    "        return PTBModel()"
   ]
  },
  {
   "cell_type": "markdown",
   "metadata": {},
   "source": [
    "With that, the actual structure of our Recurrent Neural Network with Long Short-Term Memory is finished. What remains for us to do is to actually create the methods to run through time -- that is, the <code>run_epoch</code> method to be run at each epoch and a <code>main</code> script which ties all of this together.\n",
    "\n",
    "What our <code>run_epoch</code> method should do is take our input data and feed it to the relevant operations. This will return at the very least the current result for the cost function.\n"
   ]
  },
  {
   "cell_type": "code",
   "execution_count": 50,
   "metadata": {
    "tags": []
   },
   "outputs": [],
   "source": [
    "\n",
    "########################################################################################################################\n",
    "# run_one_epoch takes as parameters  the model instance, the data to be fed, training or testing mode and verbose info #\n",
    "########################################################################################################################\n",
    "def run_one_epoch(m, data,is_training=True,verbose=False):\n",
    "\n",
    "    #Define the epoch size based on the length of the data, batch size and the number of steps\n",
    "    epoch_size = ((len(data) // m.batch_size) - 1) // m.num_steps\n",
    "    start_time = time.time()\n",
    "    costs = 0.\n",
    "    iters = 0\n",
    "    \n",
    "    m._model.reset_states()\n",
    "    \n",
    "    #For each step and data point\n",
    "    for step, (x, y) in enumerate(ptb_iterator(data, m.batch_size, m.num_steps)):\n",
    "        \n",
    "        #Evaluate and return cost, state by running cost, final_state and the function passed as parameter\n",
    "        #y = tf.keras.utils.to_categorical(y, num_classes=vocab_size)\n",
    "        if is_training : \n",
    "            loss=  m.train_batch(x, y)\n",
    "        else :\n",
    "            loss = m.test_batch(x, y)\n",
    "                                   \n",
    "\n",
    "        #Add returned cost to costs (which keeps track of the total costs for this epoch)\n",
    "        costs += loss\n",
    "        \n",
    "        #Add number of steps to iteration counter\n",
    "        iters += m.num_steps\n",
    "\n",
    "        if verbose and step % (epoch_size // 10) == 10:\n",
    "            print(\"Itr %d of %d, perplexity: %.3f speed: %.0f wps\" % (step , epoch_size, np.exp(costs / iters), iters * m.batch_size / (time.time() - start_time)))\n",
    "        \n",
    "\n",
    "\n",
    "    # Returns the Perplexity rating for us to keep track of how the model is evolving\n",
    "    return np.exp(costs / iters)\n"
   ]
  },
  {
   "cell_type": "markdown",
   "metadata": {},
   "source": [
    "Now, we create the <code>main</code> method to tie everything together. The code here reads the data from the directory, using the <code>reader</code> helper module, and then trains and evaluates the model on both a testing and a validating subset of data.\n"
   ]
  },
  {
   "cell_type": "code",
   "execution_count": 51,
   "metadata": {
    "tags": []
   },
   "outputs": [],
   "source": [
    "# Reads the data and separates it into training data, validation data and testing data\n",
    "raw_data = ptb_raw_data(data_dir)\n",
    "train_data, valid_data, test_data, _, _ = raw_data"
   ]
  },
  {
   "cell_type": "code",
   "execution_count": 52,
   "metadata": {
    "tags": []
   },
   "outputs": [
    {
     "name": "stdout",
     "output_type": "stream",
     "text": [
      "Model: \"sequential_1\"\n",
      "_________________________________________________________________\n",
      " Layer (type)                Output Shape              Param #   \n",
      "=================================================================\n",
      " embedding_vocab (Embedding)  (30, 20, 200)            2000000   \n",
      "                                                                 \n",
      " rnn_1 (RNN)                 (30, 20, 128)             671088    \n",
      "                                                                 \n",
      " dense_1 (Dense)             (30, 20, 10000)           1290000   \n",
      "                                                                 \n",
      " activation_1 (Activation)   (30, 20, 10000)           0         \n",
      "                                                                 \n",
      "=================================================================\n",
      "Total params: 3,961,088\n",
      "Trainable params: 3,955,088\n",
      "Non-trainable params: 6,000\n",
      "_________________________________________________________________\n",
      "Epoch 1 : Learning rate: 1.000\n",
      "Itr 10 of 1549, perplexity: 4474.346 speed: 1085 wps\n",
      "Itr 164 of 1549, perplexity: 1081.420 speed: 1165 wps\n",
      "Itr 318 of 1549, perplexity: 840.163 speed: 1172 wps\n",
      "Itr 472 of 1549, perplexity: 693.538 speed: 1176 wps\n",
      "Itr 626 of 1549, perplexity: 587.805 speed: 1183 wps\n",
      "Itr 780 of 1549, perplexity: 520.509 speed: 1186 wps\n",
      "Itr 934 of 1549, perplexity: 469.301 speed: 1186 wps\n",
      "Itr 1088 of 1549, perplexity: 430.887 speed: 1190 wps\n",
      "Itr 1242 of 1549, perplexity: 401.493 speed: 1190 wps\n",
      "Itr 1396 of 1549, perplexity: 374.255 speed: 1187 wps\n",
      "Epoch 1 : Train Perplexity: 352.721\n",
      "Epoch 1 : Valid Perplexity: 212.441\n",
      "Epoch 2 : Learning rate: 1.000\n",
      "Itr 10 of 1549, perplexity: 235.142 speed: 1150 wps\n",
      "Itr 164 of 1549, perplexity: 209.208 speed: 1171 wps\n",
      "Itr 318 of 1549, perplexity: 200.686 speed: 1173 wps\n",
      "Itr 472 of 1549, perplexity: 192.577 speed: 1174 wps\n",
      "Itr 626 of 1549, perplexity: 183.697 speed: 1175 wps\n",
      "Itr 780 of 1549, perplexity: 180.123 speed: 1174 wps\n",
      "Itr 934 of 1549, perplexity: 176.198 speed: 1173 wps\n",
      "Itr 1088 of 1549, perplexity: 172.888 speed: 1171 wps\n",
      "Itr 1242 of 1549, perplexity: 170.510 speed: 1171 wps\n",
      "Itr 1396 of 1549, perplexity: 166.504 speed: 1172 wps\n",
      "Epoch 2 : Train Perplexity: 163.749\n",
      "Epoch 2 : Valid Perplexity: 162.393\n",
      "Epoch 3 : Learning rate: 1.000\n",
      "Itr 10 of 1549, perplexity: 161.080 speed: 1177 wps\n",
      "Itr 164 of 1549, perplexity: 147.582 speed: 1181 wps\n",
      "Itr 318 of 1549, perplexity: 143.986 speed: 1181 wps\n",
      "Itr 472 of 1549, perplexity: 139.423 speed: 1177 wps\n",
      "Itr 626 of 1549, perplexity: 134.346 speed: 1178 wps\n",
      "Itr 780 of 1549, perplexity: 133.140 speed: 1170 wps\n",
      "Itr 934 of 1549, perplexity: 131.387 speed: 1169 wps\n",
      "Itr 1088 of 1549, perplexity: 129.845 speed: 1171 wps\n",
      "Itr 1242 of 1549, perplexity: 129.011 speed: 1171 wps\n",
      "Itr 1396 of 1549, perplexity: 126.726 speed: 1173 wps\n",
      "Epoch 3 : Train Perplexity: 125.439\n",
      "Epoch 3 : Valid Perplexity: 145.197\n",
      "Epoch 4 : Learning rate: 1.000\n",
      "Itr 10 of 1549, perplexity: 130.025 speed: 1150 wps\n",
      "Itr 164 of 1549, perplexity: 120.787 speed: 1173 wps\n",
      "Itr 318 of 1549, perplexity: 118.931 speed: 1170 wps\n",
      "Itr 472 of 1549, perplexity: 115.442 speed: 1155 wps\n",
      "Itr 626 of 1549, perplexity: 111.599 speed: 1153 wps\n",
      "Itr 780 of 1549, perplexity: 111.116 speed: 1155 wps\n",
      "Itr 934 of 1549, perplexity: 110.037 speed: 1157 wps\n",
      "Itr 1088 of 1549, perplexity: 109.093 speed: 1161 wps\n",
      "Itr 1242 of 1549, perplexity: 108.716 speed: 1163 wps\n",
      "Itr 1396 of 1549, perplexity: 107.030 speed: 1165 wps\n",
      "Epoch 4 : Train Perplexity: 106.254\n",
      "Epoch 4 : Valid Perplexity: 136.245\n",
      "Epoch 5 : Learning rate: 1.000\n",
      "Itr 10 of 1549, perplexity: 111.771 speed: 1171 wps\n",
      "Itr 164 of 1549, perplexity: 105.375 speed: 1179 wps\n",
      "Itr 318 of 1549, perplexity: 103.988 speed: 1171 wps\n",
      "Itr 472 of 1549, perplexity: 101.146 speed: 1166 wps\n",
      "Itr 626 of 1549, perplexity: 97.906 speed: 1168 wps\n",
      "Itr 780 of 1549, perplexity: 97.749 speed: 1169 wps\n",
      "Itr 934 of 1549, perplexity: 96.999 speed: 1170 wps\n",
      "Itr 1088 of 1549, perplexity: 96.302 speed: 1170 wps\n",
      "Itr 1242 of 1549, perplexity: 96.093 speed: 1171 wps\n",
      "Itr 1396 of 1549, perplexity: 94.729 speed: 1173 wps\n",
      "Epoch 5 : Train Perplexity: 94.197\n",
      "Epoch 5 : Valid Perplexity: 133.055\n",
      "Epoch 6 : Learning rate: 0.500\n",
      "Itr 10 of 1549, perplexity: 99.761 speed: 1182 wps\n",
      "Itr 164 of 1549, perplexity: 91.869 speed: 1190 wps\n",
      "Itr 318 of 1549, perplexity: 89.376 speed: 1182 wps\n",
      "Itr 472 of 1549, perplexity: 85.964 speed: 1163 wps\n",
      "Itr 626 of 1549, perplexity: 82.472 speed: 1155 wps\n",
      "Itr 780 of 1549, perplexity: 81.666 speed: 1156 wps\n",
      "Itr 934 of 1549, perplexity: 80.476 speed: 1155 wps\n",
      "Itr 1088 of 1549, perplexity: 79.268 speed: 1152 wps\n",
      "Itr 1242 of 1549, perplexity: 78.500 speed: 1150 wps\n",
      "Itr 1396 of 1549, perplexity: 76.787 speed: 1152 wps\n",
      "Epoch 6 : Train Perplexity: 75.822\n",
      "Epoch 6 : Valid Perplexity: 124.357\n",
      "Epoch 7 : Learning rate: 0.250\n",
      "Itr 10 of 1549, perplexity: 83.223 speed: 1166 wps\n",
      "Itr 164 of 1549, perplexity: 78.898 speed: 1165 wps\n",
      "Itr 318 of 1549, perplexity: 76.973 speed: 1171 wps\n",
      "Itr 472 of 1549, perplexity: 74.064 speed: 1172 wps\n",
      "Itr 626 of 1549, perplexity: 70.943 speed: 1176 wps\n",
      "Itr 780 of 1549, perplexity: 70.168 speed: 1177 wps\n",
      "Itr 934 of 1549, perplexity: 69.064 speed: 1169 wps\n",
      "Itr 1088 of 1549, perplexity: 67.917 speed: 1167 wps\n",
      "Itr 1242 of 1549, perplexity: 67.095 speed: 1167 wps\n",
      "Itr 1396 of 1549, perplexity: 65.485 speed: 1167 wps\n",
      "Epoch 7 : Train Perplexity: 64.497\n",
      "Epoch 7 : Valid Perplexity: 122.414\n",
      "Epoch 8 : Learning rate: 0.125\n",
      "Itr 10 of 1549, perplexity: 74.482 speed: 1195 wps\n",
      "Itr 164 of 1549, perplexity: 71.624 speed: 1187 wps\n",
      "Itr 318 of 1549, perplexity: 69.933 speed: 1176 wps\n",
      "Itr 472 of 1549, perplexity: 67.364 speed: 1177 wps\n",
      "Itr 626 of 1549, perplexity: 64.525 speed: 1175 wps\n",
      "Itr 780 of 1549, perplexity: 63.831 speed: 1173 wps\n",
      "Itr 934 of 1549, perplexity: 62.800 speed: 1171 wps\n",
      "Itr 1088 of 1549, perplexity: 61.707 speed: 1168 wps\n",
      "Itr 1242 of 1549, perplexity: 60.904 speed: 1166 wps\n",
      "Itr 1396 of 1549, perplexity: 59.398 speed: 1166 wps\n",
      "Epoch 8 : Train Perplexity: 58.445\n",
      "Epoch 8 : Valid Perplexity: 122.028\n",
      "Epoch 9 : Learning rate: 0.062\n",
      "Itr 10 of 1549, perplexity: 70.221 speed: 1195 wps\n",
      "Itr 164 of 1549, perplexity: 67.855 speed: 1180 wps\n",
      "Itr 318 of 1549, perplexity: 66.302 speed: 1172 wps\n",
      "Itr 472 of 1549, perplexity: 63.906 speed: 1162 wps\n",
      "Itr 626 of 1549, perplexity: 61.191 speed: 1164 wps\n",
      "Itr 780 of 1549, perplexity: 60.536 speed: 1168 wps\n",
      "Itr 934 of 1549, perplexity: 59.562 speed: 1167 wps\n",
      "Itr 1088 of 1549, perplexity: 58.509 speed: 1165 wps\n",
      "Itr 1242 of 1549, perplexity: 57.713 speed: 1166 wps\n",
      "Itr 1396 of 1549, perplexity: 56.258 speed: 1164 wps\n",
      "Epoch 9 : Train Perplexity: 55.327\n",
      "Epoch 9 : Valid Perplexity: 122.086\n",
      "Epoch 10 : Learning rate: 0.031\n",
      "Itr 10 of 1549, perplexity: 68.100 speed: 1213 wps\n",
      "Itr 164 of 1549, perplexity: 65.887 speed: 1203 wps\n",
      "Itr 318 of 1549, perplexity: 64.373 speed: 1202 wps\n",
      "Itr 472 of 1549, perplexity: 62.066 speed: 1209 wps\n",
      "Itr 626 of 1549, perplexity: 59.416 speed: 1212 wps\n",
      "Itr 780 of 1549, perplexity: 58.780 speed: 1214 wps\n",
      "Itr 934 of 1549, perplexity: 57.832 speed: 1209 wps\n",
      "Itr 1088 of 1549, perplexity: 56.806 speed: 1206 wps\n",
      "Itr 1242 of 1549, perplexity: 56.015 speed: 1207 wps\n",
      "Itr 1396 of 1549, perplexity: 54.588 speed: 1208 wps\n",
      "Epoch 10 : Train Perplexity: 53.665\n",
      "Epoch 10 : Valid Perplexity: 122.291\n",
      "Epoch 11 : Learning rate: 0.016\n",
      "Itr 10 of 1549, perplexity: 67.046 speed: 1203 wps\n",
      "Itr 164 of 1549, perplexity: 64.855 speed: 1170 wps\n",
      "Itr 318 of 1549, perplexity: 63.350 speed: 1173 wps\n",
      "Itr 472 of 1549, perplexity: 61.082 speed: 1172 wps\n",
      "Itr 626 of 1549, perplexity: 58.469 speed: 1166 wps\n",
      "Itr 780 of 1549, perplexity: 57.844 speed: 1166 wps\n",
      "Itr 934 of 1549, perplexity: 56.900 speed: 1168 wps\n",
      "Itr 1088 of 1549, perplexity: 55.885 speed: 1169 wps\n",
      "Itr 1242 of 1549, perplexity: 55.099 speed: 1166 wps\n",
      "Itr 1396 of 1549, perplexity: 53.686 speed: 1165 wps\n",
      "Epoch 11 : Train Perplexity: 52.763\n",
      "Epoch 11 : Valid Perplexity: 122.376\n",
      "Epoch 12 : Learning rate: 0.008\n",
      "Itr 10 of 1549, perplexity: 66.450 speed: 1204 wps\n",
      "Itr 164 of 1549, perplexity: 64.303 speed: 1166 wps\n",
      "Itr 318 of 1549, perplexity: 62.809 speed: 1165 wps\n",
      "Itr 472 of 1549, perplexity: 60.558 speed: 1169 wps\n",
      "Itr 626 of 1549, perplexity: 57.959 speed: 1163 wps\n",
      "Itr 780 of 1549, perplexity: 57.339 speed: 1166 wps\n",
      "Itr 934 of 1549, perplexity: 56.393 speed: 1166 wps\n",
      "Itr 1088 of 1549, perplexity: 55.385 speed: 1163 wps\n",
      "Itr 1242 of 1549, perplexity: 54.601 speed: 1161 wps\n",
      "Itr 1396 of 1549, perplexity: 53.196 speed: 1162 wps\n",
      "Epoch 12 : Train Perplexity: 52.274\n",
      "Epoch 12 : Valid Perplexity: 122.222\n",
      "Epoch 13 : Learning rate: 0.004\n",
      "Itr 10 of 1549, perplexity: 66.078 speed: 1162 wps\n",
      "Itr 164 of 1549, perplexity: 63.982 speed: 1178 wps\n",
      "Itr 318 of 1549, perplexity: 62.507 speed: 1175 wps\n",
      "Itr 472 of 1549, perplexity: 60.269 speed: 1182 wps\n",
      "Itr 626 of 1549, perplexity: 57.678 speed: 1185 wps\n",
      "Itr 780 of 1549, perplexity: 57.059 speed: 1186 wps\n",
      "Itr 934 of 1549, perplexity: 56.115 speed: 1182 wps\n",
      "Itr 1088 of 1549, perplexity: 55.111 speed: 1181 wps\n",
      "Itr 1242 of 1549, perplexity: 54.328 speed: 1179 wps\n",
      "Itr 1396 of 1549, perplexity: 52.929 speed: 1180 wps\n",
      "Epoch 13 : Train Perplexity: 52.009\n",
      "Epoch 13 : Valid Perplexity: 121.976\n",
      "Epoch 14 : Learning rate: 0.002\n",
      "Itr 10 of 1549, perplexity: 65.848 speed: 1203 wps\n",
      "Itr 164 of 1549, perplexity: 63.785 speed: 1190 wps\n",
      "Itr 318 of 1549, perplexity: 62.329 speed: 1191 wps\n",
      "Itr 472 of 1549, perplexity: 60.107 speed: 1185 wps\n",
      "Itr 626 of 1549, perplexity: 57.521 speed: 1181 wps\n",
      "Itr 780 of 1549, perplexity: 56.904 speed: 1177 wps\n",
      "Itr 934 of 1549, perplexity: 55.963 speed: 1173 wps\n",
      "Itr 1088 of 1549, perplexity: 54.962 speed: 1176 wps\n",
      "Itr 1242 of 1549, perplexity: 54.181 speed: 1180 wps\n",
      "Itr 1396 of 1549, perplexity: 52.785 speed: 1181 wps\n",
      "Epoch 14 : Train Perplexity: 51.867\n",
      "Epoch 14 : Valid Perplexity: 121.784\n",
      "Epoch 15 : Learning rate: 0.001\n",
      "Itr 10 of 1549, perplexity: 65.719 speed: 1174 wps\n",
      "Itr 164 of 1549, perplexity: 63.668 speed: 1188 wps\n",
      "Itr 318 of 1549, perplexity: 62.223 speed: 1193 wps\n",
      "Itr 472 of 1549, perplexity: 60.013 speed: 1198 wps\n",
      "Itr 626 of 1549, perplexity: 57.433 speed: 1199 wps\n",
      "Itr 780 of 1549, perplexity: 56.818 speed: 1197 wps\n",
      "Itr 934 of 1549, perplexity: 55.880 speed: 1200 wps\n",
      "Itr 1088 of 1549, perplexity: 54.881 speed: 1200 wps\n",
      "Itr 1242 of 1549, perplexity: 54.101 speed: 1198 wps\n",
      "Itr 1396 of 1549, perplexity: 52.708 speed: 1198 wps\n",
      "Epoch 15 : Train Perplexity: 51.791\n",
      "Epoch 15 : Valid Perplexity: 121.679\n",
      "Test Perplexity: 116.931\n"
     ]
    }
   ],
   "source": [
    "# Instantiates the PTBModel class\n",
    "m=PTBModel.instance()   \n",
    "K = tf.keras.backend \n",
    "for i in range(max_epoch):\n",
    "    # Define the decay for this epoch\n",
    "    lr_decay = decay ** max(i - max_epoch_decay_lr, 0.0)\n",
    "    dcr = learning_rate * lr_decay\n",
    "    m._lr = dcr\n",
    "    K.set_value(m._model.optimizer.learning_rate,m._lr)\n",
    "    print(\"Epoch %d : Learning rate: %.3f\" % (i + 1, m._model.optimizer.learning_rate))\n",
    "    # Run the loop for this epoch in the training mode\n",
    "    train_perplexity = run_one_epoch(m, train_data,is_training=True,verbose=True)\n",
    "    print(\"Epoch %d : Train Perplexity: %.3f\" % (i + 1, train_perplexity))\n",
    "        \n",
    "    # Run the loop for this epoch in the validation mode\n",
    "    valid_perplexity = run_one_epoch(m, valid_data,is_training=False,verbose=False)\n",
    "    print(\"Epoch %d : Valid Perplexity: %.3f\" % (i + 1, valid_perplexity))\n",
    "    \n",
    "# Run the loop in the testing mode to see how effective was our training\n",
    "test_perplexity = run_one_epoch(m, test_data,is_training=False,verbose=False)\n",
    "print(\"Test Perplexity: %.3f\" % test_perplexity)\n",
    "\n"
   ]
  },
 {
   "cell_type": "markdown",
   "metadata": {},
   "source": [
    "###  **Learner's Name**: Faiber Alonso Leal"
   ]
  },
  {
   "cell_type": "markdown",
   "metadata": {},
   "source": [
    "As you can see, the model's perplexity rating drops very quickly after a few iterations. As was elaborated before, <b>lower Perplexity means that the model is more certain about its prediction</b>. As such, we can be sure that this model is performing well!\n"
   ]
  },
  {
   "cell_type": "markdown",
   "metadata": {},
   "source": [
    "-------\n"
   ]
  },
  {
   "cell_type": "markdown",
   "metadata": {},
   "source": [
    "This is the end of the <b>Applying Recurrent Neural Networks to Text Processing</b> notebook. Hopefully you now have a better understanding of Recurrent Neural Networks and how to implement one utilizing TensorFlow. Thank you for reading this notebook, and good luck on your studies.\n"
   ]
  },
  {
   "cell_type": "markdown",
   "metadata": {},
   "source": [
    "## Want to learn more?\n",
    "\n",
    "Also, you can use __Watson Studio__ to run these notebooks faster with bigger datasets.__Watson Studio__ is IBM’s leading cloud solution for data scientists, built by data scientists. With Jupyter notebooks, RStudio, Apache Spark and popular libraries pre-packaged in the cloud, __Watson Studio__ enables data scientists to collaborate on their projects without having to install anything. Join the fast-growing community of __Watson Studio__ users today with a free account at [Watson Studio](https://cocl.us/ML0120EN_DSX).This is the end of this lesson. Thank you for reading this notebook, and good luck on your studies.\n"
   ]
  },
  {
   "cell_type": "markdown",
   "metadata": {},
   "source": [
    "### Thanks for completing this lesson!\n",
    "\n",
    "Notebook created by <a href=\"https://br.linkedin.com/in/walter-gomes-de-amorim-junior-624726121\">Walter Gomes de Amorim Junior</a>, <a href = \"https://linkedin.com/in/saeedaghabozorgi\"> Saeed Aghabozorgi </a></h4>\n",
    "\n",
    "\n",
    "Updated to TF 2.X by  <a href=\"https://www.linkedin.com/in/samaya-madhavan\"> Samaya Madhavan </a>\n"
   ]
  },
  {
   "cell_type": "markdown",
   "metadata": {},
   "source": [
    "<hr>\n",
    "\n",
    "Copyright &copy; 2018 [Cognitive Class](https://cocl.us/DX0108EN_CC). This notebook and its source code are released under the terms of the [MIT License](https://bigdatauniversity.com/mit-license/).\n"
   ]
  }
 ],
 "metadata": {
  "kernelspec": {
   "display_name": "Python",
   "language": "python",
   "name": "conda-env-python-py"
  },
  "language_info": {
   "codemirror_mode": {
    "name": "ipython",
    "version": 3
   },
   "file_extension": ".py",
   "mimetype": "text/x-python",
   "name": "python",
   "nbconvert_exporter": "python",
   "pygments_lexer": "ipython3",
   "version": "3.7.12"
  },
  "prev_pub_hash": "dc854cc2a3cd5e8454549d14810f586268aa35a4c1ca674849cd9bf9674931b2"
 },
 "nbformat": 4,
 "nbformat_minor": 4
}
