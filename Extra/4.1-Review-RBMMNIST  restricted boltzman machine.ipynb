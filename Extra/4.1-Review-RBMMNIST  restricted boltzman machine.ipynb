{
 "cells": [
  {
   "cell_type": "markdown",
   "metadata": {},
   "source": [
    "<img src=\"https://cf-courses-data.s3.us.cloud-object-storage.appdomain.cloud/IBMDeveloperSkillsNetwork-DL0120EN-SkillsNetwork/images/IDSN-logo.png\" width=\"300\" alt=\"cognitiveclass.ai logo\">\n",
    "\n",
    "<h1 align=\"center\"><font size=\"5\">RESTRICTED BOLTZMANN MACHINES</font></h1>\n"
   ]
  },
  {
   "cell_type": "markdown",
   "metadata": {},
   "source": [
    "Estimated time needed: **25** minutes\n"
   ]
  },
  {
   "cell_type": "markdown",
   "metadata": {},
   "source": [
    "<h3>Introduction</h3>\n",
    "<b>Restricted Boltzmann Machine (RBM):</b>  RBMs are shallow neural nets that learn to reconstruct data by themselves in an unsupervised fashion.  \n",
    "\n",
    "\n",
    "<h4>Why are RBMs important?</h4>\n",
    "An RBM are a basic form of autoencoder.  It can automatically extract <b>meaningful</b> features from a given input.\n",
    "\n",
    "\n",
    "<h4>How does it work?</h4>\n",
    "RBM is a 2 layer neural network. Simply, RBM takes the inputs and translates those into a set of binary values that represents them in the hidden layer. Then, these numbers can be translated back to reconstruct the inputs. Through several forward and backward passes, the RBM will be trained, and a trained RBM can reveal which features are the most important ones when detecting patterns.   \n",
    "\n",
    "\n",
    "<h4>What are the applications of an RBM?</h4>\n",
    "RBM is useful for <a href='http://www.cs.utoronto.ca/~hinton/absps/netflixICML.pdf'>  Collaborative Filtering</a>, dimensionality reduction, classification, regression, feature learning, topic modeling and even <b>Deep Belief Networks</b>.\n",
    "\n",
    "<h4>Is RBM a generative or Discriminative model?</h4>\n",
    "RBM is a generative model. Let me explain it by first, see what is different between discriminative and generative models: \n",
    "\n",
    "<b>Discriminative:</b> Consider a classification problem where we want to learn to distinguish between Sedan cars (y = 1) and SUV cars (y = 0), based on some features of cars. Given a training set, an algorithm like logistic regression tries to find a straight line, or <i>decision boundary</i>, that separates the suv and sedan.  \n",
    "\n",
    "<b>Generative:</b> looking at cars, we can build a model of what Sedan cars look like. Then, looking at SUVs, we can build a separate model of what SUV cars look like. Finally, to classify a new car, we can match the new car against the Sedan model, and match it against the SUV model, to see whether the new car looks more like the SUV or Sedan. \n",
    "\n",
    "Generative Models specify a probability distribution over a dataset of input vectors. We can carry out both supervised and unsupervised tasks with generative models:\n",
    "<ul>\n",
    "    <li>In an unsupervised task, we try to form a model for $P(x)$, where $P$ is the probability given $x$ as an input vector.</li>\n",
    "    <li>In the supervised task, we first form a model for $P(x|y)$, where $P$ is the probability of $x$ given $y$(the label for $x$). For example, if $y = 0$ indicates that a car is an SUV, and $y = 1$ indicates that a car is a sedan, then $p(x|y = 0)$ models the distribution of SUV features, and $p(x|y = 1)$ models the distribution of sedan features. If we manage to find $P(x|y)$ and $P(y)$, then we can use <b>Bayes rule</b> to estimate $P(y|x)$, because:   \n",
    "        $$p(y|x) = \\frac{p(x|y)p(y)}{p(x)}$$</li>\n",
    "</ul>\n",
    "Now the question is, can we build a generative model, and then use it to create synthetic data by directly sampling from the modeled probability distributions? Lets see. \n"
   ]
  },
  {
   "cell_type": "markdown",
   "metadata": {},
   "source": [
    "<h2>Table of Contents</h2>\n",
    "<ol>\n",
    "    <li><a href=\"#ref1\">Initialization</a></li>\n",
    "    <li><a href=\"#ref2\">RBM layers</a></li>\n",
    "    <li><a href=\"#ref3\">What RBM can do after training?</a></li>\n",
    "    <li><a href=\"#ref4\">How to train the model?</a></li>\n",
    "    <li><a href=\"#ref5\">Learned features</a></li>\n",
    "</ol>\n",
    "<p></p>\n",
    "</div>\n",
    "<br>\n",
    "\n",
    "<hr>\n"
   ]
  },
  {
   "cell_type": "markdown",
   "metadata": {},
   "source": [
    "<a id=\"ref1\"></a>\n",
    "<h3>Initialization</h3>\n",
    "\n",
    "First, we have to load the utility file which contains different utility functions that are not connected\n",
    "in any way to the networks presented in the tutorials, but rather help in\n",
    "processing the outputs into a more understandable way.\n"
   ]
  },
  {
   "cell_type": "code",
   "execution_count": null,
   "metadata": {},
   "outputs": [],
   "source": [
    "import urllib.request\n",
    "with urllib.request.urlopen(\"https://cf-courses-data.s3.us.cloud-object-storage.appdomain.cloud/IBMDeveloperSkillsNetwork-DL0120EN-SkillsNetwork/labs/Week4/data/utils.py\") as url:\n",
    "    response = url.read()\n",
    "target = open('utils.py', 'w')\n",
    "target.write(response.decode('utf-8'))\n",
    "target.close()"
   ]
  },
  {
   "cell_type": "markdown",
   "metadata": {},
   "source": [
    "<h2>Installing TensorFlow </h2>\n",
    "\n",
    "We will installing TensorFlow version 2.9.0 and its required prerequistes.  Also installing pillow...\n"
   ]
  },
  {
   "cell_type": "code",
   "execution_count": null,
   "metadata": {},
   "outputs": [],
   "source": [
    "!pip install grpcio==1.24.3\n",
    "!pip install tensorflow==2.9.0\n",
    "!pip install pillow==8.1.0"
   ]
  },
  {
   "cell_type": "markdown",
   "metadata": {},
   "source": [
    "**Restart kernel for latest version of TensorFlow to be activated, then continue to the next section.**\n"
   ]
  },
  {
   "cell_type": "markdown",
   "metadata": {},
   "source": [
    "<b>Notice:</b> This notebook has been created with TensorFlow version 2.9.0, and might not work with other versions. Therefore we check:\n"
   ]
  },
  {
   "cell_type": "code",
   "execution_count": 1,
   "metadata": {},
   "outputs": [
    {
     "name": "stderr",
     "output_type": "stream",
     "text": [
      "2024-07-22 02:02:46.930203: I tensorflow/core/util/util.cc:169] oneDNN custom operations are on. You may see slightly different numerical results due to floating-point round-off errors from different computation orders. To turn them off, set the environment variable `TF_ENABLE_ONEDNN_OPTS=0`.\n",
      "2024-07-22 02:02:46.939523: W tensorflow/stream_executor/platform/default/dso_loader.cc:64] Could not load dynamic library 'libcudart.so.11.0'; dlerror: libcudart.so.11.0: cannot open shared object file: No such file or directory\n",
      "2024-07-22 02:02:46.939555: I tensorflow/stream_executor/cuda/cudart_stub.cc:29] Ignore above cudart dlerror if you do not have a GPU set up on your machine.\n"
     ]
    }
   ],
   "source": [
    "import tensorflow as tf\n",
    "from IPython.display import Markdown, display\n",
    "\n",
    "def printmd(string):\n",
    "    display(Markdown('# <span style=\"color:red\">'+string+'</span>'))\n",
    "\n",
    "\n",
    "if not tf.__version__ == '2.9.0':\n",
    "    printmd('<<<<<!!!!! ERROR !!!! please upgrade to TensorFlow 2.9.0, or restart your Kernel (Kernel->Restart & Clear Output)>>>>>')"
   ]
  },
  {
   "cell_type": "markdown",
   "metadata": {},
   "source": [
    "Now, we load in all the packages that we use to create the net including the TensorFlow package:\n"
   ]
  },
  {
   "cell_type": "code",
   "execution_count": 2,
   "metadata": {},
   "outputs": [],
   "source": [
    "import tensorflow as tf\n",
    "import numpy as np\n",
    "\n",
    "from PIL import Image\n",
    "from utils import tile_raster_images\n",
    "import matplotlib.pyplot as plt\n",
    "%matplotlib inline"
   ]
  },
  {
   "cell_type": "markdown",
   "metadata": {},
   "source": [
    "<hr>\n"
   ]
  },
  {
   "cell_type": "markdown",
   "metadata": {},
   "source": [
    "<a id=\"ref2\"></a>\n",
    "<h3>RBM layers</h3>\n",
    "\n",
    "An RBM has two layers. The first layer of the RBM is called the <b>visible</b> (or input layer). Imagine that our toy example, has only vectors with 7 values, so the visible layer must have $V=7$ input nodes. \n",
    "The second layer is the <b>hidden</b> layer, which has $H$ neurons in our case. Each hidden node takes on values of either 0 or 1 (i.e., $h_i = 1$ or $h_i$ = 0), with a probability that is a logistic function of the inputs it receives from the other $V$ visible units, called for example, $p(h_i = 1)$. For our toy sample, we'll use 2 nodes in the hidden layer, so $H = 2$.\n",
    "\n",
    "<center><img src=\"https://ibm.box.com/shared/static/eu26opvcefgls6vnwuo29uwp0nudmokh.png\" alt=\"RBM Model\" style=\"width: 400px;\"></center>\n"
   ]
  },
  {
   "cell_type": "markdown",
   "metadata": {},
   "source": [
    "     \n",
    "\n",
    "Each node in the first layer also has a <b>bias</b>. We will denote the bias as $v_{bias}$, and this single value is shared among the $V$ visible units.\n",
    "\n",
    "The <b>bias</b> of the second is defined similarly as $h_{bias}$, and this single value among the $H$ hidden units.\n"
   ]
  },
  {
   "cell_type": "code",
   "execution_count": 3,
   "metadata": {},
   "outputs": [
    {
     "name": "stderr",
     "output_type": "stream",
     "text": [
      "2024-07-22 02:02:50.459439: W tensorflow/stream_executor/platform/default/dso_loader.cc:64] Could not load dynamic library 'libcuda.so.1'; dlerror: libcuda.so.1: cannot open shared object file: No such file or directory\n",
      "2024-07-22 02:02:50.459496: W tensorflow/stream_executor/cuda/cuda_driver.cc:269] failed call to cuInit: UNKNOWN ERROR (303)\n",
      "2024-07-22 02:02:50.459524: I tensorflow/stream_executor/cuda/cuda_diagnostics.cc:156] kernel driver does not appear to be running on this host (jupyterlab-faiber): /proc/driver/nvidia/version does not exist\n",
      "2024-07-22 02:02:50.459977: I tensorflow/core/platform/cpu_feature_guard.cc:193] This TensorFlow binary is optimized with oneAPI Deep Neural Network Library (oneDNN) to use the following CPU instructions in performance-critical operations:  AVX2 AVX512F AVX512_VNNI FMA\n",
      "To enable them in other operations, rebuild TensorFlow with the appropriate compiler flags.\n"
     ]
    }
   ],
   "source": [
    "v_bias = tf.Variable(tf.zeros([7]), tf.float32)\n",
    "h_bias = tf.Variable(tf.zeros([2]), tf.float32)"
   ]
  },
  {
   "cell_type": "markdown",
   "metadata": {},
   "source": [
    "We have to define weights among the input layer and hidden layer nodes. In the weight matrix, the number of rows are equal to the input nodes, and the number of columns are equal to the output nodes. We define a tensor $\\mathbf{W}$ of shape = (7,2), where the number of visible neurons = 7, and the number of hidden neurons = 2. \n"
   ]
  },
  {
   "cell_type": "code",
   "execution_count": 4,
   "metadata": {},
   "outputs": [],
   "source": [
    "W = tf.constant(np.random.normal(loc=0.0, scale=1.0, size=(7, 2)).astype(np.float32))"
   ]
  },
  {
   "cell_type": "markdown",
   "metadata": {},
   "source": [
    "<hr>\n"
   ]
  },
  {
   "cell_type": "markdown",
   "metadata": {},
   "source": [
    "<a id=\"ref3\"></a>\n",
    "<h3>What RBM can do after training?</h3>\n",
    "Think of RBM as a model that has been trained based on images of a dataset of many SUV and sedan cars. Also, imagine that the RBM network has only two hidden nodes, where one node encodes the weight and, and the other encodes the size.  \n",
    "In a sense, the different configurations represent different cars, where one is an SUV and the other is Sedan.  In a training process, through many forward and backward passes, the RBM adjust its weights to send a stronger signal to either the SUV node (0, 1) or the sedan node (1, 0) in the hidden layer, given the pixels of images. Now, given an SUV in hidden layer, which distribution of pixels should we expect? RBM can give you 2 things. First, it encodes your images in hidden layer. Second, it gives you the probability of observing a case, given some hidden values.\n",
    "\n",
    "\n",
    "<h3>The Inference Process</h3>\n",
    "\n",
    "RBM has two phases:\n",
    "<ul>\n",
    "    <li>Forward Pass</li>  \n",
    "    <li>Backward Pass or Reconstruction</li>\n",
    "</ul>\n",
    "\n",
    "<b>Phase 1) Forward pass:</b>  \n",
    "\n",
    "Input one training sample (one image) $\\mathbf{x}$ through all visible nodes, and pass it to all hidden nodes. Processing happens in each node in the hidden layer. This computation begins by making stochastic decisions about whether to transmit that input or not (i.e. to determine the state of each hidden layer).  First, the probability vector is computed using the input feature vector $\\mathbf{x}$, the weight matrix $\\mathbf{W}$, and the bias term $h_{bias}$, as \n",
    "\n",
    "\n",
    "$$p({h_j}|\\mathbf x)= \\sigma( \\sum_{i=1}^V W_{ij} x_i + h_{bias} )$$, \n",
    "\n",
    "where $\\sigma(z) = (1+e^{-z})^{-1}$ is the logistic function.\n",
    "\n",
    "\n",
    "So, what does $p({h_j})$ represent? It is the <b>probability distribution</b> of the hidden units. That is, RBM uses inputs $x_i$ to make predictions about hidden node activations. For example, imagine that the hidden node activation values are [0.51 0.84] for the first training item. It tells you that the conditional probability for each hidden neuron for Phase 1 is: \n",
    "\n",
    "$$p(h_{1} = 1|\\mathbf{v}) = 0.51$$\n",
    "$$p(h_{2} = 1|\\mathbf{v}) = 0.84$$\n",
    "\n",
    "As a result, for each row in the training set, vector of probabilities is generated.  In TensorFlow, this is referred to as a `tensor` with a shape of (1,2). \n",
    "\n",
    "We then turn unit $j$ with probability $p(h_{j}|\\mathbf{v})$, and turn it off with probability $1 - p(h_{j}|\\mathbf{v})$ by generating a uniform random number vector $\\mathbf{\\xi}$, and comparing it to the activation probability as \n",
    "\n",
    "<center>If $\\xi_j>p(h_{j}|\\mathbf{v})$, then $h_j=1$, else $h_j=0$.</center>\n",
    "\n",
    "\n",
    "Therefore, the conditional probability of a configuration of $\\mathbf{h}$ given $\\mathbf{v}$ (for a training sample) is:\n",
    "\n",
    "$$p(\\mathbf{h} \\mid \\mathbf{v}) = \\prod_{j=1}^H p(h_j \\mid \\mathbf{v})$$\n",
    "\n",
    "\n",
    "where $H$ is the number of hidden units.\n",
    "\n"
   ]
  },
  {
   "cell_type": "markdown",
   "metadata": {},
   "source": [
    "Before we go further, let's look at a toy example for one case out of all input. Assume that we have a trained RBM, and a very simple input vector, such as [1.0, 0.0, 0.0, 1.0, 0.0, 0.0, 0.0].   \n",
    "Let's see what the output of forward pass would look like:\n"
   ]
  },
  {
   "cell_type": "code",
   "execution_count": 5,
   "metadata": {},
   "outputs": [
    {
     "name": "stdout",
     "output_type": "stream",
     "text": [
      "Input:  tf.Tensor([[1. 0. 0. 1. 0. 0. 0.]], shape=(1, 7), dtype=float32)\n",
      "hb:  tf.Tensor([0.1 0.1], shape=(2,), dtype=float32)\n",
      "w:  tf.Tensor(\n",
      "[[ 0.26289105  0.9860111 ]\n",
      " [-0.00309878 -0.79481786]\n",
      " [ 0.28014943  0.16803528]\n",
      " [-0.2279435  -0.21057816]\n",
      " [ 0.26740763  1.7036651 ]\n",
      " [ 0.11243208 -0.45151505]\n",
      " [ 0.68776876 -1.1582452 ]], shape=(7, 2), dtype=float32)\n",
      "p(h|v):  tf.Tensor([[0.53368574 0.7058749 ]], shape=(1, 2), dtype=float32)\n",
      "h0 states: tf.Tensor([[0. 1.]], shape=(1, 2), dtype=float32)\n"
     ]
    }
   ],
   "source": [
    "X = tf.constant([[1.0, 0.0, 0.0, 1.0, 0.0, 0.0, 0.0]], tf.float32)\n",
    "\n",
    "v_state = X\n",
    "print (\"Input: \", v_state)\n",
    "\n",
    "h_bias = tf.constant([0.1, 0.1])\n",
    "print (\"hb: \", h_bias)\n",
    "print (\"w: \", W)\n",
    "\n",
    "# Calculate the probabilities of turning the hidden units on:\n",
    "h_prob = tf.nn.sigmoid(tf.matmul(v_state, W) + h_bias)  #probabilities of the hidden units\n",
    "print (\"p(h|v): \", h_prob)\n",
    "\n",
    "# Draw samples from the distribution:\n",
    "h_state = tf.nn.relu(tf.sign(h_prob - tf.random.uniform(tf.shape(h_prob)))) #states\n",
    "print (\"h0 states:\", h_state)"
   ]
  },
  {
   "cell_type": "markdown",
   "metadata": {},
   "source": [
    "<b>Phase 2) Backward Pass (Reconstruction):</b>\n",
    "The RBM reconstructs data by making several forward and backward passes between the visible and hidden layers.\n",
    "\n",
    "So, in the second phase (i.e. reconstruction phase), the samples from the hidden layer (i.e. $\\mathbf h$) becomes the input in the backward pass. The same weight matrix and visible layer biases are used to passed to the sigmoid function. The reproduced output is a reconstruction which is an approximation of the original input.\n"
   ]
  },
  {
   "cell_type": "code",
   "execution_count": 6,
   "metadata": {},
   "outputs": [
    {
     "name": "stdout",
     "output_type": "stream",
     "text": [
      "b:  tf.Tensor([0.1 0.2 0.1 0.1 0.1 0.2 0.1], shape=(7,), dtype=float32)\n",
      "p(vi∣h):  tf.Tensor(\n",
      "[[0.7476298  0.35553017 0.5666105  0.4723836  0.85859454 0.43745062\n",
      "  0.25764495]], shape=(1, 7), dtype=float32)\n",
      "v probability states:  tf.Tensor([[1. 0. 1. 1. 1. 1. 0.]], shape=(1, 7), dtype=float32)\n"
     ]
    }
   ],
   "source": [
    "vb = tf.constant([0.1, 0.2, 0.1, 0.1, 0.1, 0.2, 0.1])\n",
    "print (\"b: \", vb)\n",
    "v_prob = tf.nn.sigmoid(tf.matmul(h_state, tf.transpose(W)) + vb)\n",
    "print (\"p(vi∣h): \", v_prob)\n",
    "v_state = tf.nn.relu(tf.sign(v_prob - tf.random.uniform(tf.shape(v_prob))))\n",
    "print (\"v probability states: \", v_state)"
   ]
  },
  {
   "cell_type": "markdown",
   "metadata": {},
   "source": [
    "RBM learns a probability distribution over the input, and then, after being trained, the RBM can generate new samples from the learned probability distribution. As you know, <b>probability distribution</b>, is a mathematical function that provides the probabilities of occurrence of different possible outcomes in an experiment.\n",
    "\n",
    "The (conditional) probability distribution over the visible units v is given by\n",
    "\n",
    "$$p(\\mathbf{v} \\mid \\mathbf{h}) = \\prod_{i=1}^V p(v_i \\mid \\mathbf{h}),$$\n",
    "\n",
    "\n",
    "where,\n",
    "\n",
    "$$p(v_i \\mid \\mathbf{h}) = \\sigma\\left(\\sum_{j=1}^H W_{ji} h_j + v_{bias} \\right)$$\n",
    "\n",
    "so, given current state of hidden units and weights, what is the probability of generating [1. 0. 0. 1. 0. 0. 0.] in reconstruction phase, based on the above <b>probability distribution</b> function?\n"
   ]
  },
  {
   "cell_type": "code",
   "execution_count": 7,
   "metadata": {},
   "outputs": [
    {
     "name": "stdout",
     "output_type": "stream",
     "text": [
      "input X: [[1. 0. 0. 1. 0. 0. 0.]]\n",
      "probablity vector: [0.7476298  0.35553017 0.5666105  0.4723836  0.85859454 0.43745062\n",
      " 0.25764495]\n",
      "probability of generating X:  0.0058250665\n"
     ]
    }
   ],
   "source": [
    "inp = X\n",
    "print(\"input X:\" , inp.numpy())\n",
    "\n",
    "print(\"probablity vector:\" , v_prob[0].numpy())\n",
    "v_probability = 1\n",
    "\n",
    "for elm, p in zip(inp[0],v_prob[0]) :\n",
    "    if elm ==1:\n",
    "        v_probability *= p\n",
    "    else:\n",
    "        v_probability *= (1-p)\n",
    "\n",
    "print(\"probability of generating X: \" , v_probability.numpy())"
   ]
  },
  {
   "cell_type": "markdown",
   "metadata": {},
   "source": [
    "How similar are vectors $\\mathbf{x}$ and $\\mathbf{v}$? Of course, the reconstructed values most likely will not look anything like the input vector, because our network has not been trained yet. Our objective is to train the model in such a way that the input vector and reconstructed vector to be same. Therefore, based on how different the input values look to the ones that we just reconstructed, the weights are adjusted. \n"
   ]
  },
  {
   "cell_type": "markdown",
   "metadata": {},
   "source": [
    "<hr>\n"
   ]
  },
  {
   "cell_type": "markdown",
   "metadata": {},
   "source": [
    "\n",
    "<h2>MNIST</h2>\n"
   ]
  },
  {
   "cell_type": "markdown",
   "metadata": {},
   "source": [
    "We will be using the MNIST dataset to practice the usage of RBMs. The following cell loads the MNIST dataset.\n"
   ]
  },
  {
   "cell_type": "code",
   "execution_count": 8,
   "metadata": {},
   "outputs": [
    {
     "name": "stdout",
     "output_type": "stream",
     "text": [
      "Downloading data from https://storage.googleapis.com/tensorflow/tf-keras-datasets/mnist.npz\n",
      "11490434/11490434 [==============================] - 0s 0us/step\n"
     ]
    }
   ],
   "source": [
    "#loading training and test data\n",
    "mnist = tf.keras.datasets.mnist\n",
    "(trX, trY), (teX, teY) = mnist.load_data()\n",
    "\n",
    "# showing an example of the Flatten class and operation\n",
    "from tensorflow.keras.layers import Flatten\n",
    "flatten = Flatten(dtype='float32')\n",
    "trX = flatten(trX/255.0)\n",
    "trY = flatten(trY/255.0)"
   ]
  },
  {
   "cell_type": "markdown",
   "metadata": {},
   "source": [
    "Lets look at the dimension of the images.\n"
   ]
  },
  {
   "cell_type": "markdown",
   "metadata": {},
   "source": [
    "MNIST images have 784 pixels, so the visible layer must have 784 input nodes.  For our case, we'll use 50 nodes in the hidden layer, so i = 50.\n"
   ]
  },
  {
   "cell_type": "code",
   "execution_count": 9,
   "metadata": {},
   "outputs": [],
   "source": [
    "vb = tf.Variable(tf.zeros([784]), tf.float32)\n",
    "hb = tf.Variable(tf.zeros([50]), tf.float32)"
   ]
  },
  {
   "cell_type": "markdown",
   "metadata": {},
   "source": [
    "Let $\\mathbf W$ be the Tensor of 784x50 (784 - number of visible neurons, 50 - number of hidden neurons) that represents weights between the neurons. \n"
   ]
  },
  {
   "cell_type": "code",
   "execution_count": 10,
   "metadata": {},
   "outputs": [],
   "source": [
    "W = tf.Variable(tf.zeros([784,50]), tf.float32)"
   ]
  },
  {
   "cell_type": "markdown",
   "metadata": {},
   "source": [
    "Lets define the visible layer:\n"
   ]
  },
  {
   "cell_type": "code",
   "execution_count": 11,
   "metadata": {},
   "outputs": [
    {
     "data": {
      "text/plain": [
       "<tf.Tensor: shape=(1, 50), dtype=float32, numpy=\n",
       "array([[0., 0., 0., 0., 0., 0., 0., 0., 0., 0., 0., 0., 0., 0., 0., 0.,\n",
       "        0., 0., 0., 0., 0., 0., 0., 0., 0., 0., 0., 0., 0., 0., 0., 0.,\n",
       "        0., 0., 0., 0., 0., 0., 0., 0., 0., 0., 0., 0., 0., 0., 0., 0.,\n",
       "        0., 0.]], dtype=float32)>"
      ]
     },
     "execution_count": 11,
     "metadata": {},
     "output_type": "execute_result"
    }
   ],
   "source": [
    "v0_state = tf.Variable(tf.zeros([784]), tf.float32)\n",
    "\n",
    "#testing to see if the matrix product works\n",
    "tf.matmul( [v0_state], W)"
   ]
  },
  {
   "cell_type": "markdown",
   "metadata": {},
   "source": [
    "Now, we can define hidden layer:\n"
   ]
  },
  {
   "cell_type": "code",
   "execution_count": 12,
   "metadata": {},
   "outputs": [
    {
     "name": "stdout",
     "output_type": "stream",
     "text": [
      "h0_state shape:  tf.Tensor([ 1 50], shape=(2,), dtype=int32)\n",
      "first 15 hidden states:  tf.Tensor([1. 0. 1. 1. 1. 0. 1. 0. 1. 1. 1. 0. 1. 1. 0.], shape=(15,), dtype=float32)\n"
     ]
    }
   ],
   "source": [
    "#computing the hidden nodes probability vector and checking shape\n",
    "h0_prob = tf.nn.sigmoid(tf.matmul([v0_state], W) + hb)  #probabilities of the hidden units\n",
    "print(\"h0_state shape: \" , tf.shape(h0_prob))\n",
    "\n",
    "#defining a function to return only the generated hidden states \n",
    "def hidden_layer(v0_state, W, hb):\n",
    "    h0_prob = tf.nn.sigmoid(tf.matmul([v0_state], W) + hb)  #probabilities of the hidden units\n",
    "    h0_state = tf.nn.relu(tf.sign(h0_prob - tf.random.uniform(tf.shape(h0_prob)))) #sample_h_given_X\n",
    "    return h0_state\n",
    "\n",
    "\n",
    "h0_state = hidden_layer(v0_state, W, hb)\n",
    "print(\"first 15 hidden states: \", h0_state[0][0:15])"
   ]
  },
  {
   "cell_type": "markdown",
   "metadata": {},
   "source": [
    "Now, we define reconstruction part:\n"
   ]
  },
  {
   "cell_type": "code",
   "execution_count": 13,
   "metadata": {},
   "outputs": [
    {
     "name": "stdout",
     "output_type": "stream",
     "text": [
      "hidden state shape:  (1, 50)\n",
      "v0 state shape:   (784,)\n",
      "v1 state shape:   (784,)\n"
     ]
    }
   ],
   "source": [
    "def reconstructed_output(h0_state, W, vb):\n",
    "    v1_prob = tf.nn.sigmoid(tf.matmul(h0_state, tf.transpose(W)) + vb) \n",
    "    v1_state = tf.nn.relu(tf.sign(v1_prob - tf.random.uniform(tf.shape(v1_prob)))) #sample_v_given_h\n",
    "    return v1_state[0]\n",
    "\n",
    "v1_state = reconstructed_output(h0_state, W, vb)\n",
    "print(\"hidden state shape: \", h0_state.shape)\n",
    "print(\"v0 state shape:  \", v0_state.shape)\n",
    "print(\"v1 state shape:  \", v1_state.shape)"
   ]
  },
  {
   "cell_type": "markdown",
   "metadata": {},
   "source": [
    "<h3>What is the objective function?</h3>\n",
    "\n",
    "<b>Goal</b>: Maximize the likelihood of our data being drawn from that distribution\n",
    "\n",
    "<b>Calculate error:</b>  \n",
    "In each epoch, we compute the \"error\" as a sum of the squared difference between step 1 and step n,\n",
    "e.g the error shows the difference between the data and its reconstruction.\n",
    "\n",
    "<b>Note:</b> tf.reduce_mean computes the mean of elements across dimensions of a tensor.\n"
   ]
  },
  {
   "cell_type": "code",
   "execution_count": 14,
   "metadata": {},
   "outputs": [
    {
     "name": "stdout",
     "output_type": "stream",
     "text": [
      "error 0.5242347\n"
     ]
    }
   ],
   "source": [
    "def error(v0_state, v1_state):\n",
    "    return tf.reduce_mean(tf.square(v0_state - v1_state))\n",
    "\n",
    "err = tf.reduce_mean(tf.square(v0_state - v1_state))\n",
    "print(\"error\" , err.numpy())"
   ]
  },
  {
   "cell_type": "markdown",
   "metadata": {},
   "source": [
    "<a id=\"ref4\"></a>\n",
    "<h3>Training the Model</h3>\n",
    "<b>Warning...</b> The following part is math-heavy, but you can skip it if you just want to run the cells in the next section.\n",
    "\n",
    "As mentioned, we want to give a high probability to the input data we train on. So, in order to train an RBM, we have to maximize the product of probabilities assigned to all rows $\\mathbf{v}$ (images) in the training set $\\mathbf{V}$ (a matrix, where each row of it is treated as a visible vector $\\mathbf{v}$)\n",
    "\n",
    "$$\\arg \\max_W \\prod_{\\mathbf{v}\\in\\mathbf{V}_T} p(\\mathbf{v})$$\n",
    "\n",
    "\n",
    "which is equivalent to maximizing the expectation of the log probability, given as\n",
    "\n",
    "$$\\arg\\max_W\\left[ \\mathbb{E} \\left(\\prod_{\\mathbf v\\in \\mathbf V}\\text{log} \\left(p(\\mathbf v)\\right) \\right) \\right].$$\n",
    "\n",
    "\n",
    "So, we have to update the weights $W_{ij}$  to increase $p(\\mathbf{v})$ for all $\\mathbf{v}$ in our training data during training. So we have to calculate the derivative:\n",
    "\n",
    "\n",
    "$$\\frac{\\partial \\log p(\\mathbf v)}{\\partial W_{ij}}$$\n",
    "\n",
    "This cannot be easily done by typical <b>gradient descent (SGD)</b>, so we can use another approach, which has 2 steps:\n",
    "<ol>\n",
    "    <li>Gibbs Sampling</li>\n",
    "    <li>Contrastive Divergence</li>\n",
    "</ol>    \n",
    "    \n",
    "<h3>Gibbs Sampling</h3>   \n",
    "\n",
    "<h4>Gibbs Sampling Step 1</h4> \n",
    "Given an input vector $\\mathbf{v}$, we are using $p(\\mathbf{h}|\\mathbf{v})$ to predict the hidden values $\\mathbf{h}$. \n",
    "  $$p({h_j}|\\mathbf v)= \\sigma\\left(\\sum_{i=1}^V W_{ij} v_i + h_{bias} \\right)$$\n",
    "The samples are generated from this distribution by generating the uniform random variate vector $\\mathbf{\\xi} \\sim U[0,1]$ of length $H$ and comparing to the computed probabilities as\n",
    "\n",
    "\n",
    "<center>If $\\xi_j>p(h_{j}|\\mathbf{v})$, then $h_j=1$, else $h_j=0$.</center>\n",
    "\n",
    "\n",
    "<h4>Gibbs Sampling Step 2</h4> \n",
    "Then, knowing the hidden values, we use $p(\\mathbf v| \\mathbf h)$ for reconstructing of new input values v. \n",
    "\n",
    "   $$p({v_i}|\\mathbf h)= \\sigma\\left(\\sum_{j=1}^H W^{T}_{ij} h_j + v_{bias} \\right)$$\n",
    "\n",
    "\n",
    "The samples are generated from this distribution by generating a uniform random variate vector $\\mathbf{\\xi} \\sim U[0,1]$ of length $V$ and comparing to the computed probabilities as\n",
    "\n",
    "<center>If $\\xi_i>p(v_{i}|\\mathbf{h})$, then $v_i=1$, else $v_i=0$.</center>\n",
    "\n",
    "Let vectors $\\mathbf v_k$ and $\\mathbf h_k$ be for the $k$th iteration.  In general, the $kth$ state is generrated as: \n",
    "\n",
    "\n",
    "    \n",
    "<b>Iteration</b> $k$: \n",
    "\n",
    "$$\\mathbf v_{k-1} \\Rightarrow p(\\mathbf h_{k-1}|\\mathbf v_{k-1})\\Rightarrow \\mathbf h_{k-1}\\Rightarrow p(\\mathbf v_{k}|\\mathbf h_{k-1})\\Rightarrow \\mathbf v_k$$       \n",
    "    \n",
    "<h3>Contrastive Divergence (CD-k)</h3>\n",
    "The update of the weight matrix is done during the Contrastive Divergence step. \n",
    "\n",
    "Vectors v0 and vk are used to calculate the activation probabilities for hidden values h0 and hk. The difference between the outer products of those probabilities with input vectors v0 and vk results in the update matrix:\n",
    "\n",
    "\n",
    "$$\\Delta \\mathbf W_k =\\mathbf v_k \\otimes \\mathbf h_k - \\mathbf v_{k-1} \\otimes \\mathbf h_{k-1}$$\n",
    "\n",
    "Contrastive Divergence is actually matrix of values that is computed and used to adjust values of the $\\mathbf W$ matrix. Changing $\\mathbf W$ incrementally leads to training of the  $\\mathbf W$ values. Then, on each step (epoch), $\\mathbf W$ is updated using the following:\n",
    "\n",
    "$$\\mathbf W_k = \\mathbf W_{k-1} + \\alpha * \\Delta \\mathbf W_k$$\n",
    "\n",
    "\n",
    "\n",
    "Reconstruction steps:\n",
    "<ul>\n",
    "    <li> Get one data point from data set, like <i>x</i>, and pass it through the following steps:</li>\n",
    "    \n",
    "<b>Iteration</b> $k=1$: \n",
    "    \n",
    "Sampling (starting with input image)\n",
    "    $$\\mathbf x = \\mathbf v_0 \\Rightarrow p(\\mathbf h_0|\\mathbf v_0)\\Rightarrow \\mathbf h_0 \\Rightarrow p(\\mathbf v_1|\\mathbf h_0)\\Rightarrow \\mathbf v_1$$   \n",
    "    followed by the CD-k step\n",
    "$$\\Delta \\mathbf W_1 =\\mathbf v_1 \\otimes \\mathbf h_1 - \\mathbf v_{0} \\otimes \\mathbf h_{0}$$     \n",
    "$$\\mathbf W_1 = \\mathbf W_{0} + \\alpha * \\Delta \\mathbf W_1$$ \n",
    " \n",
    "<li> $\\mathbf v_1$ is the reconstruction of $\\mathbf x$ sent to the next iteration).</li>\n",
    "\n",
    "<b>Iteration</b> $k=2$: \n",
    "\n",
    "Sampling (starting with $\\mathbf v_1$)\n",
    "\n",
    "$$\\mathbf v_1 \\Rightarrow p(\\mathbf h_1|\\mathbf v_1)\\Rightarrow \\mathbf h_1\\Rightarrow p(\\mathbf v_2|\\mathbf h_1)\\Rightarrow \\mathbf v_2$$   \n",
    "\n",
    "followed by the CD-k step\n",
    "$$\\Delta \\mathbf W_2 =\\mathbf v_2 \\otimes \\mathbf h_2 - \\mathbf v_{1} \\otimes \\mathbf h_{1}$$     \n",
    "$$\\mathbf W_2 = \\mathbf W_{1} + \\alpha * \\Delta \\mathbf W_2$$ \n",
    "\n",
    "<li> $\\mathbf v_2$ is the reconstruction of $\\mathbf v_1$ sent to the next iteration).</li>    \n",
    "      \n",
    "<b>Iteration</b> $k=K$:\n",
    "    \n",
    "Sampling (starting with $\\mathbf v_{K-1}$)\n",
    "\n",
    "$$\\mathbf v_{K-1} \\Rightarrow p(\\mathbf h_{K-1}|\\mathbf v_{K-1})\\Rightarrow \\mathbf h_{K-1}\\Rightarrow p(\\mathbf v_K|\\mathbf h_{K-1})\\Rightarrow \\mathbf v_K$$   \n",
    "\n",
    "followed by the CD-k step\n",
    "$$\\Delta \\mathbf W_K =\\mathbf v_K \\otimes \\mathbf h_K - \\mathbf v_{K-1} \\otimes \\mathbf h_{K-1}$$     \n",
    "$$\\mathbf W_K = \\mathbf W_{K-1} + \\alpha * \\Delta \\mathbf W_K$$ \n",
    "    \n",
    "<b>What is $\\alpha$?</b>  \n",
    "Here, alpha is some small step size, and is also known as the \"learning rate\".\n"
   ]
  },
  {
   "cell_type": "markdown",
   "metadata": {},
   "source": [
    "$K$ is adjustable, and good performance can be achieved with $K=1$, so that we just take one set of sampling steps per image.\n"
   ]
  },
  {
   "cell_type": "code",
   "execution_count": 15,
   "metadata": {},
   "outputs": [],
   "source": [
    "h1_prob = tf.nn.sigmoid(tf.matmul([v1_state], W) + hb)\n",
    "h1_state = tf.nn.relu(tf.sign(h1_prob - tf.random.uniform(tf.shape(h1_prob)))) #sample_h_given_X"
   ]
  },
  {
   "cell_type": "markdown",
   "metadata": {},
   "source": [
    "Lets look at the error of the first run:\n"
   ]
  },
  {
   "cell_type": "code",
   "execution_count": 16,
   "metadata": {},
   "outputs": [
    {
     "name": "stdout",
     "output_type": "stream",
     "text": [
      "error:  tf.Tensor(0.5242347, shape=(), dtype=float32)\n"
     ]
    }
   ],
   "source": [
    "print(\"error: \", error(v0_state, v1_state))"
   ]
  },
  {
   "cell_type": "code",
   "execution_count": 17,
   "metadata": {},
   "outputs": [
    {
     "name": "stdout",
     "output_type": "stream",
     "text": [
      "Epoch: 0 batch #: 1  of 300 sample #: 199 reconstruction error: 0.176208\n",
      "Epoch: 0 batch #: 2  of 300 sample #: 199 reconstruction error: 0.213323\n",
      "Epoch: 0 batch #: 3  of 300 sample #: 199 reconstruction error: 0.110706\n",
      "Epoch: 0 batch #: 4  of 300 sample #: 199 reconstruction error: 0.132489\n",
      "Epoch: 0 batch #: 5  of 300 sample #: 199 reconstruction error: 0.101839\n",
      "Epoch: 0 batch #: 6  of 300 sample #: 199 reconstruction error: 0.194682\n",
      "Epoch: 0 batch #: 7  of 300 sample #: 199 reconstruction error: 0.109432\n",
      "Epoch: 0 batch #: 8  of 300 sample #: 199 reconstruction error: 0.123230\n",
      "Epoch: 0 batch #: 9  of 300 sample #: 199 reconstruction error: 0.089708\n",
      "Epoch: 0 batch #: 10  of 300 sample #: 199 reconstruction error: 0.173330\n",
      "Epoch: 0 batch #: 11  of 300 sample #: 199 reconstruction error: 0.094177\n",
      "Epoch: 0 batch #: 12  of 300 sample #: 199 reconstruction error: 0.145689\n",
      "Epoch: 0 batch #: 13  of 300 sample #: 199 reconstruction error: 0.050828\n",
      "Epoch: 0 batch #: 14  of 300 sample #: 199 reconstruction error: 0.099871\n",
      "Epoch: 0 batch #: 15  of 300 sample #: 199 reconstruction error: 0.109204\n",
      "Epoch: 0 batch #: 16  of 300 sample #: 199 reconstruction error: 0.102740\n",
      "Epoch: 0 batch #: 17  of 300 sample #: 199 reconstruction error: 0.070771\n",
      "Epoch: 0 batch #: 18  of 300 sample #: 199 reconstruction error: 0.137056\n",
      "Epoch: 0 batch #: 19  of 300 sample #: 199 reconstruction error: 0.122904\n",
      "Epoch: 0 batch #: 20  of 300 sample #: 199 reconstruction error: 0.092332\n",
      "Epoch: 0 batch #: 21  of 300 sample #: 199 reconstruction error: 0.100113\n",
      "Epoch: 0 batch #: 22  of 300 sample #: 199 reconstruction error: 0.081050\n",
      "Epoch: 0 batch #: 23  of 300 sample #: 199 reconstruction error: 0.111790\n",
      "Epoch: 0 batch #: 24  of 300 sample #: 199 reconstruction error: 0.129876\n",
      "Epoch: 0 batch #: 25  of 300 sample #: 199 reconstruction error: 0.089035\n",
      "Epoch: 0 batch #: 26  of 300 sample #: 199 reconstruction error: 0.103018\n",
      "Epoch: 0 batch #: 27  of 300 sample #: 199 reconstruction error: 0.102346\n",
      "Epoch: 0 batch #: 28  of 300 sample #: 199 reconstruction error: 0.078158\n",
      "Epoch: 0 batch #: 29  of 300 sample #: 199 reconstruction error: 0.109009\n",
      "Epoch: 0 batch #: 30  of 300 sample #: 199 reconstruction error: 0.073352\n",
      "Epoch: 0 batch #: 31  of 300 sample #: 199 reconstruction error: 0.093009\n",
      "Epoch: 0 batch #: 32  of 300 sample #: 199 reconstruction error: 0.112041\n",
      "Epoch: 0 batch #: 33  of 300 sample #: 199 reconstruction error: 0.062399\n",
      "Epoch: 0 batch #: 34  of 300 sample #: 199 reconstruction error: 0.060569\n",
      "Epoch: 0 batch #: 35  of 300 sample #: 199 reconstruction error: 0.074165\n",
      "Epoch: 0 batch #: 36  of 300 sample #: 199 reconstruction error: 0.078511\n",
      "Epoch: 0 batch #: 37  of 300 sample #: 199 reconstruction error: 0.062678\n",
      "Epoch: 0 batch #: 38  of 300 sample #: 199 reconstruction error: 0.063940\n",
      "Epoch: 0 batch #: 39  of 300 sample #: 199 reconstruction error: 0.097764\n",
      "Epoch: 0 batch #: 40  of 300 sample #: 199 reconstruction error: 0.106052\n",
      "Epoch: 0 batch #: 41  of 300 sample #: 199 reconstruction error: 0.072851\n",
      "Epoch: 0 batch #: 42  of 300 sample #: 199 reconstruction error: 0.060908\n",
      "Epoch: 0 batch #: 43  of 300 sample #: 199 reconstruction error: 0.127389\n",
      "Epoch: 0 batch #: 44  of 300 sample #: 199 reconstruction error: 0.059470\n",
      "Epoch: 0 batch #: 45  of 300 sample #: 199 reconstruction error: 0.059226\n",
      "Epoch: 0 batch #: 46  of 300 sample #: 199 reconstruction error: 0.033477\n",
      "Epoch: 0 batch #: 47  of 300 sample #: 199 reconstruction error: 0.038520\n",
      "Epoch: 0 batch #: 48  of 300 sample #: 199 reconstruction error: 0.038216\n",
      "Epoch: 0 batch #: 49  of 300 sample #: 199 reconstruction error: 0.120826\n",
      "Epoch: 0 batch #: 50  of 300 sample #: 199 reconstruction error: 0.054719\n",
      "Epoch: 0 batch #: 51  of 300 sample #: 199 reconstruction error: 0.058144\n",
      "Epoch: 0 batch #: 52  of 300 sample #: 199 reconstruction error: 0.032684\n",
      "Epoch: 0 batch #: 53  of 300 sample #: 199 reconstruction error: 0.119067\n",
      "Epoch: 0 batch #: 54  of 300 sample #: 199 reconstruction error: 0.050934\n",
      "Epoch: 0 batch #: 55  of 300 sample #: 199 reconstruction error: 0.125136\n",
      "Epoch: 0 batch #: 56  of 300 sample #: 199 reconstruction error: 0.058211\n",
      "Epoch: 0 batch #: 57  of 300 sample #: 199 reconstruction error: 0.039006\n",
      "Epoch: 0 batch #: 58  of 300 sample #: 199 reconstruction error: 0.060892\n",
      "Epoch: 0 batch #: 59  of 300 sample #: 199 reconstruction error: 0.044906\n",
      "Epoch: 0 batch #: 60  of 300 sample #: 199 reconstruction error: 0.099457\n",
      "Epoch: 0 batch #: 61  of 300 sample #: 199 reconstruction error: 0.083533\n",
      "Epoch: 0 batch #: 62  of 300 sample #: 199 reconstruction error: 0.084495\n",
      "Epoch: 0 batch #: 63  of 300 sample #: 199 reconstruction error: 0.058137\n",
      "Epoch: 0 batch #: 64  of 300 sample #: 199 reconstruction error: 0.092270\n",
      "Epoch: 0 batch #: 65  of 300 sample #: 199 reconstruction error: 0.076931\n",
      "Epoch: 0 batch #: 66  of 300 sample #: 199 reconstruction error: 0.073646\n",
      "Epoch: 0 batch #: 67  of 300 sample #: 199 reconstruction error: 0.044748\n",
      "Epoch: 0 batch #: 68  of 300 sample #: 199 reconstruction error: 0.063193\n",
      "Epoch: 0 batch #: 69  of 300 sample #: 199 reconstruction error: 0.078295\n",
      "Epoch: 0 batch #: 70  of 300 sample #: 199 reconstruction error: 0.090486\n",
      "Epoch: 0 batch #: 71  of 300 sample #: 199 reconstruction error: 0.079882\n",
      "Epoch: 0 batch #: 72  of 300 sample #: 199 reconstruction error: 0.065402\n",
      "Epoch: 0 batch #: 73  of 300 sample #: 199 reconstruction error: 0.091100\n",
      "Epoch: 0 batch #: 74  of 300 sample #: 199 reconstruction error: 0.102337\n",
      "Epoch: 0 batch #: 75  of 300 sample #: 199 reconstruction error: 0.040980\n",
      "Epoch: 0 batch #: 76  of 300 sample #: 199 reconstruction error: 0.084314\n",
      "Epoch: 0 batch #: 77  of 300 sample #: 199 reconstruction error: 0.098098\n",
      "Epoch: 0 batch #: 78  of 300 sample #: 199 reconstruction error: 0.097567\n",
      "Epoch: 0 batch #: 79  of 300 sample #: 199 reconstruction error: 0.097002\n",
      "Epoch: 0 batch #: 80  of 300 sample #: 199 reconstruction error: 0.041480\n",
      "Epoch: 0 batch #: 81  of 300 sample #: 199 reconstruction error: 0.058782\n",
      "Epoch: 0 batch #: 82  of 300 sample #: 199 reconstruction error: 0.053370\n",
      "Epoch: 0 batch #: 83  of 300 sample #: 199 reconstruction error: 0.072958\n",
      "Epoch: 0 batch #: 84  of 300 sample #: 199 reconstruction error: 0.075652\n",
      "Epoch: 0 batch #: 85  of 300 sample #: 199 reconstruction error: 0.046418\n",
      "Epoch: 0 batch #: 86  of 300 sample #: 199 reconstruction error: 0.079131\n",
      "Epoch: 0 batch #: 87  of 300 sample #: 199 reconstruction error: 0.096464\n",
      "Epoch: 0 batch #: 88  of 300 sample #: 199 reconstruction error: 0.019838\n",
      "Epoch: 0 batch #: 89  of 300 sample #: 199 reconstruction error: 0.058073\n",
      "Epoch: 0 batch #: 90  of 300 sample #: 199 reconstruction error: 0.070523\n",
      "Epoch: 0 batch #: 91  of 300 sample #: 199 reconstruction error: 0.066048\n",
      "Epoch: 0 batch #: 92  of 300 sample #: 199 reconstruction error: 0.061502\n",
      "Epoch: 0 batch #: 93  of 300 sample #: 199 reconstruction error: 0.091048\n",
      "Epoch: 0 batch #: 94  of 300 sample #: 199 reconstruction error: 0.111224\n",
      "Epoch: 0 batch #: 95  of 300 sample #: 199 reconstruction error: 0.068592\n",
      "Epoch: 0 batch #: 96  of 300 sample #: 199 reconstruction error: 0.051779\n",
      "Epoch: 0 batch #: 97  of 300 sample #: 199 reconstruction error: 0.110812\n",
      "Epoch: 0 batch #: 98  of 300 sample #: 199 reconstruction error: 0.085118\n",
      "Epoch: 0 batch #: 99  of 300 sample #: 199 reconstruction error: 0.082211\n",
      "Epoch: 0 batch #: 100  of 300 sample #: 199 reconstruction error: 0.098634\n",
      "Epoch: 0 batch #: 101  of 300 sample #: 199 reconstruction error: 0.073617\n",
      "Epoch: 0 batch #: 102  of 300 sample #: 199 reconstruction error: 0.093006\n",
      "Epoch: 0 batch #: 103  of 300 sample #: 199 reconstruction error: 0.069891\n",
      "Epoch: 0 batch #: 104  of 300 sample #: 199 reconstruction error: 0.068882\n",
      "Epoch: 0 batch #: 105  of 300 sample #: 199 reconstruction error: 0.058985\n",
      "Epoch: 0 batch #: 106  of 300 sample #: 199 reconstruction error: 0.112539\n",
      "Epoch: 0 batch #: 107  of 300 sample #: 199 reconstruction error: 0.131755\n",
      "Epoch: 0 batch #: 108  of 300 sample #: 199 reconstruction error: 0.055581\n",
      "Epoch: 0 batch #: 109  of 300 sample #: 199 reconstruction error: 0.127022\n",
      "Epoch: 0 batch #: 110  of 300 sample #: 199 reconstruction error: 0.056781\n",
      "Epoch: 0 batch #: 111  of 300 sample #: 199 reconstruction error: 0.102638\n",
      "Epoch: 0 batch #: 112  of 300 sample #: 199 reconstruction error: 0.044042\n",
      "Epoch: 0 batch #: 113  of 300 sample #: 199 reconstruction error: 0.070558\n",
      "Epoch: 0 batch #: 114  of 300 sample #: 199 reconstruction error: 0.071398\n",
      "Epoch: 0 batch #: 115  of 300 sample #: 199 reconstruction error: 0.061821\n",
      "Epoch: 0 batch #: 116  of 300 sample #: 199 reconstruction error: 0.046273\n",
      "Epoch: 0 batch #: 117  of 300 sample #: 199 reconstruction error: 0.044873\n",
      "Epoch: 0 batch #: 118  of 300 sample #: 199 reconstruction error: 0.072750\n",
      "Epoch: 0 batch #: 119  of 300 sample #: 199 reconstruction error: 0.107687\n",
      "Epoch: 0 batch #: 120  of 300 sample #: 199 reconstruction error: 0.084104\n",
      "Epoch: 0 batch #: 121  of 300 sample #: 199 reconstruction error: 0.053412\n",
      "Epoch: 0 batch #: 122  of 300 sample #: 199 reconstruction error: 0.090143\n",
      "Epoch: 0 batch #: 123  of 300 sample #: 199 reconstruction error: 0.068905\n",
      "Epoch: 0 batch #: 124  of 300 sample #: 199 reconstruction error: 0.069582\n",
      "Epoch: 0 batch #: 125  of 300 sample #: 199 reconstruction error: 0.051429\n",
      "Epoch: 0 batch #: 126  of 300 sample #: 199 reconstruction error: 0.089869\n",
      "Epoch: 0 batch #: 127  of 300 sample #: 199 reconstruction error: 0.092361\n",
      "Epoch: 0 batch #: 128  of 300 sample #: 199 reconstruction error: 0.066506\n",
      "Epoch: 0 batch #: 129  of 300 sample #: 199 reconstruction error: 0.055907\n",
      "Epoch: 0 batch #: 130  of 300 sample #: 199 reconstruction error: 0.087139\n",
      "Epoch: 0 batch #: 131  of 300 sample #: 199 reconstruction error: 0.063037\n",
      "Epoch: 0 batch #: 132  of 300 sample #: 199 reconstruction error: 0.048392\n",
      "Epoch: 0 batch #: 133  of 300 sample #: 199 reconstruction error: 0.060171\n",
      "Epoch: 0 batch #: 134  of 300 sample #: 199 reconstruction error: 0.113009\n",
      "Epoch: 0 batch #: 135  of 300 sample #: 199 reconstruction error: 0.085350\n",
      "Epoch: 0 batch #: 136  of 300 sample #: 199 reconstruction error: 0.106641\n",
      "Epoch: 0 batch #: 137  of 300 sample #: 199 reconstruction error: 0.052064\n",
      "Epoch: 0 batch #: 138  of 300 sample #: 199 reconstruction error: 0.088158\n",
      "Epoch: 0 batch #: 139  of 300 sample #: 199 reconstruction error: 0.112011\n",
      "Epoch: 0 batch #: 140  of 300 sample #: 199 reconstruction error: 0.085850\n",
      "Epoch: 0 batch #: 141  of 300 sample #: 199 reconstruction error: 0.088568\n",
      "Epoch: 0 batch #: 142  of 300 sample #: 199 reconstruction error: 0.071100\n",
      "Epoch: 0 batch #: 143  of 300 sample #: 199 reconstruction error: 0.043191\n",
      "Epoch: 0 batch #: 144  of 300 sample #: 199 reconstruction error: 0.064457\n",
      "Epoch: 0 batch #: 145  of 300 sample #: 199 reconstruction error: 0.088500\n",
      "Epoch: 0 batch #: 146  of 300 sample #: 199 reconstruction error: 0.122047\n",
      "Epoch: 0 batch #: 147  of 300 sample #: 199 reconstruction error: 0.069115\n",
      "Epoch: 0 batch #: 148  of 300 sample #: 199 reconstruction error: 0.090015\n",
      "Epoch: 0 batch #: 149  of 300 sample #: 199 reconstruction error: 0.052971\n",
      "Epoch: 0 batch #: 150  of 300 sample #: 199 reconstruction error: 0.061947\n",
      "Epoch: 0 batch #: 151  of 300 sample #: 199 reconstruction error: 0.104386\n",
      "Epoch: 0 batch #: 152  of 300 sample #: 199 reconstruction error: 0.095619\n",
      "Epoch: 0 batch #: 153  of 300 sample #: 199 reconstruction error: 0.061258\n",
      "Epoch: 0 batch #: 154  of 300 sample #: 199 reconstruction error: 0.069335\n",
      "Epoch: 0 batch #: 155  of 300 sample #: 199 reconstruction error: 0.059702\n",
      "Epoch: 0 batch #: 156  of 300 sample #: 199 reconstruction error: 0.073131\n",
      "Epoch: 0 batch #: 157  of 300 sample #: 199 reconstruction error: 0.089948\n",
      "Epoch: 0 batch #: 158  of 300 sample #: 199 reconstruction error: 0.078838\n",
      "Epoch: 0 batch #: 159  of 300 sample #: 199 reconstruction error: 0.061202\n",
      "Epoch: 0 batch #: 160  of 300 sample #: 199 reconstruction error: 0.076370\n",
      "Epoch: 0 batch #: 161  of 300 sample #: 199 reconstruction error: 0.097441\n",
      "Epoch: 0 batch #: 162  of 300 sample #: 199 reconstruction error: 0.130810\n",
      "Epoch: 0 batch #: 163  of 300 sample #: 199 reconstruction error: 0.046660\n",
      "Epoch: 0 batch #: 164  of 300 sample #: 199 reconstruction error: 0.066050\n",
      "Epoch: 0 batch #: 165  of 300 sample #: 199 reconstruction error: 0.075978\n",
      "Epoch: 0 batch #: 166  of 300 sample #: 199 reconstruction error: 0.061921\n",
      "Epoch: 0 batch #: 167  of 300 sample #: 199 reconstruction error: 0.087405\n",
      "Epoch: 0 batch #: 168  of 300 sample #: 199 reconstruction error: 0.048811\n",
      "Epoch: 0 batch #: 169  of 300 sample #: 199 reconstruction error: 0.037856\n",
      "Epoch: 0 batch #: 170  of 300 sample #: 199 reconstruction error: 0.071003\n",
      "Epoch: 0 batch #: 171  of 300 sample #: 199 reconstruction error: 0.037824\n",
      "Epoch: 0 batch #: 172  of 300 sample #: 199 reconstruction error: 0.039502\n",
      "Epoch: 0 batch #: 173  of 300 sample #: 199 reconstruction error: 0.068057\n",
      "Epoch: 0 batch #: 174  of 300 sample #: 199 reconstruction error: 0.117662\n",
      "Epoch: 0 batch #: 175  of 300 sample #: 199 reconstruction error: 0.064075\n",
      "Epoch: 0 batch #: 176  of 300 sample #: 199 reconstruction error: 0.048812\n",
      "Epoch: 0 batch #: 177  of 300 sample #: 199 reconstruction error: 0.047857\n",
      "Epoch: 0 batch #: 178  of 300 sample #: 199 reconstruction error: 0.115249\n",
      "Epoch: 0 batch #: 179  of 300 sample #: 199 reconstruction error: 0.073294\n",
      "Epoch: 0 batch #: 180  of 300 sample #: 199 reconstruction error: 0.081565\n",
      "Epoch: 0 batch #: 181  of 300 sample #: 199 reconstruction error: 0.100590\n",
      "Epoch: 0 batch #: 182  of 300 sample #: 199 reconstruction error: 0.086110\n",
      "Epoch: 0 batch #: 183  of 300 sample #: 199 reconstruction error: 0.092067\n",
      "Epoch: 0 batch #: 184  of 300 sample #: 199 reconstruction error: 0.058656\n",
      "Epoch: 0 batch #: 185  of 300 sample #: 199 reconstruction error: 0.073784\n",
      "Epoch: 0 batch #: 186  of 300 sample #: 199 reconstruction error: 0.109282\n",
      "Epoch: 0 batch #: 187  of 300 sample #: 199 reconstruction error: 0.056053\n",
      "Epoch: 0 batch #: 188  of 300 sample #: 199 reconstruction error: 0.108739\n",
      "Epoch: 0 batch #: 189  of 300 sample #: 199 reconstruction error: 0.075581\n",
      "Epoch: 0 batch #: 190  of 300 sample #: 199 reconstruction error: 0.081185\n",
      "Epoch: 0 batch #: 191  of 300 sample #: 199 reconstruction error: 0.093218\n",
      "Epoch: 0 batch #: 192  of 300 sample #: 199 reconstruction error: 0.116403\n",
      "Epoch: 0 batch #: 193  of 300 sample #: 199 reconstruction error: 0.094755\n",
      "Epoch: 0 batch #: 194  of 300 sample #: 199 reconstruction error: 0.074387\n",
      "Epoch: 0 batch #: 195  of 300 sample #: 199 reconstruction error: 0.042482\n",
      "Epoch: 0 batch #: 196  of 300 sample #: 199 reconstruction error: 0.035598\n",
      "Epoch: 0 batch #: 197  of 300 sample #: 199 reconstruction error: 0.057431\n",
      "Epoch: 0 batch #: 198  of 300 sample #: 199 reconstruction error: 0.079790\n",
      "Epoch: 0 batch #: 199  of 300 sample #: 199 reconstruction error: 0.066579\n",
      "Epoch: 0 batch #: 200  of 300 sample #: 199 reconstruction error: 0.096934\n",
      "Epoch: 0 batch #: 201  of 300 sample #: 199 reconstruction error: 0.093359\n",
      "Epoch: 0 batch #: 202  of 300 sample #: 199 reconstruction error: 0.025422\n",
      "Epoch: 0 batch #: 203  of 300 sample #: 199 reconstruction error: 0.096324\n",
      "Epoch: 0 batch #: 204  of 300 sample #: 199 reconstruction error: 0.056522\n",
      "Epoch: 0 batch #: 205  of 300 sample #: 199 reconstruction error: 0.024587\n",
      "Epoch: 0 batch #: 206  of 300 sample #: 199 reconstruction error: 0.065113\n",
      "Epoch: 0 batch #: 207  of 300 sample #: 199 reconstruction error: 0.063185\n",
      "Epoch: 0 batch #: 208  of 300 sample #: 199 reconstruction error: 0.057911\n",
      "Epoch: 0 batch #: 209  of 300 sample #: 199 reconstruction error: 0.030211\n",
      "Epoch: 0 batch #: 210  of 300 sample #: 199 reconstruction error: 0.111182\n",
      "Epoch: 0 batch #: 211  of 300 sample #: 199 reconstruction error: 0.099382\n",
      "Epoch: 0 batch #: 212  of 300 sample #: 199 reconstruction error: 0.079525\n",
      "Epoch: 0 batch #: 213  of 300 sample #: 199 reconstruction error: 0.097542\n",
      "Epoch: 0 batch #: 214  of 300 sample #: 199 reconstruction error: 0.085607\n",
      "Epoch: 0 batch #: 215  of 300 sample #: 199 reconstruction error: 0.034614\n",
      "Epoch: 0 batch #: 216  of 300 sample #: 199 reconstruction error: 0.088822\n",
      "Epoch: 0 batch #: 217  of 300 sample #: 199 reconstruction error: 0.075194\n",
      "Epoch: 0 batch #: 218  of 300 sample #: 199 reconstruction error: 0.066021\n",
      "Epoch: 0 batch #: 219  of 300 sample #: 199 reconstruction error: 0.068800\n",
      "Epoch: 0 batch #: 220  of 300 sample #: 199 reconstruction error: 0.053153\n",
      "Epoch: 0 batch #: 221  of 300 sample #: 199 reconstruction error: 0.095306\n",
      "Epoch: 0 batch #: 222  of 300 sample #: 199 reconstruction error: 0.084145\n",
      "Epoch: 0 batch #: 223  of 300 sample #: 199 reconstruction error: 0.065985\n",
      "Epoch: 0 batch #: 224  of 300 sample #: 199 reconstruction error: 0.070974\n",
      "Epoch: 0 batch #: 225  of 300 sample #: 199 reconstruction error: 0.064941\n",
      "Epoch: 0 batch #: 226  of 300 sample #: 199 reconstruction error: 0.136636\n",
      "Epoch: 0 batch #: 227  of 300 sample #: 199 reconstruction error: 0.077416\n",
      "Epoch: 0 batch #: 228  of 300 sample #: 199 reconstruction error: 0.061038\n",
      "Epoch: 0 batch #: 229  of 300 sample #: 199 reconstruction error: 0.074539\n",
      "Epoch: 0 batch #: 230  of 300 sample #: 199 reconstruction error: 0.025610\n",
      "Epoch: 0 batch #: 231  of 300 sample #: 199 reconstruction error: 0.026195\n",
      "Epoch: 0 batch #: 232  of 300 sample #: 199 reconstruction error: 0.075581\n",
      "Epoch: 0 batch #: 233  of 300 sample #: 199 reconstruction error: 0.083960\n",
      "Epoch: 0 batch #: 234  of 300 sample #: 199 reconstruction error: 0.063942\n",
      "Epoch: 0 batch #: 235  of 300 sample #: 199 reconstruction error: 0.083110\n",
      "Epoch: 0 batch #: 236  of 300 sample #: 199 reconstruction error: 0.075482\n",
      "Epoch: 0 batch #: 237  of 300 sample #: 199 reconstruction error: 0.073272\n",
      "Epoch: 0 batch #: 238  of 300 sample #: 199 reconstruction error: 0.099479\n",
      "Epoch: 0 batch #: 239  of 300 sample #: 199 reconstruction error: 0.028420\n",
      "Epoch: 0 batch #: 240  of 300 sample #: 199 reconstruction error: 0.101068\n",
      "Epoch: 0 batch #: 241  of 300 sample #: 199 reconstruction error: 0.089563\n",
      "Epoch: 0 batch #: 242  of 300 sample #: 199 reconstruction error: 0.073531\n",
      "Epoch: 0 batch #: 243  of 300 sample #: 199 reconstruction error: 0.080384\n",
      "Epoch: 0 batch #: 244  of 300 sample #: 199 reconstruction error: 0.086816\n",
      "Epoch: 0 batch #: 245  of 300 sample #: 199 reconstruction error: 0.058066\n",
      "Epoch: 0 batch #: 246  of 300 sample #: 199 reconstruction error: 0.072504\n",
      "Epoch: 0 batch #: 247  of 300 sample #: 199 reconstruction error: 0.050027\n",
      "Epoch: 0 batch #: 248  of 300 sample #: 199 reconstruction error: 0.068997\n",
      "Epoch: 0 batch #: 249  of 300 sample #: 199 reconstruction error: 0.044320\n",
      "Epoch: 0 batch #: 250  of 300 sample #: 199 reconstruction error: 0.088907\n",
      "Epoch: 0 batch #: 251  of 300 sample #: 199 reconstruction error: 0.054214\n",
      "Epoch: 0 batch #: 252  of 300 sample #: 199 reconstruction error: 0.080141\n",
      "Epoch: 0 batch #: 253  of 300 sample #: 199 reconstruction error: 0.066704\n",
      "Epoch: 0 batch #: 254  of 300 sample #: 199 reconstruction error: 0.034595\n",
      "Epoch: 0 batch #: 255  of 300 sample #: 199 reconstruction error: 0.057829\n",
      "Epoch: 0 batch #: 256  of 300 sample #: 199 reconstruction error: 0.078755\n",
      "Epoch: 0 batch #: 257  of 300 sample #: 199 reconstruction error: 0.088293\n",
      "Epoch: 0 batch #: 258  of 300 sample #: 199 reconstruction error: 0.088619\n",
      "Epoch: 0 batch #: 259  of 300 sample #: 199 reconstruction error: 0.076799\n",
      "Epoch: 0 batch #: 260  of 300 sample #: 199 reconstruction error: 0.078075\n",
      "Epoch: 0 batch #: 261  of 300 sample #: 199 reconstruction error: 0.040204\n",
      "Epoch: 0 batch #: 262  of 300 sample #: 199 reconstruction error: 0.060356\n",
      "Epoch: 0 batch #: 263  of 300 sample #: 199 reconstruction error: 0.096789\n",
      "Epoch: 0 batch #: 264  of 300 sample #: 199 reconstruction error: 0.066501\n",
      "Epoch: 0 batch #: 265  of 300 sample #: 199 reconstruction error: 0.063666\n",
      "Epoch: 0 batch #: 266  of 300 sample #: 199 reconstruction error: 0.032192\n",
      "Epoch: 0 batch #: 267  of 300 sample #: 199 reconstruction error: 0.062029\n",
      "Epoch: 0 batch #: 268  of 300 sample #: 199 reconstruction error: 0.028686\n",
      "Epoch: 0 batch #: 269  of 300 sample #: 199 reconstruction error: 0.094925\n",
      "Epoch: 0 batch #: 270  of 300 sample #: 199 reconstruction error: 0.072297\n",
      "Epoch: 0 batch #: 271  of 300 sample #: 199 reconstruction error: 0.057328\n",
      "Epoch: 0 batch #: 272  of 300 sample #: 199 reconstruction error: 0.053272\n",
      "Epoch: 0 batch #: 273  of 300 sample #: 199 reconstruction error: 0.038571\n",
      "Epoch: 0 batch #: 274  of 300 sample #: 199 reconstruction error: 0.044622\n",
      "Epoch: 0 batch #: 275  of 300 sample #: 199 reconstruction error: 0.098991\n",
      "Epoch: 0 batch #: 276  of 300 sample #: 199 reconstruction error: 0.075362\n",
      "Epoch: 0 batch #: 277  of 300 sample #: 199 reconstruction error: 0.077591\n",
      "Epoch: 0 batch #: 278  of 300 sample #: 199 reconstruction error: 0.053147\n",
      "Epoch: 0 batch #: 279  of 300 sample #: 199 reconstruction error: 0.043663\n",
      "Epoch: 0 batch #: 280  of 300 sample #: 199 reconstruction error: 0.070051\n",
      "Epoch: 0 batch #: 281  of 300 sample #: 199 reconstruction error: 0.062554\n",
      "Epoch: 0 batch #: 282  of 300 sample #: 199 reconstruction error: 0.096817\n",
      "Epoch: 0 batch #: 283  of 300 sample #: 199 reconstruction error: 0.046627\n",
      "Epoch: 0 batch #: 284  of 300 sample #: 199 reconstruction error: 0.055069\n",
      "Epoch: 0 batch #: 285  of 300 sample #: 199 reconstruction error: 0.073509\n",
      "Epoch: 0 batch #: 286  of 300 sample #: 199 reconstruction error: 0.079707\n",
      "Epoch: 0 batch #: 287  of 300 sample #: 199 reconstruction error: 0.087096\n",
      "Epoch: 0 batch #: 288  of 300 sample #: 199 reconstruction error: 0.042703\n",
      "Epoch: 0 batch #: 289  of 300 sample #: 199 reconstruction error: 0.084627\n",
      "Epoch: 0 batch #: 290  of 300 sample #: 199 reconstruction error: 0.083703\n",
      "Epoch: 0 batch #: 291  of 300 sample #: 199 reconstruction error: 0.124990\n",
      "Epoch: 0 batch #: 292  of 300 sample #: 199 reconstruction error: 0.058317\n",
      "Epoch: 0 batch #: 293  of 300 sample #: 199 reconstruction error: 0.045326\n",
      "Epoch: 0 batch #: 294  of 300 sample #: 199 reconstruction error: 0.107591\n",
      "Epoch: 0 batch #: 295  of 300 sample #: 199 reconstruction error: 0.065253\n",
      "Epoch: 0 batch #: 296  of 300 sample #: 199 reconstruction error: 0.033466\n",
      "Epoch: 0 batch #: 297  of 300 sample #: 199 reconstruction error: 0.114836\n",
      "Epoch: 0 batch #: 298  of 300 sample #: 199 reconstruction error: 0.063222\n",
      "Epoch: 0 batch #: 299  of 300 sample #: 199 reconstruction error: 0.045534\n",
      "Epoch: 0 batch #: 300  of 300 sample #: 199 reconstruction error: 0.087491\n"
     ]
    }
   ],
   "source": [
    "#Parameters\n",
    "alpha = 0.01\n",
    "epochs = 1\n",
    "batchsize = 200\n",
    "weights = []\n",
    "errors = []\n",
    "batch_number = 0\n",
    "K = 1\n",
    "\n",
    "#creating datasets\n",
    "train_ds = \\\n",
    "    tf.data.Dataset.from_tensor_slices((trX, trY)).batch(batchsize)\n",
    "\n",
    "for epoch in range(epochs):\n",
    "    for batch_x, batch_y in train_ds:\n",
    "        batch_number += 1\n",
    "        for i_sample in range(batchsize):           \n",
    "            for k in range(K):\n",
    "                v0_state = batch_x[i_sample]\n",
    "                h0_state = hidden_layer(v0_state, W, hb)\n",
    "                v1_state = reconstructed_output(h0_state, W, vb)\n",
    "                h1_state = hidden_layer(v1_state, W, hb)\n",
    "\n",
    "                delta_W = tf.matmul(tf.transpose([v0_state]), h0_state) - tf.matmul(tf.transpose([v1_state]), h1_state)\n",
    "                W = W + alpha * delta_W\n",
    "\n",
    "                vb = vb + alpha * tf.reduce_mean(v0_state - v1_state, 0)\n",
    "                hb = hb + alpha * tf.reduce_mean(h0_state - h1_state, 0) \n",
    "\n",
    "                v0_state = v1_state\n",
    "\n",
    "            if i_sample == batchsize-1:\n",
    "                err = error(batch_x[i_sample], v1_state)\n",
    "                errors.append(err)\n",
    "                weights.append(W)\n",
    "                print ( 'Epoch: %d' % epoch, \n",
    "                       \"batch #: %i \" % batch_number, \"of %i\" % int(60e3/batchsize), \n",
    "                       \"sample #: %i\" % i_sample,\n",
    "                       'reconstruction error: %f' % err)\n",
    "\n"
   ]
  },
  {
   "cell_type": "markdown",
   "metadata": {},
   "source": [
    "Let's take a look at the errors at the end of each batch:\n"
   ]
  },
  {
   "cell_type": "code",
   "execution_count": 18,
   "metadata": {},
   "outputs": [
    {
     "data": {
      "image/png": "[encoded data removed]",
      "text/plain": [
       "<Figure size 640x480 with 1 Axes>"
      ]
     },
     "metadata": {},
     "output_type": "display_data"
    }
   ],
   "source": [
    "plt.plot(errors)\n",
    "plt.xlabel(\"Batch Number\")\n",
    "plt.ylabel(\"Error\")\n",
    "plt.show()"
   ]
  },
  {
   "cell_type": "markdown",
   "metadata": {},
   "source": [
    "What is the final weight matrix $W$ after training?\n"
   ]
  },
  {
   "cell_type": "code",
   "execution_count": 19,
   "metadata": {},
   "outputs": [
    {
     "name": "stdout",
     "output_type": "stream",
     "text": [
      "[[-0.27       -0.23000003 -0.36999992 ... -0.43999985 -0.32999995\n",
      "  -0.25000003]\n",
      " [-0.26000002 -0.19000001 -0.31999996 ... -0.45999983 -0.31999996\n",
      "  -0.28      ]\n",
      " [-0.29999998 -0.23000003 -0.34999993 ... -0.45999983 -0.28\n",
      "  -0.27      ]\n",
      " ...\n",
      " [-0.25000003 -0.23000003 -0.32999995 ... -0.31999996 -0.30999997\n",
      "  -0.18      ]\n",
      " [-0.23000003 -0.23000003 -0.36999992 ... -0.46999982 -0.33999994\n",
      "  -0.19000001]\n",
      " [-0.26000002 -0.29       -0.29999998 ... -0.40999988 -0.29999998\n",
      "  -0.22000003]]\n"
     ]
    }
   ],
   "source": [
    "print(W.numpy()) # a weight matrix of shape (50,784)"
   ]
  },
  {
   "cell_type": "markdown",
   "metadata": {},
   "source": [
    "<a id=\"ref5\"></a>\n",
    "<h3>Learned features</h3> \n"
   ]
  },
  {
   "cell_type": "markdown",
   "metadata": {},
   "source": [
    "We can take each hidden unit and visualize the connections between that hidden unit and each element in the input vector. In our case, we have 50 hidden units. Lets visualize those.\n"
   ]
  },
  {
   "cell_type": "markdown",
   "metadata": {},
   "source": [
    "Let's plot the current weights:\n",
    "<b>tile_raster_images</b> helps in generating an easy to grasp image from a set of samples or weights. It transforms the <b>uw</b> (with one flattened image per row of size 784), into an array (of size $28\\times28$) in which images are reshaped and laid out like tiles on a floor.\n"
   ]
  },
  {
   "cell_type": "code",
   "execution_count": 20,
   "metadata": {},
   "outputs": [
    {
     "data": {
      "image/png": "[encoded data removed]",
      "text/plain": [
       "<Figure size 1800x1800 with 1 Axes>"
      ]
     },
     "metadata": {},
     "output_type": "display_data"
    }
   ],
   "source": [
    "tile_raster_images(X=W.numpy().T, img_shape=(28, 28), tile_shape=(5, 10), tile_spacing=(1, 1))\n",
    "import matplotlib.pyplot as plt\n",
    "from PIL import Image\n",
    "%matplotlib inline\n",
    "image = Image.fromarray(tile_raster_images(X=W.numpy().T, img_shape=(28, 28) ,tile_shape=(5, 10), tile_spacing=(1, 1)))\n",
    "### Plot image\n",
    "plt.rcParams['figure.figsize'] = (18.0, 18.0)\n",
    "imgplot = plt.imshow(image)\n",
    "imgplot.set_cmap('gray')  "
   ]
  },
  {
   "cell_type": "markdown",
   "metadata": {},
   "source": [
    "Each tile in the above visualization corresponds to a vector of connections between a hidden unit and visible layer's units. \n"
   ]
  },
  {
   "cell_type": "markdown",
   "metadata": {},
   "source": [
    "Let's look at one of the learned weights corresponding to one of hidden units for example. In this particular square, the gray color represents weight = 0, and the whiter it is, the more positive the weights are (closer to 1). Conversely, the darker pixels are, the more negative the weights. The positive pixels will increase the probability of activation in hidden units (after multiplying by input/visible pixels), and negative pixels will decrease the probability of a unit hidden to be 1 (activated). So, why is this important?  So we can see that this specific square (hidden unit) can detect a feature (e.g. a \"/\" shape) and if it exists in the input.\n"
   ]
  },
  {
   "cell_type": "code",
   "execution_count": 21,
   "metadata": {},
   "outputs": [
    {
     "data": {
      "image/png": "[encoded data removed]",
      "text/plain": [
       "<Figure size 400x400 with 1 Axes>"
      ]
     },
     "metadata": {},
     "output_type": "display_data"
    }
   ],
   "source": [
    "from PIL import Image\n",
    "image = Image.fromarray(tile_raster_images(X =W.numpy().T[10:11], img_shape=(28, 28),tile_shape=(1, 1), tile_spacing=(1, 1)))\n",
    "### Plot image\n",
    "plt.rcParams['figure.figsize'] = (4.0, 4.0)\n",
    "imgplot = plt.imshow(image)\n",
    "imgplot.set_cmap('gray')  "
   ]
  },
  {
   "cell_type": "markdown",
   "metadata": {},
   "source": [
    "Let's look at the reconstruction of an image now. Imagine that we have a destructed image of figure 3. Lets see if our trained network can fix it:\n",
    "\n",
    "First we plot the image:\n"
   ]
  },
  {
   "cell_type": "code",
   "execution_count": 22,
   "metadata": {},
   "outputs": [
    {
     "name": "stdout",
     "output_type": "stream",
     "text": [
      "--2024-07-22 02:07:15--  https://ibm.box.com/shared/static/vvm1b63uvuxq88vbw9znpwu5ol380mco.jpg\n",
      "Resolving ibm.box.com (ibm.box.com)... 74.112.186.157, 74.112.186.157\n",
      "Connecting to ibm.box.com (ibm.box.com)|74.112.186.157|:443... connected.\n",
      "HTTP request sent, awaiting response... 301 Moved Permanently\n",
      "Location: /public/static/vvm1b63uvuxq88vbw9znpwu5ol380mco.jpg [following]\n",
      "--2024-07-22 02:07:15--  https://ibm.box.com/public/static/vvm1b63uvuxq88vbw9znpwu5ol380mco.jpg\n",
      "Reusing existing connection to ibm.box.com:443.\n",
      "HTTP request sent, awaiting response... 301 Moved Permanently\n",
      "Location: https://ibm.ent.box.com/public/static/vvm1b63uvuxq88vbw9znpwu5ol380mco.jpg [following]\n",
      "--2024-07-22 02:07:15--  https://ibm.ent.box.com/public/static/vvm1b63uvuxq88vbw9znpwu5ol380mco.jpg\n",
      "Resolving ibm.ent.box.com (ibm.ent.box.com)... 74.112.186.157, 74.112.186.157\n",
      "Connecting to ibm.ent.box.com (ibm.ent.box.com)|74.112.186.157|:443... connected.\n",
      "HTTP request sent, awaiting response... 302 Found\n",
      "Location: https://public.boxcloud.com/d/1/b1!dR5sKXSPciSjPLzh2HaaidyHhyNvLUQxSRl6dnr1CbrKNIseECE8owiYmPfHWOJoC6fhUBMhBDsuOyh6gDtYd9L1rmx_gar7xTouRr9J0fUdufqvou_d8jJX7LYQemEKZYxtMk1FGPx8kMX-cdv_io-SMoCxAFiYlyGZbF8yaV5YDhLnD1zH7HTXTspPJ3hv1Dam0go8IY2dnOwOlY5TZ-J8P-i-_CNn3Sb53Ve5eHVtJzfeRuouAI9rudADuQsF0OBkRb8K5bOFhBtYnaumAHchMIu7Cz8hNTDramt3gPCzbgfunHW9zi5kgse7NEcZccPt5zzdumOEpPaFPW2PA3bBGVhEr6zZ-CeVKY8rD6D-UOuaEA8oEF-BkefypZVm-fyTVRs0mR7Xn5NJCFW7X057onTCrYSCmKIzjwoC6Pe4VmjvWFrgSqYmbk_2WQwUbGHgPKOd1JiMPU0zMs0qFSlW1G268YFVbQx0UmJ-bL_9WN-I9-ZLV-ZrnO0ElhoFkPQRVgilf9ZrsbnVdw2H475FoFIV3Cc_7GvL7RBvu3W9FNcrEvC1KX-efn4BU1LGvDEdzpSGSlS8qHKqFssHnzXU9xpNnqFbofwebSOgX9-wE5uuZYnU2Xjs2UeSaYZpBdVKivDbeYw3pM3Ap97OwyYVemm6TA1nAyxC7ILc7UWijdgZFt0F2vl-RNA7Ftr4kROGCPRWf172f9VG3OjLF68jADyUmvReyGzxebnmSE_hRrMfXozBnzqRG7JoaQn1Ix7vU4pt3cR4dVXYKAZZ7X1Fd4ms7RxDR5ZPFqW25PB90WalIiJucmy1jMtXZe3TMzX7tnUwG3IbAP1g3IGCadHEdiNPQlGepVaOoVG-2nCCQkDa3TsuThhFdx3fqKm30bY1731orcJ4XeeZp_Xbg0Zwgz77z8F3mxHhTK3MJg4yhWcVswbeaORutvCjmIHrTiKjRysBq8H-MJVrGzyRFYoGBccbZ0eWbvZD50dH02nkdSZzdCPR59ipVkHgJuNipRZ8BzsnmG6eHzMVz-4QAuE6FeESqUwEm75h9GhDSWNHlgN7tLnamJXxoQSiL2j_2rPgAL9RZ7G5QHiwpYEs8_jL9ImejV7QcGpHx_Io1vF5F5uV7tRhnQOjGIvrutZNdFt5G9Qz_jEdDCiIJbWCaZefeB73fv504aAeLM3Zv3y0e8ZPCpvP8KkH0zqWE1H11yfXf5pmPsnFnal95DdpQzFuknTA33htUezQvCHtdO396PC0YIkXokKgdB4E4LZCDC8k7fLBSNy6PnIvnIZddoWsqdx6H9o1jda3V7kSBc_sImeIBLdBnrdF-UNBXzpwC-lDz7XeN07l3Xpz571LNNEMQLBV6IiMxurHTT_OZwRdjiQC006AVDvd6fiW4kHr9KeIz4IshuvcF_-XNSvUqw../download [following]\n",
      "--2024-07-22 02:07:17--  https://public.boxcloud.com/d/1/b1!dR5sKXSPciSjPLzh2HaaidyHhyNvLUQxSRl6dnr1CbrKNIseECE8owiYmPfHWOJoC6fhUBMhBDsuOyh6gDtYd9L1rmx_gar7xTouRr9J0fUdufqvou_d8jJX7LYQemEKZYxtMk1FGPx8kMX-cdv_io-SMoCxAFiYlyGZbF8yaV5YDhLnD1zH7HTXTspPJ3hv1Dam0go8IY2dnOwOlY5TZ-J8P-i-_CNn3Sb53Ve5eHVtJzfeRuouAI9rudADuQsF0OBkRb8K5bOFhBtYnaumAHchMIu7Cz8hNTDramt3gPCzbgfunHW9zi5kgse7NEcZccPt5zzdumOEpPaFPW2PA3bBGVhEr6zZ-CeVKY8rD6D-UOuaEA8oEF-BkefypZVm-fyTVRs0mR7Xn5NJCFW7X057onTCrYSCmKIzjwoC6Pe4VmjvWFrgSqYmbk_2WQwUbGHgPKOd1JiMPU0zMs0qFSlW1G268YFVbQx0UmJ-bL_9WN-I9-ZLV-ZrnO0ElhoFkPQRVgilf9ZrsbnVdw2H475FoFIV3Cc_7GvL7RBvu3W9FNcrEvC1KX-efn4BU1LGvDEdzpSGSlS8qHKqFssHnzXU9xpNnqFbofwebSOgX9-wE5uuZYnU2Xjs2UeSaYZpBdVKivDbeYw3pM3Ap97OwyYVemm6TA1nAyxC7ILc7UWijdgZFt0F2vl-RNA7Ftr4kROGCPRWf172f9VG3OjLF68jADyUmvReyGzxebnmSE_hRrMfXozBnzqRG7JoaQn1Ix7vU4pt3cR4dVXYKAZZ7X1Fd4ms7RxDR5ZPFqW25PB90WalIiJucmy1jMtXZe3TMzX7tnUwG3IbAP1g3IGCadHEdiNPQlGepVaOoVG-2nCCQkDa3TsuThhFdx3fqKm30bY1731orcJ4XeeZp_Xbg0Zwgz77z8F3mxHhTK3MJg4yhWcVswbeaORutvCjmIHrTiKjRysBq8H-MJVrGzyRFYoGBccbZ0eWbvZD50dH02nkdSZzdCPR59ipVkHgJuNipRZ8BzsnmG6eHzMVz-4QAuE6FeESqUwEm75h9GhDSWNHlgN7tLnamJXxoQSiL2j_2rPgAL9RZ7G5QHiwpYEs8_jL9ImejV7QcGpHx_Io1vF5F5uV7tRhnQOjGIvrutZNdFt5G9Qz_jEdDCiIJbWCaZefeB73fv504aAeLM3Zv3y0e8ZPCpvP8KkH0zqWE1H11yfXf5pmPsnFnal95DdpQzFuknTA33htUezQvCHtdO396PC0YIkXokKgdB4E4LZCDC8k7fLBSNy6PnIvnIZddoWsqdx6H9o1jda3V7kSBc_sImeIBLdBnrdF-UNBXzpwC-lDz7XeN07l3Xpz571LNNEMQLBV6IiMxurHTT_OZwRdjiQC006AVDvd6fiW4kHr9KeIz4IshuvcF_-XNSvUqw../download\n",
      "Resolving public.boxcloud.com (public.boxcloud.com)... 74.112.186.130, 74.112.186.130\n",
      "Connecting to public.boxcloud.com (public.boxcloud.com)|74.112.186.130|:443... connected.\n",
      "HTTP request sent, awaiting response... 200 OK\n",
      "Length: 24383 (24K) [image/jpeg]\n",
      "Saving to: ‘destructed3.jpg’\n",
      "\n",
      "destructed3.jpg     100%[===================>]  23.81K  --.-KB/s    in 0.002s  \n",
      "\n",
      "2024-07-22 02:07:17 (14.4 MB/s) - ‘destructed3.jpg’ saved [24383/24383]\n",
      "\n"
     ]
    },
    {
     "data": {
      "image/png": "[encoded data removed]",
      "text/plain": [
       "<PIL.JpegImagePlugin.JpegImageFile image mode=RGB size=181x181 at 0x7F3C5CCFC750>"
      ]
     },
     "execution_count": 22,
     "metadata": {},
     "output_type": "execute_result"
    }
   ],
   "source": [
    "!wget -O destructed3.jpg  https://ibm.box.com/shared/static/vvm1b63uvuxq88vbw9znpwu5ol380mco.jpg\n",
    "img = Image.open('destructed3.jpg')\n",
    "img"
   ]
  },
  {
   "cell_type": "markdown",
   "metadata": {},
   "source": [
    "Now let's pass this image through the neural net:\n"
   ]
  },
  {
   "cell_type": "code",
   "execution_count": 23,
   "metadata": {},
   "outputs": [],
   "source": [
    "# convert the image to a 1d numpy array\n",
    "sample_case = np.array(img.convert('I').resize((28,28))).ravel().reshape((1, -1))/255.0\n",
    "\n",
    "sample_case = tf.cast(sample_case, dtype=tf.float32)"
   ]
  },
  {
   "cell_type": "markdown",
   "metadata": {},
   "source": [
    "Feed the sample case into the network and reconstruct the output:\n"
   ]
  },
  {
   "cell_type": "code",
   "execution_count": 24,
   "metadata": {},
   "outputs": [
    {
     "name": "stdout",
     "output_type": "stream",
     "text": [
      "Probability nodes in hidden layer: tf.Tensor(\n",
      "[[1.22493418e-10 1.10842387e-16 9.93743598e-01 1.63019533e-04\n",
      "  2.79500987e-02 9.99993503e-01 1.55165269e-13 9.99997914e-01\n",
      "  9.99988675e-01 9.97423410e-01 3.29063914e-05 2.65862473e-13\n",
      "  4.01681794e-14 2.60353810e-03 2.83666683e-04 1.00000000e+00\n",
      "  3.48677929e-03 1.00000000e+00 1.00000000e+00 6.94495104e-15\n",
      "  2.06785416e-03 4.14678326e-11 7.93703198e-01 9.99991775e-01\n",
      "  4.45629827e-14 3.49304252e-10 2.21404992e-03 2.23763011e-04\n",
      "  9.99544680e-01 7.41034456e-10 2.72717240e-04 4.14487750e-11\n",
      "  9.99994874e-01 9.97822881e-01 8.38889318e-05 8.11522126e-01\n",
      "  4.78575203e-07 7.02914636e-12 9.99999881e-01 1.30337730e-06\n",
      "  2.08231938e-07 9.99688566e-01 6.76398804e-09 1.00000000e+00\n",
      "  5.40148449e-07 1.17057454e-04 9.38996964e-05 3.28404349e-05\n",
      "  9.00052369e-01 2.43783783e-04]], shape=(1, 50), dtype=float32)\n",
      "activated nodes in hidden layer: tf.Tensor(\n",
      "[[0. 0. 1. 0. 0. 1. 0. 1. 1. 1. 0. 0. 0. 0. 0. 1. 0. 1. 1. 0. 0. 0. 1. 1.\n",
      "  0. 0. 0. 0. 1. 0. 0. 0. 1. 1. 0. 1. 0. 0. 1. 0. 0. 1. 0. 1. 0. 0. 0. 0.\n",
      "  1. 0.]], shape=(1, 50), dtype=float32)\n",
      "tf.Tensor(\n",
      "[[1.61294302e-04 1.33387570e-04 1.33387570e-04 2.47929012e-04\n",
      "  1.85527999e-04 1.41634562e-04 1.78254631e-04 9.78361495e-05\n",
      "  2.09177466e-04 2.22109273e-04 1.61294302e-04 1.48895138e-04\n",
      "  1.42990597e-04 1.20388315e-04 2.35314365e-04 1.40622054e-04\n",
      "  1.81855066e-04 1.91177227e-04 1.30746615e-04 1.18305841e-04\n",
      "  1.50391352e-04 1.32060493e-04 1.29445791e-04 1.76481422e-04\n",
      "  1.30746732e-04 2.02996453e-04 8.94163313e-05 1.67875754e-04\n",
      "  1.62915108e-04 1.89275306e-04 1.24370796e-04 1.59689618e-04\n",
      "  1.82770149e-04 1.36943476e-04 1.56129667e-04 1.90414416e-04\n",
      "  1.68627826e-04 1.85724653e-04 4.20318131e-04 5.74739068e-04\n",
      "  3.53590091e-04 3.07651528e-04 3.36496334e-04 2.11287785e-04\n",
      "  2.90719385e-04 3.44599131e-04 3.26489942e-04 2.22527728e-04\n",
      "  1.73170905e-04 1.39956275e-04 1.73476481e-04 9.59743920e-05\n",
      "  2.22109273e-04 1.91177038e-04 1.30746615e-04 1.21908444e-04\n",
      "  2.26595279e-04 3.18325008e-04 1.18315213e-04 1.47379498e-04\n",
      "  2.03219752e-04 1.31708875e-04 2.21926821e-04 3.90089233e-04\n",
      "  2.47949589e-04 3.05500056e-04 1.27526946e-04 2.36517502e-04\n",
      "  2.76036561e-04 1.68351035e-04 1.60513679e-04 6.26449997e-04\n",
      "  3.33831791e-04 2.59967259e-04 1.33028370e-04 3.86845968e-05\n",
      "  4.20147881e-05 7.96240274e-05 1.50551044e-04 1.84252349e-04\n",
      "  2.24473304e-04 1.76066955e-04 2.07096280e-04 1.81854892e-04\n",
      "  2.40603651e-04 2.02996656e-04 2.43145230e-04 2.01300500e-04\n",
      "  2.11461738e-04 3.09441501e-04 3.73040762e-04 2.95603793e-04\n",
      "  2.64146918e-04 1.53569446e-04 1.27743100e-04 2.00287730e-04\n",
      "  4.57462476e-04 1.33580656e-03 3.35905002e-03 6.10038592e-03\n",
      "  1.00970995e-02 3.87899694e-03 1.37541408e-03 4.33391193e-04\n",
      "  1.82850999e-04 7.04662307e-05 9.71181871e-05 1.55299684e-04\n",
      "  1.52888708e-04 1.49158441e-04 1.69482824e-04 1.17128911e-04\n",
      "  1.61294302e-04 1.28460015e-04 1.86901030e-04 1.28017477e-04\n",
      "  3.90011875e-04 7.07255676e-04 7.08199921e-04 6.17357437e-04\n",
      "  6.66621898e-04 5.14542975e-04 1.46904355e-03 5.44690574e-03\n",
      "  4.46535461e-03 1.42876338e-02 8.31016079e-02 1.84080899e-01\n",
      "  1.47244617e-01 1.52008310e-01 4.93028276e-02 1.37192551e-02\n",
      "  2.33662385e-03 1.62752892e-03 6.58817415e-04 7.89465674e-04\n",
      "  5.37083833e-04 2.66789517e-04 1.79700422e-04 1.65153295e-04\n",
      "  2.38210108e-04 1.48895269e-04 1.32361296e-04 2.14661050e-04\n",
      "  1.09403778e-03 1.14364561e-03 1.57637347e-03 3.14210425e-03\n",
      "  4.83413786e-03 1.06030088e-02 2.54658870e-02 5.93883060e-02\n",
      "  1.04933240e-01 4.52392876e-01 5.55971265e-01 7.20042169e-01\n",
      "  6.91574156e-01 6.42078102e-01 4.08323228e-01 2.30875000e-01\n",
      "  3.30683105e-02 6.74046110e-03 2.89471308e-03 6.44896529e-04\n",
      "  3.26586422e-04 5.02934854e-04 2.91232864e-04 1.46377264e-04\n",
      "  1.24370796e-04 8.22385846e-05 2.11312377e-04 7.55175308e-04\n",
      "  2.13486049e-03 1.45458151e-02 1.22134350e-02 1.70013364e-02\n",
      "  2.88338382e-02 5.08743972e-02 2.56729692e-01 6.99296772e-01\n",
      "  8.44662786e-01 9.40769792e-01 9.20145154e-01 9.33366776e-01\n",
      "  7.55400360e-01 8.52562249e-01 7.51468956e-01 7.78681815e-01\n",
      "  5.58559239e-01 1.02221817e-01 1.54518690e-02 2.38014385e-03\n",
      "  3.05041933e-04 4.06753214e-04 2.70062999e-04 9.90987683e-05\n",
      "  9.18254518e-05 2.00780443e-04 4.81426221e-04 1.34486472e-03\n",
      "  8.44020676e-03 2.94845644e-02 5.39291687e-02 8.93337131e-02\n",
      "  2.56272286e-01 5.71356893e-01 7.69823492e-01 9.41745758e-01\n",
      "  9.65072811e-01 9.55641210e-01 9.56659675e-01 8.61294389e-01\n",
      "  6.27633512e-01 5.68837702e-01 7.48251736e-01 9.04941797e-01\n",
      "  8.90410066e-01 5.15658736e-01 1.00738578e-01 6.40102709e-03\n",
      "  8.86741444e-04 3.62818973e-04 3.11169802e-04 2.62113608e-04\n",
      "  2.20789836e-04 1.95497923e-04 7.94518448e-04 2.77644861e-03\n",
      "  1.18314149e-02 3.02300658e-02 1.21911831e-01 2.09919140e-01\n",
      "  4.39855814e-01 5.97034633e-01 8.90044689e-01 9.53269124e-01\n",
      "  9.36740458e-01 8.08118701e-01 6.48744464e-01 3.29274237e-01\n",
      "  9.60780457e-02 2.55786151e-01 3.43830794e-01 8.78081143e-01\n",
      "  9.31244731e-01 6.19094312e-01 1.01054348e-01 1.87697671e-02\n",
      "  1.41607900e-03 2.03364747e-04 1.88824124e-04 2.65724375e-04\n",
      "  1.21574463e-04 1.63638731e-04 3.39570543e-04 1.47415779e-03\n",
      "  1.08141536e-02 4.85192016e-02 2.29449049e-01 1.88458204e-01\n",
      "  3.81442249e-01 5.26658297e-01 7.33781219e-01 7.05913365e-01\n",
      "  4.40668225e-01 2.20252365e-01 3.72978561e-02 3.51720862e-02\n",
      "  2.10424159e-02 1.60887435e-01 2.55747497e-01 8.25255692e-01\n",
      "  8.99493337e-01 6.33269370e-01 7.25628138e-02 5.81669435e-03\n",
      "  5.86930430e-04 1.06534877e-04 2.00497510e-04 2.11901526e-04\n",
      "  1.85943485e-04 2.11411942e-04 4.72898595e-04 2.47555482e-03\n",
      "  1.36342766e-02 6.91015944e-02 1.15378365e-01 7.11354613e-02\n",
      "  1.72910377e-01 1.91467002e-01 2.42879465e-01 8.37971866e-02\n",
      "  1.99543983e-02 1.10527072e-02 1.20253470e-02 1.97951347e-02\n",
      "  8.10262263e-02 3.14693987e-01 6.28268421e-01 8.66742015e-01\n",
      "  7.83381045e-01 4.87422734e-01 2.61629168e-02 2.53366702e-03\n",
      "  5.06186800e-04 1.66173573e-04 1.96089357e-04 1.57161630e-04\n",
      "  1.40258606e-04 1.31662528e-04 3.48854141e-04 1.46667426e-03\n",
      "  5.02042100e-03 2.52605230e-02 3.05161029e-02 3.80581543e-02\n",
      "  7.10804537e-02 6.20872192e-02 3.81401144e-02 2.86262184e-02\n",
      "  1.33648021e-02 5.37483022e-02 5.66843934e-02 3.28038752e-01\n",
      "  6.03697896e-01 8.57280254e-01 8.80535364e-01 7.36741900e-01\n",
      "  4.14512068e-01 8.89759809e-02 4.35002288e-03 5.83078421e-04\n",
      "  2.00733950e-04 1.00496138e-04 1.66121128e-04 1.85797617e-04\n",
      "  1.20624682e-04 2.22022049e-04 4.75371024e-04 6.36594545e-04\n",
      "  3.50191258e-03 2.23909169e-02 1.30122313e-02 1.63668916e-02\n",
      "  1.90030709e-02 3.10988445e-02 4.71570902e-02 9.37176421e-02\n",
      "  2.29074687e-01 5.24387062e-01 6.66048348e-01 9.47775960e-01\n",
      "  9.49591994e-01 9.44029391e-01 8.19920599e-01 4.86409366e-01\n",
      "  9.17990282e-02 2.08065175e-02 3.61425942e-03 2.70172197e-04\n",
      "  1.53021712e-04 2.51770369e-04 2.39240078e-04 1.84360790e-04\n",
      "  1.63330726e-04 1.61851698e-04 2.13109946e-04 6.16266334e-04\n",
      "  2.00052117e-03 5.44392550e-03 8.67513660e-03 6.91102492e-03\n",
      "  1.12048890e-02 1.69100538e-02 8.89635608e-02 3.21215838e-01\n",
      "  6.43841624e-01 8.54429185e-01 9.23131227e-01 9.73261893e-01\n",
      "  9.87618148e-01 9.55692470e-01 8.02293837e-01 1.81781664e-01\n",
      "  2.45944485e-02 5.24614006e-03 2.11930647e-03 1.87872472e-04\n",
      "  6.88658329e-05 3.11865966e-04 3.21750500e-04 1.36782692e-04\n",
      "  9.76025331e-05 1.32980291e-04 3.57645797e-04 8.10396567e-04\n",
      "  1.10278081e-03 2.97849136e-03 3.34510161e-03 3.32135125e-03\n",
      "  8.46049096e-03 1.37002086e-02 1.50777042e-01 5.36806583e-01\n",
      "  7.20241487e-01 8.62108231e-01 8.54483306e-01 9.36724842e-01\n",
      "  9.57529068e-01 9.37684894e-01 5.12300730e-01 9.81650725e-02\n",
      "  1.40480334e-02 3.34620033e-03 1.20135106e-03 2.23870360e-04\n",
      "  6.87961292e-05 1.59577598e-04 3.20705585e-04 1.49088053e-04\n",
      "  1.38977630e-04 1.42968114e-04 2.77609040e-04 8.23134265e-04\n",
      "  2.39093578e-03 2.27097212e-03 2.97471299e-03 7.29269441e-03\n",
      "  5.67202130e-03 1.42539823e-02 6.34810701e-02 1.78379312e-01\n",
      "  3.95067930e-01 3.00513566e-01 3.15021604e-01 5.65544188e-01\n",
      "  7.86390722e-01 9.38467026e-01 6.25323653e-01 1.08713835e-01\n",
      "  1.37677547e-02 2.88281566e-03 1.19840121e-03 3.05183930e-04\n",
      "  7.92482242e-05 2.13219886e-04 3.22306179e-04 2.49724428e-04\n",
      "  1.75171575e-04 1.65334801e-04 4.57419897e-04 1.80580572e-03\n",
      "  6.07737340e-03 3.18155345e-03 5.15428279e-03 6.15527248e-03\n",
      "  9.35881212e-03 7.61420932e-03 1.38488514e-02 2.50721779e-02\n",
      "  3.02271508e-02 1.57924164e-02 2.96083223e-02 1.42890036e-01\n",
      "  6.92313790e-01 8.43716025e-01 5.49533904e-01 1.38873965e-01\n",
      "  1.76668260e-02 4.54579899e-03 1.95346796e-03 5.59632317e-04\n",
      "  1.25528531e-04 1.35864175e-04 1.55464295e-04 1.29745837e-04\n",
      "  1.34727874e-04 1.66597165e-04 7.00332283e-04 3.02019273e-03\n",
      "  1.52255250e-02 1.40794972e-02 1.06527368e-02 1.22538684e-02\n",
      "  7.32028671e-03 4.39544674e-03 6.21302892e-03 1.40070105e-02\n",
      "  4.03717626e-03 3.18335975e-03 1.45736877e-02 8.14053863e-02\n",
      "  4.85233068e-01 7.50214338e-01 3.82546216e-01 9.52732489e-02\n",
      "  3.44006233e-02 2.52789501e-02 4.74731531e-03 1.03239133e-03\n",
      "  4.27387131e-04 4.49459621e-04 2.77478830e-04 1.61231103e-04\n",
      "  2.10411483e-04 2.58105312e-04 2.35997047e-03 1.80417374e-02\n",
      "  6.21324144e-02 3.36277597e-02 7.27763250e-02 2.55803950e-02\n",
      "  1.25456946e-02 3.22039286e-03 5.12656430e-03 9.17471386e-03\n",
      "  5.92915760e-03 8.62785242e-03 2.87746564e-02 7.42451996e-02\n",
      "  4.06598836e-01 6.29032612e-01 3.06786507e-01 1.44576728e-01\n",
      "  6.56262115e-02 4.06495370e-02 1.37225073e-02 4.27173171e-03\n",
      "  9.39888356e-04 5.26640448e-04 4.34183865e-04 1.54146721e-04\n",
      "  1.51367640e-04 2.03706295e-04 3.33910901e-03 7.31597990e-02\n",
      "  1.70198038e-01 1.69419944e-01 1.90291435e-01 6.38708398e-02\n",
      "  3.31431665e-02 1.31978085e-02 1.84626412e-02 3.08214556e-02\n",
      "  2.99815349e-02 1.33990180e-02 3.12614255e-02 2.01221168e-01\n",
      "  5.83118737e-01 7.32046545e-01 4.68779922e-01 7.56951496e-02\n",
      "  5.68525083e-02 2.71648355e-02 1.13618216e-02 2.65824283e-03\n",
      "  2.47032731e-03 3.24755849e-04 4.65049670e-04 1.79566661e-04\n",
      "  1.51902772e-04 1.94191700e-04 4.00860794e-03 1.04042314e-01\n",
      "  3.15862924e-01 5.12896776e-01 4.71648723e-01 2.75704384e-01\n",
      "  2.34722748e-01 5.82425743e-02 7.12382123e-02 7.68224970e-02\n",
      "  7.60012046e-02 6.33943155e-02 1.57963663e-01 5.84720314e-01\n",
      "  8.23298097e-01 7.71139503e-01 3.20965528e-01 7.13599473e-02\n",
      "  7.21109286e-02 2.35071108e-02 6.59668678e-03 3.55897495e-03\n",
      "  3.19673191e-03 1.46236981e-03 5.25565585e-04 1.49140673e-04\n",
      "  1.99735994e-04 1.49392596e-04 6.05554739e-03 1.56566784e-01\n",
      "  4.58588153e-01 7.08573222e-01 8.36113870e-01 7.42166638e-01\n",
      "  4.52158779e-01 2.14789867e-01 2.89475113e-01 3.88380140e-01\n",
      "  2.48251960e-01 3.37113023e-01 5.99158168e-01 7.77283251e-01\n",
      "  8.94892275e-01 6.23162866e-01 1.57763466e-01 3.41111384e-02\n",
      "  2.21555233e-02 6.40047854e-03 6.62145903e-03 3.94034479e-03\n",
      "  3.14270472e-03 1.25558127e-03 2.24358839e-04 2.16359360e-04\n",
      "  1.53947389e-04 1.21641133e-04 2.93244701e-03 1.10846855e-01\n",
      "  5.38240790e-01 8.10976028e-01 8.44841003e-01 9.32955086e-01\n",
      "  8.84246528e-01 6.71993971e-01 6.41908526e-01 6.88550174e-01\n",
      "  4.60892856e-01 4.00886953e-01 6.93060935e-01 7.69945383e-01\n",
      "  5.37082911e-01 1.78386956e-01 1.70426406e-02 1.47511410e-02\n",
      "  1.14566786e-02 1.05612716e-02 6.94925291e-03 5.86208887e-03\n",
      "  2.84536695e-03 8.62052257e-04 2.69903161e-04 1.03410006e-04\n",
      "  1.67875594e-04 2.52936356e-04 6.46447239e-04 1.05885779e-02\n",
      "  2.19290599e-01 6.16973042e-01 6.71315312e-01 9.17304933e-01\n",
      "  9.22400057e-01 8.67508829e-01 7.13137925e-01 3.88445765e-01\n",
      "  2.54391462e-01 1.58923924e-01 9.74557400e-02 1.38007149e-01\n",
      "  8.35208818e-02 2.80060526e-02 1.58137977e-02 5.02346130e-03\n",
      "  9.88571160e-03 6.93899626e-03 2.94534070e-03 2.96891341e-03\n",
      "  2.14844127e-03 3.19037179e-04 1.67606238e-04 1.80045841e-04\n",
      "  1.83682263e-04 1.51902772e-04 2.27628392e-04 9.41274804e-04\n",
      "  1.50029333e-02 2.06152916e-01 5.68953037e-01 5.70955873e-01\n",
      "  7.83161521e-01 8.10980380e-01 4.35485959e-01 1.52291492e-01\n",
      "  1.17219120e-01 3.44984494e-02 7.86457583e-03 1.63693167e-02\n",
      "  3.10568437e-02 2.38768291e-02 2.93263211e-03 9.94506874e-04\n",
      "  2.41887197e-03 1.17152953e-03 1.83200464e-03 7.76392524e-04\n",
      "  3.78386787e-04 1.63125893e-04 1.90182880e-04 1.20695549e-04\n",
      "  1.26882864e-04 1.91177227e-04 1.39277559e-04 1.18607895e-04\n",
      "  2.76349369e-04 2.75934208e-03 7.01115793e-03 3.81860361e-02\n",
      "  1.02564141e-01 7.91442320e-02 2.09157541e-02 1.38468323e-02\n",
      "  6.29504910e-03 2.32414971e-03 3.26912105e-03 4.28349106e-03\n",
      "  1.20210089e-02 6.01562159e-03 1.74693577e-03 6.45992754e-04\n",
      "  7.02341727e-04 4.61327611e-04 2.58177199e-04 3.95478477e-04\n",
      "  1.64687823e-04 2.95012811e-04 1.36188581e-04 1.40225573e-04\n",
      "  2.15546432e-04 2.31171623e-04 1.76481422e-04 1.42330580e-04\n",
      "  2.08538811e-04 1.09048816e-03 1.17230800e-03 1.37247459e-03\n",
      "  2.14810297e-03 1.26531348e-03 1.55047490e-03 4.17235657e-04\n",
      "  1.81018069e-04 1.53984831e-04 1.79673894e-04 5.19833528e-04\n",
      "  5.91284712e-04 3.45425855e-04 2.31326863e-04 1.84614080e-04\n",
      "  2.52758909e-04 2.81136337e-04 1.74247019e-04 1.95130298e-04\n",
      "  1.26723986e-04 1.52027817e-04 1.81855066e-04 1.62915108e-04\n",
      "  1.17128911e-04 2.73996877e-04 2.60637578e-04 1.64552039e-04\n",
      "  1.86805541e-04 1.41890458e-04 2.23288182e-04 2.69005308e-04\n",
      "  3.60843347e-04 1.16868620e-03 6.59601705e-04 7.62970536e-04\n",
      "  6.88333821e-04 3.81067715e-04 3.67497239e-04 1.97478352e-04\n",
      "  4.36590693e-04 5.55277395e-04 2.79520726e-04 1.66101483e-04\n",
      "  1.65613790e-04 9.08192815e-05 1.67968130e-04 1.09532819e-04\n",
      "  1.51902626e-04 2.31171623e-04 1.38830321e-04 1.71266220e-04]], shape=(1, 784), dtype=float32)\n"
     ]
    }
   ],
   "source": [
    "hh0_p = tf.nn.sigmoid(tf.matmul(sample_case, W) + hb)\n",
    "hh0_s = tf.round(hh0_p)\n",
    "\n",
    "print(\"Probability nodes in hidden layer:\" ,hh0_p)\n",
    "print(\"activated nodes in hidden layer:\" ,hh0_s)\n",
    "\n",
    "# reconstruct\n",
    "vv1_p = tf.nn.sigmoid(tf.matmul(hh0_s, tf.transpose(W)) + vb)\n",
    "\n",
    "print(vv1_p)\n",
    "#rec_prob = sess.run(vv1_p, feed_dict={ hh0_s: hh0_s_val, W: prv_w, vb: prv_vb})"
   ]
  },
  {
   "cell_type": "markdown",
   "metadata": {},
   "source": [
    "Here we plot the reconstructed image:\n"
   ]
  },
  {
   "cell_type": "code",
   "execution_count": 25,
   "metadata": {},
   "outputs": [
    {
     "data": {
      "image/png": "[encoded data removed]",
      "text/plain": [
       "<Figure size 400x400 with 1 Axes>"
      ]
     },
     "metadata": {},
     "output_type": "display_data"
    }
   ],
   "source": [
    "img = Image.fromarray(tile_raster_images(X=vv1_p.numpy(), img_shape=(28, 28),tile_shape=(1, 1), tile_spacing=(1, 1)))\n",
    "plt.rcParams['figure.figsize'] = (4.0, 4.0)\n",
    "imgplot = plt.imshow(img)\n",
    "imgplot.set_cmap('gray') "
   ]
  },
  {
   "cell_type": "markdown",
   "metadata": {},
   "source": [
    "<hr>\n",
    "\n",
    "## Want to learn more?\n",
    "\n",
    "Also, you can use __Watson Studio__ to run these notebooks faster with bigger datasets.__Watson Studio__ is IBM’s leading cloud solution for data scientists, built by data scientists. With Jupyter notebooks, RStudio, Apache Spark and popular libraries pre-packaged in the cloud, __Watson Studio__ enables data scientists to collaborate on their projects without having to install anything. Join the fast-growing community of __Watson Studio__ users today with a free account at [Watson Studio](https://cocl.us/ML0120EN_DSX).This is the end of this lesson. Thank you for reading this notebook, and good luck on your studies.\n"
   ]
  },
  {
   "cell_type": "markdown",
   "metadata": {},
   "source": [
    "### Thanks for completing this lesson!\n",
    "\n",
    "Notebook created by: <a href = \"https://ca.linkedin.com/in/saeedaghabozorgi\">Saeed Aghabozorgi</a>\n",
    "\n",
    "Updated to TF 2.X by  <a href=\"https://ca.linkedin.com/in/nilmeier\"> Jerome Nilmeier</a><br />\n"
   ]
  },
  {
   "cell_type": "markdown",
   "metadata": {},
   "source": [
    "### References:\n",
    "https://en.wikipedia.org/wiki/Restricted_Boltzmann_machine  \n",
    "https://www.geeksforgeeks.org/deep-learning-tutorial/ \n",
    "http://www.cs.utoronto.ca/~hinton/absps/netflixICML.pdf<br>\n",
    "https://en.wikipedia.org/wiki/Restricted_Boltzmann_machine  \n"
   ]
  },
  {
   "cell_type": "markdown",
   "metadata": {},
   "source": [
    "<hr>\n",
    "\n",
    "Copyright &copy; 2018 [Cognitive Class](https://cocl.us/DX0108EN_CC). This notebook and its source code are released under the terms of the [MIT License](https://bigdatauniversity.com/mit-license/).\n"
   ]
  }
 ],
 "metadata": {
  "kernelspec": {
   "display_name": "Python",
   "language": "python",
   "name": "conda-env-python-py"
  },
  "language_info": {
   "codemirror_mode": {
    "name": "ipython",
    "version": 3
   },
   "file_extension": ".py",
   "mimetype": "text/x-python",
   "name": "python",
   "nbconvert_exporter": "python",
   "pygments_lexer": "ipython3",
   "version": "3.7.12"
  },
  "prev_pub_hash": "f4c64de5fb70d125596834382afe1f6deeca1efca05c05d070b1e0d77c81932b"
 },
 "nbformat": 4,
 "nbformat_minor": 4
}
